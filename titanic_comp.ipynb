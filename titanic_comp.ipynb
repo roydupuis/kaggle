{
  "nbformat": 4,
  "nbformat_minor": 0,
  "metadata": {
    "kernelspec": {
      "display_name": "Python 3",
      "language": "python",
      "name": "python3"
    },
    "language_info": {
      "codemirror_mode": {
        "name": "ipython",
        "version": 3
      },
      "file_extension": ".py",
      "mimetype": "text/x-python",
      "name": "python",
      "nbconvert_exporter": "python",
      "pygments_lexer": "ipython3",
      "version": "3.7.9"
    },
    "papermill": {
      "default_parameters": {},
      "duration": 31.027419,
      "end_time": "2021-03-08T22:38:14.126484",
      "environment_variables": {},
      "exception": null,
      "input_path": "__notebook__.ipynb",
      "output_path": "__notebook__.ipynb",
      "parameters": {},
      "start_time": "2021-03-08T22:37:43.099065",
      "version": "2.2.2"
    },
    "colab": {
      "name": "titanic-comp.ipynb",
      "provenance": [],
      "toc_visible": true,
      "include_colab_link": true
    }
  },
  "cells": [
    {
      "cell_type": "markdown",
      "metadata": {
        "id": "view-in-github",
        "colab_type": "text"
      },
      "source": [
        "<a href=\"https://colab.research.google.com/github/roydupuis/kaggle/blob/main/titanic_comp.ipynb\" target=\"_parent\"><img src=\"https://colab.research.google.com/assets/colab-badge.svg\" alt=\"Open In Colab\"/></a>"
      ]
    },
    {
      "cell_type": "markdown",
      "metadata": {
        "papermill": {
          "duration": 0.050519,
          "end_time": "2021-03-08T22:37:49.176162",
          "exception": false,
          "start_time": "2021-03-08T22:37:49.125643",
          "status": "completed"
        },
        "tags": [],
        "id": "rn_SIJ704KMx"
      },
      "source": [
        "![titanic](https://www.history.com/.image/ar_233:100%2Cc_fill%2Ccs_srgb%2Cg_faces:center%2Cq_auto:good%2Cw_3840/MTc2NTQ1ODM1NDQwNDgyMDU4/sinking-of-the-titanic-gettyimages-542907919-1.webp)"
      ]
    },
    {
      "cell_type": "markdown",
      "metadata": {
        "papermill": {
          "duration": 0.045813,
          "end_time": "2021-03-08T22:37:49.268953",
          "exception": false,
          "start_time": "2021-03-08T22:37:49.223140",
          "status": "completed"
        },
        "tags": [],
        "id": "mkdvGSDt4KM4"
      },
      "source": [
        "# <div align=\"center\"> Work In Progress 👷‍</div>\n",
        "<div align='center'> This is my first Kaggle competition and is a work in progress. Please comment below if you have any questions or ideas. </div>"
      ]
    },
    {
      "cell_type": "markdown",
      "metadata": {
        "papermill": {
          "duration": 0.045437,
          "end_time": "2021-03-08T22:37:49.360247",
          "exception": false,
          "start_time": "2021-03-08T22:37:49.314810",
          "status": "completed"
        },
        "tags": [],
        "id": "C-s9mcw74KM4"
      },
      "source": [
        "# Table of Contents\n",
        "<a id='table-of-contents'></a>\n",
        "1. [Overview](#overview)\n",
        "1. [System Setup](#setup)\n",
        "1. [Exploratory Data Analysis](#eda)\n",
        "1. [Preprocessing](#preprocessing)\n",
        "1. [Training Models](#training)\n",
        "1. [Evaluate -> Tune -> Ensemble](#evaluate)\n",
        "1. [Conclusion](#conclusion)"
      ]
    },
    {
      "cell_type": "markdown",
      "metadata": {
        "papermill": {
          "duration": 0.045749,
          "end_time": "2021-03-08T22:37:49.451831",
          "exception": false,
          "start_time": "2021-03-08T22:37:49.406082",
          "status": "completed"
        },
        "tags": [],
        "id": "q5sPRzXc4KM5"
      },
      "source": [
        "<a id=\"overview\"></a>\n",
        "# <div align='center'>1. Overview\n",
        "## The Challenge\n",
        "The sinking of the Titanic is one of the most infamous shipwrecks in history.\n",
        "\n",
        "On April 15, 1912, during her maiden voyage, the widely considered “unsinkable” RMS Titanic sank after colliding with an iceberg. Unfortunately, there weren’t enough lifeboats for everyone onboard, resulting in the death of 1502 out of 2224 passengers and crew.\n",
        "\n",
        "While there was some element of luck involved in surviving, it seems some groups of people were more likely to survive than others.\n",
        "\n",
        "In this challenge, we ask you to build a predictive model that answers the question: “what sorts of people were more likely to survive?” using passenger data (ie name, age, gender, socio-economic class, etc).\n",
        "\n",
        "## Goal\n",
        "It is your job to predict if a passenger survived the sinking of the Titanic or not.\n",
        "For each in the test set, you must predict a 0 or 1 value for the variable.\n",
        "\n",
        "Metric\n",
        "Your score is the percentage of passengers you correctly predict. This is known as accuracy.\n",
        "\n",
        "Submission File Format\n",
        "You should submit a csv file with exactly 418 entries plus a header row. Your submission will show an error if you have extra columns (beyond PassengerId and Survived) or rows.\n",
        "\n",
        "The file should have exactly 2 columns:\n",
        "\n",
        "PassengerId (sorted in any order)\n",
        "\n",
        "Survived (contains your binary predictions: 1 for survived, 0 for deceased)\n",
        "\n",
        "```\n",
        "PassengerId,Survived\n",
        "892,0\n",
        "893,1\n",
        "894,0\n",
        "Etc.\n",
        "```"
      ]
    },
    {
      "cell_type": "markdown",
      "metadata": {
        "papermill": {
          "duration": 0.046642,
          "end_time": "2021-03-08T22:37:49.544602",
          "exception": false,
          "start_time": "2021-03-08T22:37:49.497960",
          "status": "completed"
        },
        "tags": [],
        "id": "46tgzm2E4KM6"
      },
      "source": [
        "<a id=\"setup\"></a>\n",
        "# <div align='center'>2. Setup System Environment"
      ]
    },
    {
      "cell_type": "code",
      "metadata": {
        "_cell_guid": "b1076dfc-b9ad-4769-8c92-a6c4dae69d19",
        "_uuid": "8f2839f25d086af736a60e9eeb907d3b93b6e0e5",
        "execution": {
          "iopub.execute_input": "2021-03-08T22:37:49.646546Z",
          "iopub.status.busy": "2021-03-08T22:37:49.645503Z",
          "iopub.status.idle": "2021-03-08T22:37:50.631478Z",
          "shell.execute_reply": "2021-03-08T22:37:50.632107Z"
        },
        "papermill": {
          "duration": 1.036254,
          "end_time": "2021-03-08T22:37:50.632453",
          "exception": false,
          "start_time": "2021-03-08T22:37:49.596199",
          "status": "completed"
        },
        "tags": [],
        "id": "kGKEX8vj4KM6"
      },
      "source": [
        "# This Python 3 environment comes with many helpful analytics libraries installed\n",
        "# It is defined by the kaggle/python Docker image: https://github.com/kaggle/docker-python\n",
        "# For example, here's several helpful packages to load\n",
        "\n",
        "import numpy as np # linear algebra\n",
        "import pandas as pd # data processing, CSV file I/O (e.g. pd.read_csv)\n",
        "import seaborn as sns\n",
        "import matplotlib.pyplot as plt\n",
        "%matplotlib inline\n",
        "\n",
        "# Input data files are available in the read-only \"../input/\" directory\n",
        "# For example, running this (by clicking run or pressing Shift+Enter) will list all files under the input directory\n",
        "\n",
        "import os\n",
        "for dirname, _, filenames in os.walk('/kaggle/input'):\n",
        "    for filename in filenames:\n",
        "        print(os.path.join(dirname, filename))\n",
        "\n",
        "# You can write up to 20GB to the current directory (/kaggle/working/) that gets preserved as output when you create a version using \"Save & Run All\" \n",
        "# You can also write temporary files to /kaggle/temp/, but they won't be saved outside of the current session"
      ],
      "execution_count": 1,
      "outputs": []
    },
    {
      "cell_type": "code",
      "metadata": {
        "execution": {
          "iopub.execute_input": "2021-03-08T22:37:50.742513Z",
          "iopub.status.busy": "2021-03-08T22:37:50.741422Z",
          "iopub.status.idle": "2021-03-08T22:37:50.745366Z",
          "shell.execute_reply": "2021-03-08T22:37:50.745921Z"
        },
        "papermill": {
          "duration": 0.066196,
          "end_time": "2021-03-08T22:37:50.746136",
          "exception": false,
          "start_time": "2021-03-08T22:37:50.679940",
          "status": "completed"
        },
        "tags": [],
        "colab": {
          "base_uri": "https://localhost:8080/",
          "height": 35
        },
        "id": "Pgq2Bp3M4KM8",
        "outputId": "b490f1d4-e4bc-41cb-b980-f03a846f508b"
      },
      "source": [
        "# Check python system version\n",
        "import sys\n",
        "sys.version"
      ],
      "execution_count": 2,
      "outputs": [
        {
          "output_type": "execute_result",
          "data": {
            "application/vnd.google.colaboratory.intrinsic+json": {
              "type": "string"
            },
            "text/plain": [
              "'3.7.10 (default, Feb 20 2021, 21:17:23) \\n[GCC 7.5.0]'"
            ]
          },
          "metadata": {
            "tags": []
          },
          "execution_count": 2
        }
      ]
    },
    {
      "cell_type": "markdown",
      "metadata": {
        "papermill": {
          "duration": 0.047554,
          "end_time": "2021-03-08T22:37:50.846132",
          "exception": false,
          "start_time": "2021-03-08T22:37:50.798578",
          "status": "completed"
        },
        "tags": [],
        "id": "zVDzAT0A4KM8"
      },
      "source": [
        "<a id=\"eda\"></a>\n",
        "# <div align='center'>3. Exploratory Data Analysis\n",
        "Credits: [Ken Jee](https://www.kaggle.com/kenjee/titanic-project-example), [Emanuele Panizio](https://www.kaggle.com/emanuelepanizio/pytanicnb/notebook), [Ju Liu](https://www.youtube.com/watch?v=fS70iptz-XU&t=2569s]), [Sharlto Cope](https://www.kaggle.com/dwin183287/titanic-machine-learning-from-disaster-eda)\n",
        "\n",
        "References: [Data](https://www.kaggle.com/c/titanic/data)\n",
        "\n",
        "Functions to try out:\n",
        "* create subplots \n",
        "* seaborn and plt plots\n",
        "* sns.barplot\n",
        "* sns.countplot\n",
        "* [sns.histplot](https://seaborn.pydata.org/generated/seaborn.histplot.html)\n",
        "* sns.catplot\n",
        "* sns.displot\n",
        "* pivot_table\n",
        "* plot fares as line and bins"
      ]
    },
    {
      "cell_type": "code",
      "metadata": {
        "execution": {
          "iopub.execute_input": "2021-03-08T22:37:50.945969Z",
          "iopub.status.busy": "2021-03-08T22:37:50.945269Z",
          "iopub.status.idle": "2021-03-08T22:37:50.984397Z",
          "shell.execute_reply": "2021-03-08T22:37:50.983841Z"
        },
        "papermill": {
          "duration": 0.091288,
          "end_time": "2021-03-08T22:37:50.984555",
          "exception": false,
          "start_time": "2021-03-08T22:37:50.893267",
          "status": "completed"
        },
        "tags": [],
        "colab": {
          "base_uri": "https://localhost:8080/",
          "height": 448
        },
        "id": "uHDyXfB44KM9",
        "outputId": "99e0575b-12cf-497a-c04b-d9fe7ebe5096"
      },
      "source": [
        "# load the training and test data\n",
        "\n",
        "train = pd.read_csv('/kaggle/input/titanic/train.csv', index_col='PassengerId')\n",
        "test = pd.read_csv('/kaggle/input/titanic/test.csv', index_col='PassengerId')"
      ],
      "execution_count": 3,
      "outputs": [
        {
          "output_type": "error",
          "ename": "FileNotFoundError",
          "evalue": "ignored",
          "traceback": [
            "\u001b[0;31m---------------------------------------------------------------------------\u001b[0m",
            "\u001b[0;31mFileNotFoundError\u001b[0m                         Traceback (most recent call last)",
            "\u001b[0;32m<ipython-input-3-3ed833ab5313>\u001b[0m in \u001b[0;36m<module>\u001b[0;34m()\u001b[0m\n\u001b[1;32m      1\u001b[0m \u001b[0;31m# load the training and test data\u001b[0m\u001b[0;34m\u001b[0m\u001b[0;34m\u001b[0m\u001b[0;34m\u001b[0m\u001b[0m\n\u001b[1;32m      2\u001b[0m \u001b[0;34m\u001b[0m\u001b[0m\n\u001b[0;32m----> 3\u001b[0;31m \u001b[0mtrain\u001b[0m \u001b[0;34m=\u001b[0m \u001b[0mpd\u001b[0m\u001b[0;34m.\u001b[0m\u001b[0mread_csv\u001b[0m\u001b[0;34m(\u001b[0m\u001b[0;34m'/kaggle/input/titanic/train.csv'\u001b[0m\u001b[0;34m,\u001b[0m \u001b[0mindex_col\u001b[0m\u001b[0;34m=\u001b[0m\u001b[0;34m'PassengerId'\u001b[0m\u001b[0;34m)\u001b[0m\u001b[0;34m\u001b[0m\u001b[0;34m\u001b[0m\u001b[0m\n\u001b[0m\u001b[1;32m      4\u001b[0m \u001b[0mtest\u001b[0m \u001b[0;34m=\u001b[0m \u001b[0mpd\u001b[0m\u001b[0;34m.\u001b[0m\u001b[0mread_csv\u001b[0m\u001b[0;34m(\u001b[0m\u001b[0;34m'/kaggle/input/titanic/test.csv'\u001b[0m\u001b[0;34m,\u001b[0m \u001b[0mindex_col\u001b[0m\u001b[0;34m=\u001b[0m\u001b[0;34m'PassengerId'\u001b[0m\u001b[0;34m)\u001b[0m\u001b[0;34m\u001b[0m\u001b[0;34m\u001b[0m\u001b[0m\n",
            "\u001b[0;32m/usr/local/lib/python3.7/dist-packages/pandas/io/parsers.py\u001b[0m in \u001b[0;36mread_csv\u001b[0;34m(filepath_or_buffer, sep, delimiter, header, names, index_col, usecols, squeeze, prefix, mangle_dupe_cols, dtype, engine, converters, true_values, false_values, skipinitialspace, skiprows, skipfooter, nrows, na_values, keep_default_na, na_filter, verbose, skip_blank_lines, parse_dates, infer_datetime_format, keep_date_col, date_parser, dayfirst, cache_dates, iterator, chunksize, compression, thousands, decimal, lineterminator, quotechar, quoting, doublequote, escapechar, comment, encoding, dialect, error_bad_lines, warn_bad_lines, delim_whitespace, low_memory, memory_map, float_precision)\u001b[0m\n\u001b[1;32m    686\u001b[0m     )\n\u001b[1;32m    687\u001b[0m \u001b[0;34m\u001b[0m\u001b[0m\n\u001b[0;32m--> 688\u001b[0;31m     \u001b[0;32mreturn\u001b[0m \u001b[0m_read\u001b[0m\u001b[0;34m(\u001b[0m\u001b[0mfilepath_or_buffer\u001b[0m\u001b[0;34m,\u001b[0m \u001b[0mkwds\u001b[0m\u001b[0;34m)\u001b[0m\u001b[0;34m\u001b[0m\u001b[0;34m\u001b[0m\u001b[0m\n\u001b[0m\u001b[1;32m    689\u001b[0m \u001b[0;34m\u001b[0m\u001b[0m\n\u001b[1;32m    690\u001b[0m \u001b[0;34m\u001b[0m\u001b[0m\n",
            "\u001b[0;32m/usr/local/lib/python3.7/dist-packages/pandas/io/parsers.py\u001b[0m in \u001b[0;36m_read\u001b[0;34m(filepath_or_buffer, kwds)\u001b[0m\n\u001b[1;32m    452\u001b[0m \u001b[0;34m\u001b[0m\u001b[0m\n\u001b[1;32m    453\u001b[0m     \u001b[0;31m# Create the parser.\u001b[0m\u001b[0;34m\u001b[0m\u001b[0;34m\u001b[0m\u001b[0;34m\u001b[0m\u001b[0m\n\u001b[0;32m--> 454\u001b[0;31m     \u001b[0mparser\u001b[0m \u001b[0;34m=\u001b[0m \u001b[0mTextFileReader\u001b[0m\u001b[0;34m(\u001b[0m\u001b[0mfp_or_buf\u001b[0m\u001b[0;34m,\u001b[0m \u001b[0;34m**\u001b[0m\u001b[0mkwds\u001b[0m\u001b[0;34m)\u001b[0m\u001b[0;34m\u001b[0m\u001b[0;34m\u001b[0m\u001b[0m\n\u001b[0m\u001b[1;32m    455\u001b[0m \u001b[0;34m\u001b[0m\u001b[0m\n\u001b[1;32m    456\u001b[0m     \u001b[0;32mif\u001b[0m \u001b[0mchunksize\u001b[0m \u001b[0;32mor\u001b[0m \u001b[0miterator\u001b[0m\u001b[0;34m:\u001b[0m\u001b[0;34m\u001b[0m\u001b[0;34m\u001b[0m\u001b[0m\n",
            "\u001b[0;32m/usr/local/lib/python3.7/dist-packages/pandas/io/parsers.py\u001b[0m in \u001b[0;36m__init__\u001b[0;34m(self, f, engine, **kwds)\u001b[0m\n\u001b[1;32m    946\u001b[0m             \u001b[0mself\u001b[0m\u001b[0;34m.\u001b[0m\u001b[0moptions\u001b[0m\u001b[0;34m[\u001b[0m\u001b[0;34m\"has_index_names\"\u001b[0m\u001b[0;34m]\u001b[0m \u001b[0;34m=\u001b[0m \u001b[0mkwds\u001b[0m\u001b[0;34m[\u001b[0m\u001b[0;34m\"has_index_names\"\u001b[0m\u001b[0;34m]\u001b[0m\u001b[0;34m\u001b[0m\u001b[0;34m\u001b[0m\u001b[0m\n\u001b[1;32m    947\u001b[0m \u001b[0;34m\u001b[0m\u001b[0m\n\u001b[0;32m--> 948\u001b[0;31m         \u001b[0mself\u001b[0m\u001b[0;34m.\u001b[0m\u001b[0m_make_engine\u001b[0m\u001b[0;34m(\u001b[0m\u001b[0mself\u001b[0m\u001b[0;34m.\u001b[0m\u001b[0mengine\u001b[0m\u001b[0;34m)\u001b[0m\u001b[0;34m\u001b[0m\u001b[0;34m\u001b[0m\u001b[0m\n\u001b[0m\u001b[1;32m    949\u001b[0m \u001b[0;34m\u001b[0m\u001b[0m\n\u001b[1;32m    950\u001b[0m     \u001b[0;32mdef\u001b[0m \u001b[0mclose\u001b[0m\u001b[0;34m(\u001b[0m\u001b[0mself\u001b[0m\u001b[0;34m)\u001b[0m\u001b[0;34m:\u001b[0m\u001b[0;34m\u001b[0m\u001b[0;34m\u001b[0m\u001b[0m\n",
            "\u001b[0;32m/usr/local/lib/python3.7/dist-packages/pandas/io/parsers.py\u001b[0m in \u001b[0;36m_make_engine\u001b[0;34m(self, engine)\u001b[0m\n\u001b[1;32m   1178\u001b[0m     \u001b[0;32mdef\u001b[0m \u001b[0m_make_engine\u001b[0m\u001b[0;34m(\u001b[0m\u001b[0mself\u001b[0m\u001b[0;34m,\u001b[0m \u001b[0mengine\u001b[0m\u001b[0;34m=\u001b[0m\u001b[0;34m\"c\"\u001b[0m\u001b[0;34m)\u001b[0m\u001b[0;34m:\u001b[0m\u001b[0;34m\u001b[0m\u001b[0;34m\u001b[0m\u001b[0m\n\u001b[1;32m   1179\u001b[0m         \u001b[0;32mif\u001b[0m \u001b[0mengine\u001b[0m \u001b[0;34m==\u001b[0m \u001b[0;34m\"c\"\u001b[0m\u001b[0;34m:\u001b[0m\u001b[0;34m\u001b[0m\u001b[0;34m\u001b[0m\u001b[0m\n\u001b[0;32m-> 1180\u001b[0;31m             \u001b[0mself\u001b[0m\u001b[0;34m.\u001b[0m\u001b[0m_engine\u001b[0m \u001b[0;34m=\u001b[0m \u001b[0mCParserWrapper\u001b[0m\u001b[0;34m(\u001b[0m\u001b[0mself\u001b[0m\u001b[0;34m.\u001b[0m\u001b[0mf\u001b[0m\u001b[0;34m,\u001b[0m \u001b[0;34m**\u001b[0m\u001b[0mself\u001b[0m\u001b[0;34m.\u001b[0m\u001b[0moptions\u001b[0m\u001b[0;34m)\u001b[0m\u001b[0;34m\u001b[0m\u001b[0;34m\u001b[0m\u001b[0m\n\u001b[0m\u001b[1;32m   1181\u001b[0m         \u001b[0;32melse\u001b[0m\u001b[0;34m:\u001b[0m\u001b[0;34m\u001b[0m\u001b[0;34m\u001b[0m\u001b[0m\n\u001b[1;32m   1182\u001b[0m             \u001b[0;32mif\u001b[0m \u001b[0mengine\u001b[0m \u001b[0;34m==\u001b[0m \u001b[0;34m\"python\"\u001b[0m\u001b[0;34m:\u001b[0m\u001b[0;34m\u001b[0m\u001b[0;34m\u001b[0m\u001b[0m\n",
            "\u001b[0;32m/usr/local/lib/python3.7/dist-packages/pandas/io/parsers.py\u001b[0m in \u001b[0;36m__init__\u001b[0;34m(self, src, **kwds)\u001b[0m\n\u001b[1;32m   2008\u001b[0m         \u001b[0mkwds\u001b[0m\u001b[0;34m[\u001b[0m\u001b[0;34m\"usecols\"\u001b[0m\u001b[0;34m]\u001b[0m \u001b[0;34m=\u001b[0m \u001b[0mself\u001b[0m\u001b[0;34m.\u001b[0m\u001b[0musecols\u001b[0m\u001b[0;34m\u001b[0m\u001b[0;34m\u001b[0m\u001b[0m\n\u001b[1;32m   2009\u001b[0m \u001b[0;34m\u001b[0m\u001b[0m\n\u001b[0;32m-> 2010\u001b[0;31m         \u001b[0mself\u001b[0m\u001b[0;34m.\u001b[0m\u001b[0m_reader\u001b[0m \u001b[0;34m=\u001b[0m \u001b[0mparsers\u001b[0m\u001b[0;34m.\u001b[0m\u001b[0mTextReader\u001b[0m\u001b[0;34m(\u001b[0m\u001b[0msrc\u001b[0m\u001b[0;34m,\u001b[0m \u001b[0;34m**\u001b[0m\u001b[0mkwds\u001b[0m\u001b[0;34m)\u001b[0m\u001b[0;34m\u001b[0m\u001b[0;34m\u001b[0m\u001b[0m\n\u001b[0m\u001b[1;32m   2011\u001b[0m         \u001b[0mself\u001b[0m\u001b[0;34m.\u001b[0m\u001b[0munnamed_cols\u001b[0m \u001b[0;34m=\u001b[0m \u001b[0mself\u001b[0m\u001b[0;34m.\u001b[0m\u001b[0m_reader\u001b[0m\u001b[0;34m.\u001b[0m\u001b[0munnamed_cols\u001b[0m\u001b[0;34m\u001b[0m\u001b[0;34m\u001b[0m\u001b[0m\n\u001b[1;32m   2012\u001b[0m \u001b[0;34m\u001b[0m\u001b[0m\n",
            "\u001b[0;32mpandas/_libs/parsers.pyx\u001b[0m in \u001b[0;36mpandas._libs.parsers.TextReader.__cinit__\u001b[0;34m()\u001b[0m\n",
            "\u001b[0;32mpandas/_libs/parsers.pyx\u001b[0m in \u001b[0;36mpandas._libs.parsers.TextReader._setup_parser_source\u001b[0;34m()\u001b[0m\n",
            "\u001b[0;31mFileNotFoundError\u001b[0m: [Errno 2] No such file or directory: '/kaggle/input/titanic/train.csv'"
          ]
        }
      ]
    },
    {
      "cell_type": "code",
      "metadata": {
        "execution": {
          "iopub.execute_input": "2021-03-08T22:37:51.088431Z",
          "iopub.status.busy": "2021-03-08T22:37:51.087416Z",
          "iopub.status.idle": "2021-03-08T22:37:51.110625Z",
          "shell.execute_reply": "2021-03-08T22:37:51.110044Z"
        },
        "papermill": {
          "duration": 0.078167,
          "end_time": "2021-03-08T22:37:51.110812",
          "exception": false,
          "start_time": "2021-03-08T22:37:51.032645",
          "status": "completed"
        },
        "tags": [],
        "id": "AvVsjzHT4KM9",
        "outputId": "cbb90261-b8ac-4612-e6d5-b0d5d1167e6c"
      },
      "source": [
        "# inspect the dataframe\n",
        "train.head()"
      ],
      "execution_count": null,
      "outputs": [
        {
          "output_type": "execute_result",
          "data": {
            "text/html": [
              "<div>\n",
              "<style scoped>\n",
              "    .dataframe tbody tr th:only-of-type {\n",
              "        vertical-align: middle;\n",
              "    }\n",
              "\n",
              "    .dataframe tbody tr th {\n",
              "        vertical-align: top;\n",
              "    }\n",
              "\n",
              "    .dataframe thead th {\n",
              "        text-align: right;\n",
              "    }\n",
              "</style>\n",
              "<table border=\"1\" class=\"dataframe\">\n",
              "  <thead>\n",
              "    <tr style=\"text-align: right;\">\n",
              "      <th></th>\n",
              "      <th>Survived</th>\n",
              "      <th>Pclass</th>\n",
              "      <th>Name</th>\n",
              "      <th>Sex</th>\n",
              "      <th>Age</th>\n",
              "      <th>SibSp</th>\n",
              "      <th>Parch</th>\n",
              "      <th>Ticket</th>\n",
              "      <th>Fare</th>\n",
              "      <th>Cabin</th>\n",
              "      <th>Embarked</th>\n",
              "    </tr>\n",
              "    <tr>\n",
              "      <th>PassengerId</th>\n",
              "      <th></th>\n",
              "      <th></th>\n",
              "      <th></th>\n",
              "      <th></th>\n",
              "      <th></th>\n",
              "      <th></th>\n",
              "      <th></th>\n",
              "      <th></th>\n",
              "      <th></th>\n",
              "      <th></th>\n",
              "      <th></th>\n",
              "    </tr>\n",
              "  </thead>\n",
              "  <tbody>\n",
              "    <tr>\n",
              "      <th>1</th>\n",
              "      <td>0</td>\n",
              "      <td>3</td>\n",
              "      <td>Braund, Mr. Owen Harris</td>\n",
              "      <td>male</td>\n",
              "      <td>22.0</td>\n",
              "      <td>1</td>\n",
              "      <td>0</td>\n",
              "      <td>A/5 21171</td>\n",
              "      <td>7.2500</td>\n",
              "      <td>NaN</td>\n",
              "      <td>S</td>\n",
              "    </tr>\n",
              "    <tr>\n",
              "      <th>2</th>\n",
              "      <td>1</td>\n",
              "      <td>1</td>\n",
              "      <td>Cumings, Mrs. John Bradley (Florence Briggs Th...</td>\n",
              "      <td>female</td>\n",
              "      <td>38.0</td>\n",
              "      <td>1</td>\n",
              "      <td>0</td>\n",
              "      <td>PC 17599</td>\n",
              "      <td>71.2833</td>\n",
              "      <td>C85</td>\n",
              "      <td>C</td>\n",
              "    </tr>\n",
              "    <tr>\n",
              "      <th>3</th>\n",
              "      <td>1</td>\n",
              "      <td>3</td>\n",
              "      <td>Heikkinen, Miss. Laina</td>\n",
              "      <td>female</td>\n",
              "      <td>26.0</td>\n",
              "      <td>0</td>\n",
              "      <td>0</td>\n",
              "      <td>STON/O2. 3101282</td>\n",
              "      <td>7.9250</td>\n",
              "      <td>NaN</td>\n",
              "      <td>S</td>\n",
              "    </tr>\n",
              "    <tr>\n",
              "      <th>4</th>\n",
              "      <td>1</td>\n",
              "      <td>1</td>\n",
              "      <td>Futrelle, Mrs. Jacques Heath (Lily May Peel)</td>\n",
              "      <td>female</td>\n",
              "      <td>35.0</td>\n",
              "      <td>1</td>\n",
              "      <td>0</td>\n",
              "      <td>113803</td>\n",
              "      <td>53.1000</td>\n",
              "      <td>C123</td>\n",
              "      <td>S</td>\n",
              "    </tr>\n",
              "    <tr>\n",
              "      <th>5</th>\n",
              "      <td>0</td>\n",
              "      <td>3</td>\n",
              "      <td>Allen, Mr. William Henry</td>\n",
              "      <td>male</td>\n",
              "      <td>35.0</td>\n",
              "      <td>0</td>\n",
              "      <td>0</td>\n",
              "      <td>373450</td>\n",
              "      <td>8.0500</td>\n",
              "      <td>NaN</td>\n",
              "      <td>S</td>\n",
              "    </tr>\n",
              "  </tbody>\n",
              "</table>\n",
              "</div>"
            ],
            "text/plain": [
              "             Survived  Pclass  \\\n",
              "PassengerId                     \n",
              "1                   0       3   \n",
              "2                   1       1   \n",
              "3                   1       3   \n",
              "4                   1       1   \n",
              "5                   0       3   \n",
              "\n",
              "                                                          Name     Sex   Age  \\\n",
              "PassengerId                                                                    \n",
              "1                                      Braund, Mr. Owen Harris    male  22.0   \n",
              "2            Cumings, Mrs. John Bradley (Florence Briggs Th...  female  38.0   \n",
              "3                                       Heikkinen, Miss. Laina  female  26.0   \n",
              "4                 Futrelle, Mrs. Jacques Heath (Lily May Peel)  female  35.0   \n",
              "5                                     Allen, Mr. William Henry    male  35.0   \n",
              "\n",
              "             SibSp  Parch            Ticket     Fare Cabin Embarked  \n",
              "PassengerId                                                          \n",
              "1                1      0         A/5 21171   7.2500   NaN        S  \n",
              "2                1      0          PC 17599  71.2833   C85        C  \n",
              "3                0      0  STON/O2. 3101282   7.9250   NaN        S  \n",
              "4                1      0            113803  53.1000  C123        S  \n",
              "5                0      0            373450   8.0500   NaN        S  "
            ]
          },
          "metadata": {
            "tags": []
          },
          "execution_count": 4
        }
      ]
    },
    {
      "cell_type": "code",
      "metadata": {
        "execution": {
          "iopub.execute_input": "2021-03-08T22:37:51.236955Z",
          "iopub.status.busy": "2021-03-08T22:37:51.235856Z",
          "iopub.status.idle": "2021-03-08T22:37:51.239825Z",
          "shell.execute_reply": "2021-03-08T22:37:51.240614Z"
        },
        "papermill": {
          "duration": 0.081308,
          "end_time": "2021-03-08T22:37:51.240894",
          "exception": false,
          "start_time": "2021-03-08T22:37:51.159586",
          "status": "completed"
        },
        "tags": [],
        "id": "_TiyUDNw4KM-",
        "outputId": "b05782d1-19b8-4a2e-d98d-b380e8fcb646"
      },
      "source": [
        "# inspect the dataframe for entries, columns, missing values, and data types\n",
        "\n",
        "train.info()\n",
        "print('')\n",
        "test.info()"
      ],
      "execution_count": null,
      "outputs": [
        {
          "output_type": "stream",
          "text": [
            "<class 'pandas.core.frame.DataFrame'>\n",
            "Int64Index: 891 entries, 1 to 891\n",
            "Data columns (total 11 columns):\n",
            " #   Column    Non-Null Count  Dtype  \n",
            "---  ------    --------------  -----  \n",
            " 0   Survived  891 non-null    int64  \n",
            " 1   Pclass    891 non-null    int64  \n",
            " 2   Name      891 non-null    object \n",
            " 3   Sex       891 non-null    object \n",
            " 4   Age       714 non-null    float64\n",
            " 5   SibSp     891 non-null    int64  \n",
            " 6   Parch     891 non-null    int64  \n",
            " 7   Ticket    891 non-null    object \n",
            " 8   Fare      891 non-null    float64\n",
            " 9   Cabin     204 non-null    object \n",
            " 10  Embarked  889 non-null    object \n",
            "dtypes: float64(2), int64(4), object(5)\n",
            "memory usage: 83.5+ KB\n",
            "\n",
            "<class 'pandas.core.frame.DataFrame'>\n",
            "Int64Index: 418 entries, 892 to 1309\n",
            "Data columns (total 10 columns):\n",
            " #   Column    Non-Null Count  Dtype  \n",
            "---  ------    --------------  -----  \n",
            " 0   Pclass    418 non-null    int64  \n",
            " 1   Name      418 non-null    object \n",
            " 2   Sex       418 non-null    object \n",
            " 3   Age       332 non-null    float64\n",
            " 4   SibSp     418 non-null    int64  \n",
            " 5   Parch     418 non-null    int64  \n",
            " 6   Ticket    418 non-null    object \n",
            " 7   Fare      417 non-null    float64\n",
            " 8   Cabin     91 non-null     object \n",
            " 9   Embarked  418 non-null    object \n",
            "dtypes: float64(2), int64(3), object(5)\n",
            "memory usage: 35.9+ KB\n"
          ],
          "name": "stdout"
        }
      ]
    },
    {
      "cell_type": "markdown",
      "metadata": {
        "papermill": {
          "duration": 0.047972,
          "end_time": "2021-03-08T22:37:51.342900",
          "exception": false,
          "start_time": "2021-03-08T22:37:51.294928",
          "status": "completed"
        },
        "tags": [],
        "id": "AFOWX_Er4KM-"
      },
      "source": [
        "### Observations:\n",
        "* ML models must have numerical values to compute, there fore categorical datatype `objects` must be converted to numerical values.\n",
        "* Nan values to address with imputation: `['Age', 'Fare', 'Cabin', 'Embark']`\n",
        "* Nan values to drop: `['Name']`\n",
        "* Test dataset has 1 less column: `['Survived']` which is the target or label"
      ]
    },
    {
      "cell_type": "code",
      "metadata": {
        "execution": {
          "iopub.execute_input": "2021-03-08T22:37:51.447531Z",
          "iopub.status.busy": "2021-03-08T22:37:51.446736Z",
          "iopub.status.idle": "2021-03-08T22:37:51.475399Z",
          "shell.execute_reply": "2021-03-08T22:37:51.474857Z"
        },
        "papermill": {
          "duration": 0.084427,
          "end_time": "2021-03-08T22:37:51.475606",
          "exception": false,
          "start_time": "2021-03-08T22:37:51.391179",
          "status": "completed"
        },
        "tags": [],
        "id": "DulOSq9E4KM_",
        "outputId": "2f730adf-49c7-463a-9b1b-fba6b1137876"
      },
      "source": [
        "# Statistical values for all the numerical categories\n",
        "\n",
        "train.describe()"
      ],
      "execution_count": null,
      "outputs": [
        {
          "output_type": "execute_result",
          "data": {
            "text/html": [
              "<div>\n",
              "<style scoped>\n",
              "    .dataframe tbody tr th:only-of-type {\n",
              "        vertical-align: middle;\n",
              "    }\n",
              "\n",
              "    .dataframe tbody tr th {\n",
              "        vertical-align: top;\n",
              "    }\n",
              "\n",
              "    .dataframe thead th {\n",
              "        text-align: right;\n",
              "    }\n",
              "</style>\n",
              "<table border=\"1\" class=\"dataframe\">\n",
              "  <thead>\n",
              "    <tr style=\"text-align: right;\">\n",
              "      <th></th>\n",
              "      <th>Survived</th>\n",
              "      <th>Pclass</th>\n",
              "      <th>Age</th>\n",
              "      <th>SibSp</th>\n",
              "      <th>Parch</th>\n",
              "      <th>Fare</th>\n",
              "    </tr>\n",
              "  </thead>\n",
              "  <tbody>\n",
              "    <tr>\n",
              "      <th>count</th>\n",
              "      <td>891.000000</td>\n",
              "      <td>891.000000</td>\n",
              "      <td>714.000000</td>\n",
              "      <td>891.000000</td>\n",
              "      <td>891.000000</td>\n",
              "      <td>891.000000</td>\n",
              "    </tr>\n",
              "    <tr>\n",
              "      <th>mean</th>\n",
              "      <td>0.383838</td>\n",
              "      <td>2.308642</td>\n",
              "      <td>29.699118</td>\n",
              "      <td>0.523008</td>\n",
              "      <td>0.381594</td>\n",
              "      <td>32.204208</td>\n",
              "    </tr>\n",
              "    <tr>\n",
              "      <th>std</th>\n",
              "      <td>0.486592</td>\n",
              "      <td>0.836071</td>\n",
              "      <td>14.526497</td>\n",
              "      <td>1.102743</td>\n",
              "      <td>0.806057</td>\n",
              "      <td>49.693429</td>\n",
              "    </tr>\n",
              "    <tr>\n",
              "      <th>min</th>\n",
              "      <td>0.000000</td>\n",
              "      <td>1.000000</td>\n",
              "      <td>0.420000</td>\n",
              "      <td>0.000000</td>\n",
              "      <td>0.000000</td>\n",
              "      <td>0.000000</td>\n",
              "    </tr>\n",
              "    <tr>\n",
              "      <th>25%</th>\n",
              "      <td>0.000000</td>\n",
              "      <td>2.000000</td>\n",
              "      <td>20.125000</td>\n",
              "      <td>0.000000</td>\n",
              "      <td>0.000000</td>\n",
              "      <td>7.910400</td>\n",
              "    </tr>\n",
              "    <tr>\n",
              "      <th>50%</th>\n",
              "      <td>0.000000</td>\n",
              "      <td>3.000000</td>\n",
              "      <td>28.000000</td>\n",
              "      <td>0.000000</td>\n",
              "      <td>0.000000</td>\n",
              "      <td>14.454200</td>\n",
              "    </tr>\n",
              "    <tr>\n",
              "      <th>75%</th>\n",
              "      <td>1.000000</td>\n",
              "      <td>3.000000</td>\n",
              "      <td>38.000000</td>\n",
              "      <td>1.000000</td>\n",
              "      <td>0.000000</td>\n",
              "      <td>31.000000</td>\n",
              "    </tr>\n",
              "    <tr>\n",
              "      <th>max</th>\n",
              "      <td>1.000000</td>\n",
              "      <td>3.000000</td>\n",
              "      <td>80.000000</td>\n",
              "      <td>8.000000</td>\n",
              "      <td>6.000000</td>\n",
              "      <td>512.329200</td>\n",
              "    </tr>\n",
              "  </tbody>\n",
              "</table>\n",
              "</div>"
            ],
            "text/plain": [
              "         Survived      Pclass         Age       SibSp       Parch        Fare\n",
              "count  891.000000  891.000000  714.000000  891.000000  891.000000  891.000000\n",
              "mean     0.383838    2.308642   29.699118    0.523008    0.381594   32.204208\n",
              "std      0.486592    0.836071   14.526497    1.102743    0.806057   49.693429\n",
              "min      0.000000    1.000000    0.420000    0.000000    0.000000    0.000000\n",
              "25%      0.000000    2.000000   20.125000    0.000000    0.000000    7.910400\n",
              "50%      0.000000    3.000000   28.000000    0.000000    0.000000   14.454200\n",
              "75%      1.000000    3.000000   38.000000    1.000000    0.000000   31.000000\n",
              "max      1.000000    3.000000   80.000000    8.000000    6.000000  512.329200"
            ]
          },
          "metadata": {
            "tags": []
          },
          "execution_count": 6
        }
      ]
    },
    {
      "cell_type": "markdown",
      "metadata": {
        "papermill": {
          "duration": 0.048909,
          "end_time": "2021-03-08T22:37:51.574970",
          "exception": false,
          "start_time": "2021-03-08T22:37:51.526061",
          "status": "completed"
        },
        "tags": [],
        "id": "YrfwZdOB4KM_"
      },
      "source": [
        "### Observations\n",
        "* Fare has a wide distribution. Let's dive deeper:\n",
        "    * Viz - histogram, normalize\n",
        "    * Pivot table by various categories: Age, Sex, Survived, Pclass\n",
        "* Create histograms for `['Age', 'SibSp', 'Parch', 'Fare']`to see spread of instances"
      ]
    },
    {
      "cell_type": "code",
      "metadata": {
        "execution": {
          "iopub.execute_input": "2021-03-08T22:37:51.678903Z",
          "iopub.status.busy": "2021-03-08T22:37:51.678193Z",
          "iopub.status.idle": "2021-03-08T22:37:51.682003Z",
          "shell.execute_reply": "2021-03-08T22:37:51.681434Z"
        },
        "papermill": {
          "duration": 0.057927,
          "end_time": "2021-03-08T22:37:51.682147",
          "exception": false,
          "start_time": "2021-03-08T22:37:51.624220",
          "status": "completed"
        },
        "tags": [],
        "id": "6U89g77a4KM_",
        "outputId": "8268f360-de5b-49b0-d8dc-c895429ecbea"
      },
      "source": [
        "# list of columns for segmentation\n",
        "\n",
        "train.columns"
      ],
      "execution_count": null,
      "outputs": [
        {
          "output_type": "execute_result",
          "data": {
            "text/plain": [
              "Index(['Survived', 'Pclass', 'Name', 'Sex', 'Age', 'SibSp', 'Parch', 'Ticket',\n",
              "       'Fare', 'Cabin', 'Embarked'],\n",
              "      dtype='object')"
            ]
          },
          "metadata": {
            "tags": []
          },
          "execution_count": 7
        }
      ]
    },
    {
      "cell_type": "code",
      "metadata": {
        "execution": {
          "iopub.execute_input": "2021-03-08T22:37:51.787399Z",
          "iopub.status.busy": "2021-03-08T22:37:51.786713Z",
          "iopub.status.idle": "2021-03-08T22:37:51.793296Z",
          "shell.execute_reply": "2021-03-08T22:37:51.793826Z"
        },
        "papermill": {
          "duration": 0.060149,
          "end_time": "2021-03-08T22:37:51.794028",
          "exception": false,
          "start_time": "2021-03-08T22:37:51.733879",
          "status": "completed"
        },
        "tags": [],
        "id": "KRcdyEgW4KNA"
      },
      "source": [
        "# split categorical and numerical dataframes for analysis\n",
        "\n",
        "df_num = train[['Age', 'SibSp', 'Parch', 'Fare']]\n",
        "df_cat = train.drop(['Pclass', 'Sex', 'Ticket', 'Cabin', 'Embarked'], axis=1)"
      ],
      "execution_count": null,
      "outputs": []
    },
    {
      "cell_type": "code",
      "metadata": {
        "execution": {
          "iopub.execute_input": "2021-03-08T22:37:51.897289Z",
          "iopub.status.busy": "2021-03-08T22:37:51.896593Z",
          "iopub.status.idle": "2021-03-08T22:37:52.653227Z",
          "shell.execute_reply": "2021-03-08T22:37:52.653727Z"
        },
        "papermill": {
          "duration": 0.810395,
          "end_time": "2021-03-08T22:37:52.653921",
          "exception": false,
          "start_time": "2021-03-08T22:37:51.843526",
          "status": "completed"
        },
        "tags": [],
        "id": "gauezSPf4KNA",
        "outputId": "10430a50-b2ac-45c0-fe98-ac8d6f982899"
      },
      "source": [
        "# shapes of quantitative features\n",
        "train.hist(column=df_num.columns, figsize=(20,4), layout=(1,4))"
      ],
      "execution_count": null,
      "outputs": [
        {
          "output_type": "execute_result",
          "data": {
            "text/plain": [
              "array([[<AxesSubplot:title={'center':'Age'}>,\n",
              "        <AxesSubplot:title={'center':'SibSp'}>,\n",
              "        <AxesSubplot:title={'center':'Parch'}>,\n",
              "        <AxesSubplot:title={'center':'Fare'}>]], dtype=object)"
            ]
          },
          "metadata": {
            "tags": []
          },
          "execution_count": 9
        },
        {
          "output_type": "display_data",
          "data": {
            "image/png": "[encoded data removed]",
            "text/plain": [
              "<Figure size 1440x288 with 4 Axes>"
            ]
          },
          "metadata": {
            "tags": [],
            "needs_background": "light"
          }
        }
      ]
    },
    {
      "cell_type": "code",
      "metadata": {
        "execution": {
          "iopub.execute_input": "2021-03-08T22:37:52.788358Z",
          "iopub.status.busy": "2021-03-08T22:37:52.787213Z",
          "iopub.status.idle": "2021-03-08T22:37:53.781889Z",
          "shell.execute_reply": "2021-03-08T22:37:53.780771Z"
        },
        "papermill": {
          "duration": 1.076959,
          "end_time": "2021-03-08T22:37:53.782055",
          "exception": false,
          "start_time": "2021-03-08T22:37:52.705096",
          "status": "completed"
        },
        "tags": [],
        "id": "n2dyF7XK4KNB",
        "outputId": "c5101efa-4e65-4c74-9f43-300e69912006"
      },
      "source": [
        "# plot hist with kernal density edstimation to get an average line\n",
        "fig, ax = plt.subplots(2, 2, figsize=(10, 8))\n",
        "sns.histplot(data=train, x='Age', kde=True, ax=ax[0,0])\n",
        "sns.histplot(data=train, x='SibSp', kde=True, ax=ax[0,1])\n",
        "sns.histplot(data=train, x='Parch', kde=True, ax=ax[1,0])\n",
        "sns.histplot(data=train, x='Fare', kde=True, ax=ax[1,1])"
      ],
      "execution_count": null,
      "outputs": [
        {
          "output_type": "execute_result",
          "data": {
            "text/plain": [
              "<AxesSubplot:xlabel='Fare', ylabel='Count'>"
            ]
          },
          "metadata": {
            "tags": []
          },
          "execution_count": 10
        },
        {
          "output_type": "display_data",
          "data": {
            "image/png": "[encoded data removed]",
            "text/plain": [
              "<Figure size 720x576 with 4 Axes>"
            ]
          },
          "metadata": {
            "tags": [],
            "needs_background": "light"
          }
        }
      ]
    },
    {
      "cell_type": "markdown",
      "metadata": {
        "papermill": {
          "duration": 0.053569,
          "end_time": "2021-03-08T22:37:53.889382",
          "exception": false,
          "start_time": "2021-03-08T22:37:53.835813",
          "status": "completed"
        },
        "tags": [],
        "id": "HZhfjRA04KNB"
      },
      "source": [
        "### Observations:\n",
        "* Only 'Age' has a somewhat normal distribution. The other values are skewed to the left with longtails to the right. \n",
        "    * Does age group affect the survival rate? Bin by age group\n",
        "    * Most of the population is in their late teens to late 30s.\n",
        "* Most paid a low fare, many are single with no family\n",
        "* Should we normalize these values using a logarithmic method?"
      ]
    },
    {
      "cell_type": "code",
      "metadata": {
        "execution": {
          "iopub.execute_input": "2021-03-08T22:37:54.006158Z",
          "iopub.status.busy": "2021-03-08T22:37:54.005020Z",
          "iopub.status.idle": "2021-03-08T22:37:54.008969Z",
          "shell.execute_reply": "2021-03-08T22:37:54.009778Z"
        },
        "papermill": {
          "duration": 0.067523,
          "end_time": "2021-03-08T22:37:54.010030",
          "exception": false,
          "start_time": "2021-03-08T22:37:53.942507",
          "status": "completed"
        },
        "tags": [],
        "id": "8KPQ_2Qu4KNB",
        "outputId": "d0c70a0c-ca54-4bfc-f842-fb2d9ca152cf"
      },
      "source": [
        "# Gender breakdown\n",
        "print(train['Sex'].value_counts())\n",
        "print()\n",
        "print(train['Sex'].value_counts(normalize=True)) #Percentage breakdown"
      ],
      "execution_count": null,
      "outputs": [
        {
          "output_type": "stream",
          "text": [
            "male      577\n",
            "female    314\n",
            "Name: Sex, dtype: int64\n",
            "\n",
            "male      0.647587\n",
            "female    0.352413\n",
            "Name: Sex, dtype: float64\n"
          ],
          "name": "stdout"
        }
      ]
    },
    {
      "cell_type": "code",
      "metadata": {
        "execution": {
          "iopub.execute_input": "2021-03-08T22:37:54.150090Z",
          "iopub.status.busy": "2021-03-08T22:37:54.144630Z",
          "iopub.status.idle": "2021-03-08T22:37:55.674463Z",
          "shell.execute_reply": "2021-03-08T22:37:55.673950Z"
        },
        "papermill": {
          "duration": 1.608018,
          "end_time": "2021-03-08T22:37:55.674614",
          "exception": false,
          "start_time": "2021-03-08T22:37:54.066596",
          "status": "completed"
        },
        "tags": [],
        "id": "fnXxEyl_4KNC",
        "outputId": "ebd16b16-6aae-4b28-ae00-b48146205728"
      },
      "source": [
        "fig, ax = plt.subplots(2, 3, figsize=(15,10))\n",
        "sns.barplot(x='Sex', y='Survived', data=train, ax=ax[0,0])\n",
        "sns.barplot(x='Embarked', y='Survived', data=train, ax=ax[0,1])\n",
        "sns.barplot(x='Pclass', y='Survived', data=train, ax=ax[0,2])\n",
        "sns.barplot(x='SibSp', y='Survived', data=train, ax=ax[1,0])\n",
        "sns.barplot(x='Parch', y='Survived', data=train, ax=ax[1,1])\n",
        "# sns.barplot(x='SibSp', y='Survived', data=train, ax=ax[1,2])"
      ],
      "execution_count": null,
      "outputs": [
        {
          "output_type": "execute_result",
          "data": {
            "text/plain": [
              "<AxesSubplot:xlabel='Parch', ylabel='Survived'>"
            ]
          },
          "metadata": {
            "tags": []
          },
          "execution_count": 12
        },
        {
          "output_type": "display_data",
          "data": {
            "image/png": "[encoded data removed]",
            "text/plain": [
              "<Figure size 1080x720 with 6 Axes>"
            ]
          },
          "metadata": {
            "tags": [],
            "needs_background": "light"
          }
        }
      ]
    },
    {
      "cell_type": "markdown",
      "metadata": {
        "papermill": {
          "duration": 0.055024,
          "end_time": "2021-03-08T22:37:55.785033",
          "exception": false,
          "start_time": "2021-03-08T22:37:55.730009",
          "status": "completed"
        },
        "tags": [],
        "id": "knIalccw4KND"
      },
      "source": [
        "### Observations:\n",
        "* Many more females survived\n",
        "* People who embarked from Cherbourg had higher survival rate. Let's explore this further?\n",
        "* First and second class passangers survived better. Due to location of cabins?\n",
        "* Smaller families had higher survival rates,best if you had 1 or 2 other people in your family."
      ]
    },
    {
      "cell_type": "code",
      "metadata": {
        "execution": {
          "iopub.execute_input": "2021-03-08T22:37:55.919827Z",
          "iopub.status.busy": "2021-03-08T22:37:55.918807Z",
          "iopub.status.idle": "2021-03-08T22:37:56.133615Z",
          "shell.execute_reply": "2021-03-08T22:37:56.133069Z"
        },
        "papermill": {
          "duration": 0.293807,
          "end_time": "2021-03-08T22:37:56.133784",
          "exception": false,
          "start_time": "2021-03-08T22:37:55.839977",
          "status": "completed"
        },
        "tags": [],
        "id": "9PrQhDLK4KND",
        "outputId": "8c534f83-e03c-42af-f289-197f939b5cb0"
      },
      "source": [
        "fig, ax = plt.subplots(1, 2, figsize=(10,4))\n",
        "sns.countplot(x='Sex', data=train, ax=ax[0])\n",
        "sns.countplot(x='Pclass', data=train, ax=ax[1])"
      ],
      "execution_count": null,
      "outputs": [
        {
          "output_type": "execute_result",
          "data": {
            "text/plain": [
              "<AxesSubplot:xlabel='Pclass', ylabel='count'>"
            ]
          },
          "metadata": {
            "tags": []
          },
          "execution_count": 13
        },
        {
          "output_type": "display_data",
          "data": {
            "image/png": "[encoded data removed]",
            "text/plain": [
              "<Figure size 720x288 with 2 Axes>"
            ]
          },
          "metadata": {
            "tags": [],
            "needs_background": "light"
          }
        }
      ]
    },
    {
      "cell_type": "code",
      "metadata": {
        "execution": {
          "iopub.execute_input": "2021-03-08T22:37:56.270694Z",
          "iopub.status.busy": "2021-03-08T22:37:56.269933Z",
          "iopub.status.idle": "2021-03-08T22:37:56.575809Z",
          "shell.execute_reply": "2021-03-08T22:37:56.574449Z"
        },
        "papermill": {
          "duration": 0.385763,
          "end_time": "2021-03-08T22:37:56.575989",
          "exception": false,
          "start_time": "2021-03-08T22:37:56.190226",
          "status": "completed"
        },
        "tags": [],
        "id": "WQ-clxv84KND",
        "outputId": "43ceb40e-1346-49bb-f150-811f634dd062"
      },
      "source": [
        "fig, ax = plt.subplots(1, 2, figsize=(10,4))\n",
        "sns.countplot(x='Sex', data=train, hue='Survived', ax=ax[0])\n",
        "sns.countplot(x='Pclass', data=train, hue='Survived', ax=ax[1])"
      ],
      "execution_count": null,
      "outputs": [
        {
          "output_type": "execute_result",
          "data": {
            "text/plain": [
              "<AxesSubplot:xlabel='Pclass', ylabel='count'>"
            ]
          },
          "metadata": {
            "tags": []
          },
          "execution_count": 14
        },
        {
          "output_type": "display_data",
          "data": {
            "image/png": "[encoded data removed]",
            "text/plain": [
              "<Figure size 720x288 with 2 Axes>"
            ]
          },
          "metadata": {
            "tags": [],
            "needs_background": "light"
          }
        }
      ]
    },
    {
      "cell_type": "markdown",
      "metadata": {
        "papermill": {
          "duration": 0.057296,
          "end_time": "2021-03-08T22:37:56.692708",
          "exception": false,
          "start_time": "2021-03-08T22:37:56.635412",
          "status": "completed"
        },
        "tags": [],
        "id": "pG-ixd_p4KNE"
      },
      "source": [
        "### Observations:\n",
        "* People were more chivalrous back in then? Or women were better able to negotiate their way on to life boats? Maybe they were with their children?\n",
        "* "
      ]
    },
    {
      "cell_type": "code",
      "metadata": {
        "execution": {
          "iopub.execute_input": "2021-03-08T22:37:56.817281Z",
          "iopub.status.busy": "2021-03-08T22:37:56.816243Z",
          "iopub.status.idle": "2021-03-08T22:37:56.895504Z",
          "shell.execute_reply": "2021-03-08T22:37:56.894911Z"
        },
        "papermill": {
          "duration": 0.145814,
          "end_time": "2021-03-08T22:37:56.895671",
          "exception": false,
          "start_time": "2021-03-08T22:37:56.749857",
          "status": "completed"
        },
        "tags": [],
        "id": "yA0FWIT64KNE",
        "outputId": "a9a1ba85-90db-434a-d356-5df8b3040bb8"
      },
      "source": [
        "columns = ['Sex', 'Pclass', 'Embarked', 'SibSp', 'Parch']\n",
        "for column in columns:\n",
        "    print(pd.pivot_table(train, index='Survived', columns=column, values='Name', aggfunc='count'))\n",
        "    print()"
      ],
      "execution_count": null,
      "outputs": [
        {
          "output_type": "stream",
          "text": [
            "Sex       female  male\n",
            "Survived              \n",
            "0             81   468\n",
            "1            233   109\n",
            "\n",
            "Pclass      1   2    3\n",
            "Survived              \n",
            "0          80  97  372\n",
            "1         136  87  119\n",
            "\n",
            "Embarked   C   Q    S\n",
            "Survived             \n",
            "0         75  47  427\n",
            "1         93  30  217\n",
            "\n",
            "SibSp         0      1     2     3     4    5    8\n",
            "Survived                                          \n",
            "0         398.0   97.0  15.0  12.0  15.0  5.0  7.0\n",
            "1         210.0  112.0  13.0   4.0   3.0  NaN  NaN\n",
            "\n",
            "Parch         0     1     2    3    4    5    6\n",
            "Survived                                       \n",
            "0         445.0  53.0  40.0  2.0  4.0  4.0  1.0\n",
            "1         233.0  65.0  40.0  3.0  NaN  1.0  NaN\n",
            "\n"
          ],
          "name": "stdout"
        }
      ]
    },
    {
      "cell_type": "code",
      "metadata": {
        "execution": {
          "iopub.execute_input": "2021-03-08T22:37:57.025659Z",
          "iopub.status.busy": "2021-03-08T22:37:57.021046Z",
          "iopub.status.idle": "2021-03-08T22:37:57.038051Z",
          "shell.execute_reply": "2021-03-08T22:37:57.036942Z"
        },
        "papermill": {
          "duration": 0.083894,
          "end_time": "2021-03-08T22:37:57.038257",
          "exception": false,
          "start_time": "2021-03-08T22:37:56.954363",
          "status": "completed"
        },
        "tags": [],
        "id": "dI-yQgpe4KNF",
        "outputId": "f6ec5449-f1e5-4cc9-fb11-97539d08ccf3"
      },
      "source": [
        "# Analysis of SES - Pclass survival rates, counts, and averages\n",
        "\n",
        "print('Socio Economic Class - Count')\n",
        "print(train.groupby(['Pclass']).count())\n",
        "print()\n",
        "print('Socio Economic Class - Mean')\n",
        "print(train.groupby(['Pclass']).mean())"
      ],
      "execution_count": null,
      "outputs": [
        {
          "output_type": "stream",
          "text": [
            "Socio Economic Class - Count\n",
            "        Survived  Name  Sex  Age  SibSp  Parch  Ticket  Fare  Cabin  Embarked\n",
            "Pclass                                                                       \n",
            "1            216   216  216  186    216    216     216   216    176       214\n",
            "2            184   184  184  173    184    184     184   184     16       184\n",
            "3            491   491  491  355    491    491     491   491     12       491\n",
            "\n",
            "Socio Economic Class - Mean\n",
            "        Survived        Age     SibSp     Parch       Fare\n",
            "Pclass                                                    \n",
            "1       0.629630  38.233441  0.416667  0.356481  84.154687\n",
            "2       0.472826  29.877630  0.402174  0.380435  20.662183\n",
            "3       0.242363  25.140620  0.615071  0.393075  13.675550\n"
          ],
          "name": "stdout"
        }
      ]
    },
    {
      "cell_type": "code",
      "metadata": {
        "execution": {
          "iopub.execute_input": "2021-03-08T22:37:57.170056Z",
          "iopub.status.busy": "2021-03-08T22:37:57.166034Z",
          "iopub.status.idle": "2021-03-08T22:37:57.197188Z",
          "shell.execute_reply": "2021-03-08T22:37:57.196570Z"
        },
        "papermill": {
          "duration": 0.09779,
          "end_time": "2021-03-08T22:37:57.197351",
          "exception": false,
          "start_time": "2021-03-08T22:37:57.099561",
          "status": "completed"
        },
        "tags": [],
        "id": "rSHAVEfn4KNF",
        "outputId": "db1e11b5-b86b-432d-daf6-30f7e41fe558"
      },
      "source": [
        "print('Value Counts')\n",
        "print(pd.pivot_table(train, index='Pclass', columns='Embarked', values='Name', aggfunc='count'))\n",
        "print('')\n",
        "print('Average Fare Amount')\n",
        "print(pd.pivot_table(train, index='Pclass', columns='Embarked', values='Fare', aggfunc='median'))"
      ],
      "execution_count": null,
      "outputs": [
        {
          "output_type": "stream",
          "text": [
            "Value Counts\n",
            "Embarked   C   Q    S\n",
            "Pclass               \n",
            "1         85   2  127\n",
            "2         17   3  164\n",
            "3         66  72  353\n",
            "\n",
            "Average Fare Amount\n",
            "Embarked        C      Q      S\n",
            "Pclass                         \n",
            "1         78.2667  90.00  52.00\n",
            "2         24.0000  12.35  13.50\n",
            "3          7.8958   7.75   8.05\n"
          ],
          "name": "stdout"
        }
      ]
    },
    {
      "cell_type": "code",
      "metadata": {
        "execution": {
          "iopub.execute_input": "2021-03-08T22:37:57.323105Z",
          "iopub.status.busy": "2021-03-08T22:37:57.322433Z",
          "iopub.status.idle": "2021-03-08T22:37:57.769942Z",
          "shell.execute_reply": "2021-03-08T22:37:57.769227Z"
        },
        "papermill": {
          "duration": 0.512754,
          "end_time": "2021-03-08T22:37:57.770092",
          "exception": false,
          "start_time": "2021-03-08T22:37:57.257338",
          "status": "completed"
        },
        "tags": [],
        "id": "88us9ArT4KNF",
        "outputId": "185d2a7c-6cb6-49a6-8213-60ff3d63268b"
      },
      "source": [
        "fig, ax = plt.subplots(1, 2, figsize=(12, 4))\n",
        "sns.boxplot(x='Embarked', y='Fare', data=train, ax=ax[0])\n",
        "sns.boxplot(x='Embarked', y='Age', data=train, ax=ax[1])\n",
        "# sns.boxplot(x='Embarked', y='Age', hue='Sex', data=train, ax=ax[2])\n",
        "\n",
        "ax[0].set_title('Fare Boxplot By Port of Embarkment')\n",
        "ax[1].set_title('Age Distribution Boxplot By Embarkement')"
      ],
      "execution_count": null,
      "outputs": [
        {
          "output_type": "execute_result",
          "data": {
            "text/plain": [
              "Text(0.5, 1.0, 'Age Distribution Boxplot By Embarkement')"
            ]
          },
          "metadata": {
            "tags": []
          },
          "execution_count": 18
        },
        {
          "output_type": "display_data",
          "data": {
            "image/png": "[encoded data removed]",
            "text/plain": [
              "<Figure size 864x288 with 2 Axes>"
            ]
          },
          "metadata": {
            "tags": [],
            "needs_background": "light"
          }
        }
      ]
    },
    {
      "cell_type": "markdown",
      "metadata": {
        "papermill": {
          "duration": 0.060443,
          "end_time": "2021-03-08T22:37:57.890968",
          "exception": false,
          "start_time": "2021-03-08T22:37:57.830525",
          "status": "completed"
        },
        "tags": [],
        "id": "8ZK5H_lw4KNG"
      },
      "source": [
        "### Observations:\n",
        "* People from Cherbourg, France are able to pay more money for fare, and support the hypothesis that wealther passengers had a higher chance of survival. \n",
        "* Major outliers for Cherbourg dataset \n",
        "* Wealth matters. Please from 1st class had higher rates of survival, and more people survived rather than drowned compared to the other classes. \n",
        "* You have a higher chance of surviving if you're solo or have 1 family member with you compared to a large family. Maybe it was difficult to choose which family member would survive? Or maybe it was more expensive to have a 1st class cabin and better location to boats?\n",
        "\n"
      ]
    },
    {
      "cell_type": "code",
      "metadata": {
        "execution": {
          "iopub.execute_input": "2021-03-08T22:37:58.024351Z",
          "iopub.status.busy": "2021-03-08T22:37:58.022006Z",
          "iopub.status.idle": "2021-03-08T22:37:58.045050Z",
          "shell.execute_reply": "2021-03-08T22:37:58.044422Z"
        },
        "papermill": {
          "duration": 0.091962,
          "end_time": "2021-03-08T22:37:58.045356",
          "exception": false,
          "start_time": "2021-03-08T22:37:57.953394",
          "status": "completed"
        },
        "tags": [],
        "id": "w54etSca4KNG",
        "outputId": "54ce478a-4f68-4849-9746-33e8a8deaa81"
      },
      "source": [
        "cut_labels = ['>10', '11-20', '21-30', '31-40', '41-50', '51-60', '61-70', '71-80']\n",
        "# cut_bins = [0, 70000, 100000, 130000, 200000]\n",
        "cut_df = train\n",
        "cut_df['cut_age'] = pd.cut(cut_df['Age'], bins=8, labels=cut_labels)\n",
        "age_bin_df = cut_df.groupby(['cut_age']).sum()\n",
        "print(type(age_bin_df))\n",
        "age_bin_df"
      ],
      "execution_count": null,
      "outputs": [
        {
          "output_type": "stream",
          "text": [
            "<class 'pandas.core.frame.DataFrame'>\n"
          ],
          "name": "stdout"
        },
        {
          "output_type": "execute_result",
          "data": {
            "text/html": [
              "<div>\n",
              "<style scoped>\n",
              "    .dataframe tbody tr th:only-of-type {\n",
              "        vertical-align: middle;\n",
              "    }\n",
              "\n",
              "    .dataframe tbody tr th {\n",
              "        vertical-align: top;\n",
              "    }\n",
              "\n",
              "    .dataframe thead th {\n",
              "        text-align: right;\n",
              "    }\n",
              "</style>\n",
              "<table border=\"1\" class=\"dataframe\">\n",
              "  <thead>\n",
              "    <tr style=\"text-align: right;\">\n",
              "      <th></th>\n",
              "      <th>Survived</th>\n",
              "      <th>Pclass</th>\n",
              "      <th>Age</th>\n",
              "      <th>SibSp</th>\n",
              "      <th>Parch</th>\n",
              "      <th>Fare</th>\n",
              "    </tr>\n",
              "    <tr>\n",
              "      <th>cut_age</th>\n",
              "      <th></th>\n",
              "      <th></th>\n",
              "      <th></th>\n",
              "      <th></th>\n",
              "      <th></th>\n",
              "      <th></th>\n",
              "    </tr>\n",
              "  </thead>\n",
              "  <tbody>\n",
              "    <tr>\n",
              "      <th>&gt;10</th>\n",
              "      <td>38</td>\n",
              "      <td>169</td>\n",
              "      <td>273.17</td>\n",
              "      <td>118</td>\n",
              "      <td>91</td>\n",
              "      <td>1947.8041</td>\n",
              "    </tr>\n",
              "    <tr>\n",
              "      <th>11-20</th>\n",
              "      <td>44</td>\n",
              "      <td>291</td>\n",
              "      <td>1991.50</td>\n",
              "      <td>68</td>\n",
              "      <td>45</td>\n",
              "      <td>3395.8961</td>\n",
              "    </tr>\n",
              "    <tr>\n",
              "      <th>21-30</th>\n",
              "      <td>84</td>\n",
              "      <td>549</td>\n",
              "      <td>5847.50</td>\n",
              "      <td>74</td>\n",
              "      <td>55</td>\n",
              "      <td>6510.5453</td>\n",
              "    </tr>\n",
              "    <tr>\n",
              "      <th>31-40</th>\n",
              "      <td>69</td>\n",
              "      <td>324</td>\n",
              "      <td>5433.00</td>\n",
              "      <td>58</td>\n",
              "      <td>61</td>\n",
              "      <td>6586.8955</td>\n",
              "    </tr>\n",
              "    <tr>\n",
              "      <th>41-50</th>\n",
              "      <td>33</td>\n",
              "      <td>165</td>\n",
              "      <td>3902.00</td>\n",
              "      <td>32</td>\n",
              "      <td>37</td>\n",
              "      <td>3540.0336</td>\n",
              "    </tr>\n",
              "    <tr>\n",
              "      <th>51-60</th>\n",
              "      <td>17</td>\n",
              "      <td>64</td>\n",
              "      <td>2305.50</td>\n",
              "      <td>13</td>\n",
              "      <td>13</td>\n",
              "      <td>1880.5417</td>\n",
              "    </tr>\n",
              "    <tr>\n",
              "      <th>61-70</th>\n",
              "      <td>4</td>\n",
              "      <td>26</td>\n",
              "      <td>1086.00</td>\n",
              "      <td>3</td>\n",
              "      <td>6</td>\n",
              "      <td>780.4833</td>\n",
              "    </tr>\n",
              "    <tr>\n",
              "      <th>71-80</th>\n",
              "      <td>1</td>\n",
              "      <td>9</td>\n",
              "      <td>366.50</td>\n",
              "      <td>0</td>\n",
              "      <td>0</td>\n",
              "      <td>129.6834</td>\n",
              "    </tr>\n",
              "  </tbody>\n",
              "</table>\n",
              "</div>"
            ],
            "text/plain": [
              "         Survived  Pclass      Age  SibSp  Parch       Fare\n",
              "cut_age                                                    \n",
              ">10            38     169   273.17    118     91  1947.8041\n",
              "11-20          44     291  1991.50     68     45  3395.8961\n",
              "21-30          84     549  5847.50     74     55  6510.5453\n",
              "31-40          69     324  5433.00     58     61  6586.8955\n",
              "41-50          33     165  3902.00     32     37  3540.0336\n",
              "51-60          17      64  2305.50     13     13  1880.5417\n",
              "61-70           4      26  1086.00      3      6   780.4833\n",
              "71-80           1       9   366.50      0      0   129.6834"
            ]
          },
          "metadata": {
            "tags": []
          },
          "execution_count": 19
        }
      ]
    },
    {
      "cell_type": "code",
      "metadata": {
        "execution": {
          "iopub.execute_input": "2021-03-08T22:37:58.179074Z",
          "iopub.status.busy": "2021-03-08T22:37:58.178068Z",
          "iopub.status.idle": "2021-03-08T22:37:58.182002Z",
          "shell.execute_reply": "2021-03-08T22:37:58.181464Z"
        },
        "papermill": {
          "duration": 0.072303,
          "end_time": "2021-03-08T22:37:58.182159",
          "exception": false,
          "start_time": "2021-03-08T22:37:58.109856",
          "status": "completed"
        },
        "tags": [],
        "id": "TrT2Nt924KNH"
      },
      "source": [
        "train = train.drop(columns=['cut_age'])"
      ],
      "execution_count": null,
      "outputs": []
    },
    {
      "cell_type": "code",
      "metadata": {
        "execution": {
          "iopub.execute_input": "2021-03-08T22:37:58.314041Z",
          "iopub.status.busy": "2021-03-08T22:37:58.312995Z",
          "iopub.status.idle": "2021-03-08T22:37:58.561200Z",
          "shell.execute_reply": "2021-03-08T22:37:58.561701Z"
        },
        "papermill": {
          "duration": 0.318817,
          "end_time": "2021-03-08T22:37:58.561886",
          "exception": false,
          "start_time": "2021-03-08T22:37:58.243069",
          "status": "completed"
        },
        "tags": [],
        "id": "_B3JOrpY4KNH",
        "outputId": "c7556399-43be-468e-8630-ed4d1aee169c"
      },
      "source": [
        "g = sns.countplot(data=cut_df, x='cut_age', hue='Survived')\n",
        "g.set_title('Surviors by Age')"
      ],
      "execution_count": null,
      "outputs": [
        {
          "output_type": "execute_result",
          "data": {
            "text/plain": [
              "Text(0.5, 1.0, 'Surviors by Age')"
            ]
          },
          "metadata": {
            "tags": []
          },
          "execution_count": 21
        },
        {
          "output_type": "display_data",
          "data": {
            "image/png": "[encoded data removed]",
            "text/plain": [
              "<Figure size 432x288 with 1 Axes>"
            ]
          },
          "metadata": {
            "tags": [],
            "needs_background": "light"
          }
        }
      ]
    },
    {
      "cell_type": "markdown",
      "metadata": {
        "papermill": {
          "duration": 0.062553,
          "end_time": "2021-03-08T22:37:58.686894",
          "exception": false,
          "start_time": "2021-03-08T22:37:58.624341",
          "status": "completed"
        },
        "tags": [],
        "id": "AIabJd4y4KNH"
      },
      "source": [
        "### Observations:\n",
        "* Survival based on age followed a somewhat normal distribution with a tail to the right with older people.\n",
        "* Young children and infants survived more than died. Probably the mentality of women and children to be saved first. \n",
        "* High rates of survival for people in their 30s, 40s and 50s. \n"
      ]
    },
    {
      "cell_type": "markdown",
      "metadata": {
        "papermill": {
          "duration": 0.062401,
          "end_time": "2021-03-08T22:37:58.811421",
          "exception": false,
          "start_time": "2021-03-08T22:37:58.749020",
          "status": "completed"
        },
        "tags": [],
        "id": "NHyMc-R34KNH"
      },
      "source": [
        "# <div align='center'>Outliers Analysis\n",
        "* Fare\n",
        "* Sibsp\n",
        "* Ticket numbering\n",
        "* Age"
      ]
    },
    {
      "cell_type": "code",
      "metadata": {
        "execution": {
          "iopub.execute_input": "2021-03-08T22:37:58.942765Z",
          "iopub.status.busy": "2021-03-08T22:37:58.941876Z",
          "iopub.status.idle": "2021-03-08T22:37:58.943928Z",
          "shell.execute_reply": "2021-03-08T22:37:58.944398Z"
        },
        "papermill": {
          "duration": 0.070028,
          "end_time": "2021-03-08T22:37:58.944576",
          "exception": false,
          "start_time": "2021-03-08T22:37:58.874548",
          "status": "completed"
        },
        "tags": [],
        "id": "IdLlWQlP4KNI"
      },
      "source": [
        "def boxplt(column):\n",
        "    sns.set_theme(style='whitegrid')\n",
        "    g = sns.boxplot(x=train[column])\n",
        "    g.set_title(f\"{column} Outlier Boxplot\")\n",
        "    return g "
      ],
      "execution_count": null,
      "outputs": []
    },
    {
      "cell_type": "markdown",
      "metadata": {
        "papermill": {
          "duration": 0.062623,
          "end_time": "2021-03-08T22:37:59.069384",
          "exception": false,
          "start_time": "2021-03-08T22:37:59.006761",
          "status": "completed"
        },
        "tags": [],
        "id": "WA05rFLl4KNI"
      },
      "source": [
        "## Fare Outlier Analysis"
      ]
    },
    {
      "cell_type": "code",
      "metadata": {
        "execution": {
          "iopub.execute_input": "2021-03-08T22:37:59.199974Z",
          "iopub.status.busy": "2021-03-08T22:37:59.199301Z",
          "iopub.status.idle": "2021-03-08T22:37:59.373457Z",
          "shell.execute_reply": "2021-03-08T22:37:59.372813Z"
        },
        "papermill": {
          "duration": 0.239798,
          "end_time": "2021-03-08T22:37:59.373600",
          "exception": false,
          "start_time": "2021-03-08T22:37:59.133802",
          "status": "completed"
        },
        "tags": [],
        "id": "q5i3LQWM4KNI",
        "outputId": "06892a1e-220f-45f4-915b-7b61f21f75b0"
      },
      "source": [
        "boxplt('Fare')"
      ],
      "execution_count": null,
      "outputs": [
        {
          "output_type": "execute_result",
          "data": {
            "text/plain": [
              "<AxesSubplot:title={'center':'Fare Outlier Boxplot'}, xlabel='Fare'>"
            ]
          },
          "metadata": {
            "tags": []
          },
          "execution_count": 23
        },
        {
          "output_type": "display_data",
          "data": {
            "image/png": "[encoded data removed]",
            "text/plain": [
              "<Figure size 432x288 with 1 Axes>"
            ]
          },
          "metadata": {
            "tags": []
          }
        }
      ]
    },
    {
      "cell_type": "code",
      "metadata": {
        "execution": {
          "iopub.execute_input": "2021-03-08T22:37:59.520595Z",
          "iopub.status.busy": "2021-03-08T22:37:59.519518Z",
          "iopub.status.idle": "2021-03-08T22:37:59.523633Z",
          "shell.execute_reply": "2021-03-08T22:37:59.523033Z"
        },
        "papermill": {
          "duration": 0.086477,
          "end_time": "2021-03-08T22:37:59.523790",
          "exception": false,
          "start_time": "2021-03-08T22:37:59.437313",
          "status": "completed"
        },
        "tags": [],
        "id": "QRYnkQ8O4KNI",
        "outputId": "2db88f34-8d24-4d2f-b642-889fab2e22e2"
      },
      "source": [
        "train.loc[train['Fare'] > 500]"
      ],
      "execution_count": null,
      "outputs": [
        {
          "output_type": "execute_result",
          "data": {
            "text/html": [
              "<div>\n",
              "<style scoped>\n",
              "    .dataframe tbody tr th:only-of-type {\n",
              "        vertical-align: middle;\n",
              "    }\n",
              "\n",
              "    .dataframe tbody tr th {\n",
              "        vertical-align: top;\n",
              "    }\n",
              "\n",
              "    .dataframe thead th {\n",
              "        text-align: right;\n",
              "    }\n",
              "</style>\n",
              "<table border=\"1\" class=\"dataframe\">\n",
              "  <thead>\n",
              "    <tr style=\"text-align: right;\">\n",
              "      <th></th>\n",
              "      <th>Survived</th>\n",
              "      <th>Pclass</th>\n",
              "      <th>Name</th>\n",
              "      <th>Sex</th>\n",
              "      <th>Age</th>\n",
              "      <th>SibSp</th>\n",
              "      <th>Parch</th>\n",
              "      <th>Ticket</th>\n",
              "      <th>Fare</th>\n",
              "      <th>Cabin</th>\n",
              "      <th>Embarked</th>\n",
              "    </tr>\n",
              "    <tr>\n",
              "      <th>PassengerId</th>\n",
              "      <th></th>\n",
              "      <th></th>\n",
              "      <th></th>\n",
              "      <th></th>\n",
              "      <th></th>\n",
              "      <th></th>\n",
              "      <th></th>\n",
              "      <th></th>\n",
              "      <th></th>\n",
              "      <th></th>\n",
              "      <th></th>\n",
              "    </tr>\n",
              "  </thead>\n",
              "  <tbody>\n",
              "    <tr>\n",
              "      <th>259</th>\n",
              "      <td>1</td>\n",
              "      <td>1</td>\n",
              "      <td>Ward, Miss. Anna</td>\n",
              "      <td>female</td>\n",
              "      <td>35.0</td>\n",
              "      <td>0</td>\n",
              "      <td>0</td>\n",
              "      <td>PC 17755</td>\n",
              "      <td>512.3292</td>\n",
              "      <td>NaN</td>\n",
              "      <td>C</td>\n",
              "    </tr>\n",
              "    <tr>\n",
              "      <th>680</th>\n",
              "      <td>1</td>\n",
              "      <td>1</td>\n",
              "      <td>Cardeza, Mr. Thomas Drake Martinez</td>\n",
              "      <td>male</td>\n",
              "      <td>36.0</td>\n",
              "      <td>0</td>\n",
              "      <td>1</td>\n",
              "      <td>PC 17755</td>\n",
              "      <td>512.3292</td>\n",
              "      <td>B51 B53 B55</td>\n",
              "      <td>C</td>\n",
              "    </tr>\n",
              "    <tr>\n",
              "      <th>738</th>\n",
              "      <td>1</td>\n",
              "      <td>1</td>\n",
              "      <td>Lesurer, Mr. Gustave J</td>\n",
              "      <td>male</td>\n",
              "      <td>35.0</td>\n",
              "      <td>0</td>\n",
              "      <td>0</td>\n",
              "      <td>PC 17755</td>\n",
              "      <td>512.3292</td>\n",
              "      <td>B101</td>\n",
              "      <td>C</td>\n",
              "    </tr>\n",
              "  </tbody>\n",
              "</table>\n",
              "</div>"
            ],
            "text/plain": [
              "             Survived  Pclass                                Name     Sex  \\\n",
              "PassengerId                                                                 \n",
              "259                 1       1                    Ward, Miss. Anna  female   \n",
              "680                 1       1  Cardeza, Mr. Thomas Drake Martinez    male   \n",
              "738                 1       1              Lesurer, Mr. Gustave J    male   \n",
              "\n",
              "              Age  SibSp  Parch    Ticket      Fare        Cabin Embarked  \n",
              "PassengerId                                                                \n",
              "259          35.0      0      0  PC 17755  512.3292          NaN        C  \n",
              "680          36.0      0      1  PC 17755  512.3292  B51 B53 B55        C  \n",
              "738          35.0      0      0  PC 17755  512.3292         B101        C  "
            ]
          },
          "metadata": {
            "tags": []
          },
          "execution_count": 24
        }
      ]
    },
    {
      "cell_type": "markdown",
      "metadata": {
        "papermill": {
          "duration": 0.063968,
          "end_time": "2021-03-08T22:37:59.652199",
          "exception": false,
          "start_time": "2021-03-08T22:37:59.588231",
          "status": "completed"
        },
        "tags": [],
        "id": "rRc7mcHq4KNJ"
      },
      "source": [
        "### Findings:\n",
        "These outliers paid the princely sum of 512 pounds. In today's pound it would be worth a staggering **58,864 pounds**! (Note: each group had both the same ticket number and fare paid). This was by far the most out of any of the guests. Part of the same group lead by the wealthy Mr. Cardeza - Miss. Ward the maid, and Mr. Lesurer the manservant. They were on their way back to the USA by way of Cherbourg, France. \n",
        "* All similar age\n",
        "* Multiple cabins but interestly all on the 'B' deck. **Could this be the best deck on the ship? We should analyze deck levels for our model.**\n",
        "* **Feature: Cherbourg was the best place to leave if you wanted to survive. We will add this to our list of features for the ML models.**\n",
        "* **Feature: Maybe is there a correlations between 'PC' tickets and survival rate?**\n",
        "\n",
        "To learn more about this group visit this biography of [Miss. Anna Ward](https://www.encyclopedia-titanica.org/titanic-survivor/annie-moore-ward.html)"
      ]
    },
    {
      "cell_type": "markdown",
      "metadata": {
        "papermill": {
          "duration": 0.064256,
          "end_time": "2021-03-08T22:37:59.780734",
          "exception": false,
          "start_time": "2021-03-08T22:37:59.716478",
          "status": "completed"
        },
        "tags": [],
        "id": "mw3j-VW04KNJ"
      },
      "source": [
        "### Ticket Number Analysis"
      ]
    },
    {
      "cell_type": "code",
      "metadata": {
        "execution": {
          "iopub.execute_input": "2021-03-08T22:37:59.923280Z",
          "iopub.status.busy": "2021-03-08T22:37:59.919187Z",
          "iopub.status.idle": "2021-03-08T22:37:59.941284Z",
          "shell.execute_reply": "2021-03-08T22:37:59.940796Z"
        },
        "papermill": {
          "duration": 0.096574,
          "end_time": "2021-03-08T22:37:59.941442",
          "exception": false,
          "start_time": "2021-03-08T22:37:59.844868",
          "status": "completed"
        },
        "tags": [],
        "id": "NWLGh-O44KNJ",
        "outputId": "da115c72-e7bf-41c3-98c0-af6f4bd9ca4b"
      },
      "source": [
        "# The outliers had similar ticket number structures with 'PC'. We find that all tickets with 'PC' had a 65% of survival. \n",
        "\n",
        "ticket_pc_df = train[train['Ticket'].str.match(\"PC\")]\n",
        "print(ticket_pc_df.describe())"
      ],
      "execution_count": null,
      "outputs": [
        {
          "output_type": "stream",
          "text": [
            "        Survived  Pclass        Age      SibSp      Parch        Fare\n",
            "count  60.000000    60.0  50.000000  60.000000  60.000000   60.000000\n",
            "mean    0.650000     1.0  37.120000   0.333333   0.233333  122.080483\n",
            "std     0.480995     0.0  13.362512   0.572437   0.499717  114.189525\n",
            "min     0.000000     1.0  16.000000   0.000000   0.000000   25.925000\n",
            "25%     0.000000     1.0  24.750000   0.000000   0.000000   49.504200\n",
            "50%     1.000000     1.0  36.000000   0.000000   0.000000   79.200000\n",
            "75%     1.000000     1.0  47.500000   1.000000   0.000000  148.256225\n",
            "max     1.000000     1.0  71.000000   2.000000   2.000000  512.329200\n"
          ],
          "name": "stdout"
        }
      ]
    },
    {
      "cell_type": "code",
      "metadata": {
        "execution": {
          "iopub.execute_input": "2021-03-08T22:38:00.099987Z",
          "iopub.status.busy": "2021-03-08T22:38:00.099003Z",
          "iopub.status.idle": "2021-03-08T22:38:00.103973Z",
          "shell.execute_reply": "2021-03-08T22:38:00.103317Z"
        },
        "papermill": {
          "duration": 0.095015,
          "end_time": "2021-03-08T22:38:00.104120",
          "exception": false,
          "start_time": "2021-03-08T22:38:00.009105",
          "status": "completed"
        },
        "tags": [],
        "id": "EYKhDz_24KNK",
        "outputId": "36b42b6a-7c06-4a8f-80ea-2829f463405d"
      },
      "source": [
        "# Inspect 1st class ticket structure\n",
        "\n",
        "pclass_df = train.loc[train['Pclass'] == 1]\n",
        "pclass_df.groupby(['Ticket']).mean()"
      ],
      "execution_count": null,
      "outputs": [
        {
          "output_type": "execute_result",
          "data": {
            "text/html": [
              "<div>\n",
              "<style scoped>\n",
              "    .dataframe tbody tr th:only-of-type {\n",
              "        vertical-align: middle;\n",
              "    }\n",
              "\n",
              "    .dataframe tbody tr th {\n",
              "        vertical-align: top;\n",
              "    }\n",
              "\n",
              "    .dataframe thead th {\n",
              "        text-align: right;\n",
              "    }\n",
              "</style>\n",
              "<table border=\"1\" class=\"dataframe\">\n",
              "  <thead>\n",
              "    <tr style=\"text-align: right;\">\n",
              "      <th></th>\n",
              "      <th>Survived</th>\n",
              "      <th>Pclass</th>\n",
              "      <th>Age</th>\n",
              "      <th>SibSp</th>\n",
              "      <th>Parch</th>\n",
              "      <th>Fare</th>\n",
              "    </tr>\n",
              "    <tr>\n",
              "      <th>Ticket</th>\n",
              "      <th></th>\n",
              "      <th></th>\n",
              "      <th></th>\n",
              "      <th></th>\n",
              "      <th></th>\n",
              "      <th></th>\n",
              "    </tr>\n",
              "  </thead>\n",
              "  <tbody>\n",
              "    <tr>\n",
              "      <th>110152</th>\n",
              "      <td>1.000000</td>\n",
              "      <td>1.0</td>\n",
              "      <td>26.333333</td>\n",
              "      <td>0.000000</td>\n",
              "      <td>0.000000</td>\n",
              "      <td>86.5000</td>\n",
              "    </tr>\n",
              "    <tr>\n",
              "      <th>110413</th>\n",
              "      <td>0.666667</td>\n",
              "      <td>1.0</td>\n",
              "      <td>36.333333</td>\n",
              "      <td>0.666667</td>\n",
              "      <td>1.333333</td>\n",
              "      <td>79.6500</td>\n",
              "    </tr>\n",
              "    <tr>\n",
              "      <th>110465</th>\n",
              "      <td>0.000000</td>\n",
              "      <td>1.0</td>\n",
              "      <td>47.000000</td>\n",
              "      <td>0.000000</td>\n",
              "      <td>0.000000</td>\n",
              "      <td>52.0000</td>\n",
              "    </tr>\n",
              "    <tr>\n",
              "      <th>110564</th>\n",
              "      <td>1.000000</td>\n",
              "      <td>1.0</td>\n",
              "      <td>28.000000</td>\n",
              "      <td>0.000000</td>\n",
              "      <td>0.000000</td>\n",
              "      <td>26.5500</td>\n",
              "    </tr>\n",
              "    <tr>\n",
              "      <th>110813</th>\n",
              "      <td>1.000000</td>\n",
              "      <td>1.0</td>\n",
              "      <td>60.000000</td>\n",
              "      <td>1.000000</td>\n",
              "      <td>0.000000</td>\n",
              "      <td>75.2500</td>\n",
              "    </tr>\n",
              "    <tr>\n",
              "      <th>...</th>\n",
              "      <td>...</td>\n",
              "      <td>...</td>\n",
              "      <td>...</td>\n",
              "      <td>...</td>\n",
              "      <td>...</td>\n",
              "      <td>...</td>\n",
              "    </tr>\n",
              "    <tr>\n",
              "      <th>PC 17759</th>\n",
              "      <td>1.000000</td>\n",
              "      <td>1.0</td>\n",
              "      <td>23.000000</td>\n",
              "      <td>0.000000</td>\n",
              "      <td>1.000000</td>\n",
              "      <td>63.3583</td>\n",
              "    </tr>\n",
              "    <tr>\n",
              "      <th>PC 17760</th>\n",
              "      <td>0.666667</td>\n",
              "      <td>1.0</td>\n",
              "      <td>31.000000</td>\n",
              "      <td>0.000000</td>\n",
              "      <td>0.000000</td>\n",
              "      <td>135.6333</td>\n",
              "    </tr>\n",
              "    <tr>\n",
              "      <th>PC 17761</th>\n",
              "      <td>0.500000</td>\n",
              "      <td>1.0</td>\n",
              "      <td>40.000000</td>\n",
              "      <td>0.500000</td>\n",
              "      <td>0.000000</td>\n",
              "      <td>106.4250</td>\n",
              "    </tr>\n",
              "    <tr>\n",
              "      <th>W.E.P. 5734</th>\n",
              "      <td>0.000000</td>\n",
              "      <td>1.0</td>\n",
              "      <td>46.000000</td>\n",
              "      <td>1.000000</td>\n",
              "      <td>0.000000</td>\n",
              "      <td>61.1750</td>\n",
              "    </tr>\n",
              "    <tr>\n",
              "      <th>WE/P 5735</th>\n",
              "      <td>0.500000</td>\n",
              "      <td>1.0</td>\n",
              "      <td>53.000000</td>\n",
              "      <td>0.500000</td>\n",
              "      <td>1.500000</td>\n",
              "      <td>71.0000</td>\n",
              "    </tr>\n",
              "  </tbody>\n",
              "</table>\n",
              "<p>147 rows × 6 columns</p>\n",
              "</div>"
            ],
            "text/plain": [
              "             Survived  Pclass        Age     SibSp     Parch      Fare\n",
              "Ticket                                                                \n",
              "110152       1.000000     1.0  26.333333  0.000000  0.000000   86.5000\n",
              "110413       0.666667     1.0  36.333333  0.666667  1.333333   79.6500\n",
              "110465       0.000000     1.0  47.000000  0.000000  0.000000   52.0000\n",
              "110564       1.000000     1.0  28.000000  0.000000  0.000000   26.5500\n",
              "110813       1.000000     1.0  60.000000  1.000000  0.000000   75.2500\n",
              "...               ...     ...        ...       ...       ...       ...\n",
              "PC 17759     1.000000     1.0  23.000000  0.000000  1.000000   63.3583\n",
              "PC 17760     0.666667     1.0  31.000000  0.000000  0.000000  135.6333\n",
              "PC 17761     0.500000     1.0  40.000000  0.500000  0.000000  106.4250\n",
              "W.E.P. 5734  0.000000     1.0  46.000000  1.000000  0.000000   61.1750\n",
              "WE/P 5735    0.500000     1.0  53.000000  0.500000  1.500000   71.0000\n",
              "\n",
              "[147 rows x 6 columns]"
            ]
          },
          "metadata": {
            "tags": []
          },
          "execution_count": 26
        }
      ]
    },
    {
      "cell_type": "code",
      "metadata": {
        "execution": {
          "iopub.execute_input": "2021-03-08T22:38:00.252525Z",
          "iopub.status.busy": "2021-03-08T22:38:00.251455Z",
          "iopub.status.idle": "2021-03-08T22:38:00.269546Z",
          "shell.execute_reply": "2021-03-08T22:38:00.268914Z"
        },
        "papermill": {
          "duration": 0.099109,
          "end_time": "2021-03-08T22:38:00.269705",
          "exception": false,
          "start_time": "2021-03-08T22:38:00.170596",
          "status": "completed"
        },
        "tags": [],
        "id": "4xv3X3CE4KNK",
        "outputId": "d5b344ff-fa06-4464-827b-012beeae17c3"
      },
      "source": [
        "# Inspect patterns for tickets with Letters in 1st class who survived - 'PC' in all but one\n",
        "\n",
        "tickets_df = train.loc[train.Ticket.str.contains('[A-Za-z]')]\n",
        "tickets_df2 = train.copy()\n",
        "tickets_df.loc[train.Pclass == 1].loc[train.Survived == 1]\n",
        "tickets_df2['numeric_ticket'] = train.Ticket.apply(lambda x: 1 if x.isnumeric() else 0)\n",
        "tickets_df2\n",
        "pd.pivot_table(tickets_df2, index='Survived', columns='numeric_ticket', values='Name', aggfunc='count')"
      ],
      "execution_count": null,
      "outputs": [
        {
          "output_type": "execute_result",
          "data": {
            "text/html": [
              "<div>\n",
              "<style scoped>\n",
              "    .dataframe tbody tr th:only-of-type {\n",
              "        vertical-align: middle;\n",
              "    }\n",
              "\n",
              "    .dataframe tbody tr th {\n",
              "        vertical-align: top;\n",
              "    }\n",
              "\n",
              "    .dataframe thead th {\n",
              "        text-align: right;\n",
              "    }\n",
              "</style>\n",
              "<table border=\"1\" class=\"dataframe\">\n",
              "  <thead>\n",
              "    <tr style=\"text-align: right;\">\n",
              "      <th>numeric_ticket</th>\n",
              "      <th>0</th>\n",
              "      <th>1</th>\n",
              "    </tr>\n",
              "    <tr>\n",
              "      <th>Survived</th>\n",
              "      <th></th>\n",
              "      <th></th>\n",
              "    </tr>\n",
              "  </thead>\n",
              "  <tbody>\n",
              "    <tr>\n",
              "      <th>0</th>\n",
              "      <td>142</td>\n",
              "      <td>407</td>\n",
              "    </tr>\n",
              "    <tr>\n",
              "      <th>1</th>\n",
              "      <td>88</td>\n",
              "      <td>254</td>\n",
              "    </tr>\n",
              "  </tbody>\n",
              "</table>\n",
              "</div>"
            ],
            "text/plain": [
              "numeric_ticket    0    1\n",
              "Survived                \n",
              "0               142  407\n",
              "1                88  254"
            ]
          },
          "metadata": {
            "tags": []
          },
          "execution_count": 27
        }
      ]
    },
    {
      "cell_type": "code",
      "metadata": {
        "execution": {
          "iopub.execute_input": "2021-03-08T22:38:00.420249Z",
          "iopub.status.busy": "2021-03-08T22:38:00.416321Z",
          "iopub.status.idle": "2021-03-08T22:38:00.440102Z",
          "shell.execute_reply": "2021-03-08T22:38:00.440623Z"
        },
        "papermill": {
          "duration": 0.104993,
          "end_time": "2021-03-08T22:38:00.440827",
          "exception": false,
          "start_time": "2021-03-08T22:38:00.335834",
          "status": "completed"
        },
        "tags": [],
        "id": "KJJimSD64KNK",
        "outputId": "4d3158c5-5727-4cd0-a0c6-71207247fc61"
      },
      "source": [
        "# Simply just having any letter in the 'Ticket' would not help your chance of survival.\n",
        "\n",
        "tickets_df = train.loc[train.Ticket.str.contains('[A-Za-z]')]\n",
        "tickets_df.describe()"
      ],
      "execution_count": null,
      "outputs": [
        {
          "output_type": "execute_result",
          "data": {
            "text/html": [
              "<div>\n",
              "<style scoped>\n",
              "    .dataframe tbody tr th:only-of-type {\n",
              "        vertical-align: middle;\n",
              "    }\n",
              "\n",
              "    .dataframe tbody tr th {\n",
              "        vertical-align: top;\n",
              "    }\n",
              "\n",
              "    .dataframe thead th {\n",
              "        text-align: right;\n",
              "    }\n",
              "</style>\n",
              "<table border=\"1\" class=\"dataframe\">\n",
              "  <thead>\n",
              "    <tr style=\"text-align: right;\">\n",
              "      <th></th>\n",
              "      <th>Survived</th>\n",
              "      <th>Pclass</th>\n",
              "      <th>Age</th>\n",
              "      <th>SibSp</th>\n",
              "      <th>Parch</th>\n",
              "      <th>Fare</th>\n",
              "    </tr>\n",
              "  </thead>\n",
              "  <tbody>\n",
              "    <tr>\n",
              "      <th>count</th>\n",
              "      <td>230.000000</td>\n",
              "      <td>230.000000</td>\n",
              "      <td>193.000000</td>\n",
              "      <td>230.000000</td>\n",
              "      <td>230.000000</td>\n",
              "      <td>230.000000</td>\n",
              "    </tr>\n",
              "    <tr>\n",
              "      <th>mean</th>\n",
              "      <td>0.382609</td>\n",
              "      <td>2.195652</td>\n",
              "      <td>30.411917</td>\n",
              "      <td>0.673913</td>\n",
              "      <td>0.430435</td>\n",
              "      <td>46.784456</td>\n",
              "    </tr>\n",
              "    <tr>\n",
              "      <th>std</th>\n",
              "      <td>0.487084</td>\n",
              "      <td>0.846765</td>\n",
              "      <td>13.966665</td>\n",
              "      <td>1.564541</td>\n",
              "      <td>0.842089</td>\n",
              "      <td>75.100930</td>\n",
              "    </tr>\n",
              "    <tr>\n",
              "      <th>min</th>\n",
              "      <td>0.000000</td>\n",
              "      <td>1.000000</td>\n",
              "      <td>1.000000</td>\n",
              "      <td>0.000000</td>\n",
              "      <td>0.000000</td>\n",
              "      <td>0.000000</td>\n",
              "    </tr>\n",
              "    <tr>\n",
              "      <th>25%</th>\n",
              "      <td>0.000000</td>\n",
              "      <td>1.000000</td>\n",
              "      <td>21.000000</td>\n",
              "      <td>0.000000</td>\n",
              "      <td>0.000000</td>\n",
              "      <td>8.050000</td>\n",
              "    </tr>\n",
              "    <tr>\n",
              "      <th>50%</th>\n",
              "      <td>0.000000</td>\n",
              "      <td>2.000000</td>\n",
              "      <td>29.000000</td>\n",
              "      <td>0.000000</td>\n",
              "      <td>0.000000</td>\n",
              "      <td>20.412500</td>\n",
              "    </tr>\n",
              "    <tr>\n",
              "      <th>75%</th>\n",
              "      <td>1.000000</td>\n",
              "      <td>3.000000</td>\n",
              "      <td>38.000000</td>\n",
              "      <td>1.000000</td>\n",
              "      <td>0.750000</td>\n",
              "      <td>55.696900</td>\n",
              "    </tr>\n",
              "    <tr>\n",
              "      <th>max</th>\n",
              "      <td>1.000000</td>\n",
              "      <td>3.000000</td>\n",
              "      <td>71.000000</td>\n",
              "      <td>8.000000</td>\n",
              "      <td>6.000000</td>\n",
              "      <td>512.329200</td>\n",
              "    </tr>\n",
              "  </tbody>\n",
              "</table>\n",
              "</div>"
            ],
            "text/plain": [
              "         Survived      Pclass         Age       SibSp       Parch        Fare\n",
              "count  230.000000  230.000000  193.000000  230.000000  230.000000  230.000000\n",
              "mean     0.382609    2.195652   30.411917    0.673913    0.430435   46.784456\n",
              "std      0.487084    0.846765   13.966665    1.564541    0.842089   75.100930\n",
              "min      0.000000    1.000000    1.000000    0.000000    0.000000    0.000000\n",
              "25%      0.000000    1.000000   21.000000    0.000000    0.000000    8.050000\n",
              "50%      0.000000    2.000000   29.000000    0.000000    0.000000   20.412500\n",
              "75%      1.000000    3.000000   38.000000    1.000000    0.750000   55.696900\n",
              "max      1.000000    3.000000   71.000000    8.000000    6.000000  512.329200"
            ]
          },
          "metadata": {
            "tags": []
          },
          "execution_count": 28
        }
      ]
    },
    {
      "cell_type": "code",
      "metadata": {
        "execution": {
          "iopub.execute_input": "2021-03-08T22:38:00.586091Z",
          "iopub.status.busy": "2021-03-08T22:38:00.585230Z",
          "iopub.status.idle": "2021-03-08T22:38:00.592155Z",
          "shell.execute_reply": "2021-03-08T22:38:00.593249Z"
        },
        "papermill": {
          "duration": 0.085292,
          "end_time": "2021-03-08T22:38:00.593525",
          "exception": false,
          "start_time": "2021-03-08T22:38:00.508233",
          "status": "completed"
        },
        "tags": [],
        "id": "kqbONC_54KNL",
        "outputId": "6471ad12-0bc4-4b31-88d9-382c281d201b"
      },
      "source": [
        "# Analyze tickets with the letters 'P', 'C', or 'A'\n",
        "# Again, we find that 'P' has the highest rate in these numbers for survival but lower than 'PC'\n",
        "\n",
        "letters = ['P', 'C', 'A']\n",
        "for letter in letters:\n",
        "    letter_df = train.loc[train.Ticket.str.contains(letter)]\n",
        "    percent = letter_df.Survived.mean()\n",
        "    count = letter_df.Survived.count()\n",
        "    print(f'Letter {letter}: {round(percent*100, 1)}% survival rate out of {count} tickets')"
      ],
      "execution_count": null,
      "outputs": [
        {
          "output_type": "stream",
          "text": [
            "Letter P: 58.1% survival rate out of 86 tickets\n",
            "Letter C: 47.3% survival rate out of 146 tickets\n",
            "Letter A: 25.6% survival rate out of 82 tickets\n"
          ],
          "name": "stdout"
        }
      ]
    },
    {
      "cell_type": "markdown",
      "metadata": {
        "papermill": {
          "duration": 0.070853,
          "end_time": "2021-03-08T22:38:00.732591",
          "exception": false,
          "start_time": "2021-03-08T22:38:00.661738",
          "status": "completed"
        },
        "tags": [],
        "id": "W5DnSZN54KNL"
      },
      "source": [
        "## Findings:\n",
        "Tickets with the letter `'PC'` had a **65% survival rate**. Because of this, we should add this as a feature to our model."
      ]
    },
    {
      "cell_type": "markdown",
      "metadata": {
        "papermill": {
          "duration": 0.067221,
          "end_time": "2021-03-08T22:38:00.869921",
          "exception": false,
          "start_time": "2021-03-08T22:38:00.802700",
          "status": "completed"
        },
        "tags": [],
        "id": "gNioWRJk4KNL"
      },
      "source": [
        "## Sibling or Spouse Outlier Analysis"
      ]
    },
    {
      "cell_type": "code",
      "metadata": {
        "execution": {
          "iopub.execute_input": "2021-03-08T22:38:01.028747Z",
          "iopub.status.busy": "2021-03-08T22:38:01.012595Z",
          "iopub.status.idle": "2021-03-08T22:38:01.212817Z",
          "shell.execute_reply": "2021-03-08T22:38:01.213333Z"
        },
        "papermill": {
          "duration": 0.275396,
          "end_time": "2021-03-08T22:38:01.213519",
          "exception": false,
          "start_time": "2021-03-08T22:38:00.938123",
          "status": "completed"
        },
        "tags": [],
        "id": "qsqiXfMc4KNL",
        "outputId": "128da328-5a2a-4353-c686-42965fbe9cf1"
      },
      "source": [
        "boxplt('SibSp')"
      ],
      "execution_count": null,
      "outputs": [
        {
          "output_type": "execute_result",
          "data": {
            "text/plain": [
              "<AxesSubplot:title={'center':'SibSp Outlier Boxplot'}, xlabel='SibSp'>"
            ]
          },
          "metadata": {
            "tags": []
          },
          "execution_count": 30
        },
        {
          "output_type": "display_data",
          "data": {
            "image/png": "[encoded data removed]",
            "text/plain": [
              "<Figure size 432x288 with 1 Axes>"
            ]
          },
          "metadata": {
            "tags": []
          }
        }
      ]
    },
    {
      "cell_type": "code",
      "metadata": {
        "execution": {
          "iopub.execute_input": "2021-03-08T22:38:01.375138Z",
          "iopub.status.busy": "2021-03-08T22:38:01.374388Z",
          "iopub.status.idle": "2021-03-08T22:38:01.378624Z",
          "shell.execute_reply": "2021-03-08T22:38:01.379155Z"
        },
        "papermill": {
          "duration": 0.096645,
          "end_time": "2021-03-08T22:38:01.379344",
          "exception": false,
          "start_time": "2021-03-08T22:38:01.282699",
          "status": "completed"
        },
        "tags": [],
        "id": "0SBDYCCX4KNM",
        "outputId": "ca19a149-5e5e-454d-aa8c-5b32dc97a0f9"
      },
      "source": [
        "# We see that the outliers came from 2 families\n",
        "\n",
        "family_df = train.loc[train['SibSp'] > 4]\n",
        "family_df.sort_values('Name')"
      ],
      "execution_count": null,
      "outputs": [
        {
          "output_type": "execute_result",
          "data": {
            "text/html": [
              "<div>\n",
              "<style scoped>\n",
              "    .dataframe tbody tr th:only-of-type {\n",
              "        vertical-align: middle;\n",
              "    }\n",
              "\n",
              "    .dataframe tbody tr th {\n",
              "        vertical-align: top;\n",
              "    }\n",
              "\n",
              "    .dataframe thead th {\n",
              "        text-align: right;\n",
              "    }\n",
              "</style>\n",
              "<table border=\"1\" class=\"dataframe\">\n",
              "  <thead>\n",
              "    <tr style=\"text-align: right;\">\n",
              "      <th></th>\n",
              "      <th>Survived</th>\n",
              "      <th>Pclass</th>\n",
              "      <th>Name</th>\n",
              "      <th>Sex</th>\n",
              "      <th>Age</th>\n",
              "      <th>SibSp</th>\n",
              "      <th>Parch</th>\n",
              "      <th>Ticket</th>\n",
              "      <th>Fare</th>\n",
              "      <th>Cabin</th>\n",
              "      <th>Embarked</th>\n",
              "    </tr>\n",
              "    <tr>\n",
              "      <th>PassengerId</th>\n",
              "      <th></th>\n",
              "      <th></th>\n",
              "      <th></th>\n",
              "      <th></th>\n",
              "      <th></th>\n",
              "      <th></th>\n",
              "      <th></th>\n",
              "      <th></th>\n",
              "      <th></th>\n",
              "      <th></th>\n",
              "      <th></th>\n",
              "    </tr>\n",
              "  </thead>\n",
              "  <tbody>\n",
              "    <tr>\n",
              "      <th>481</th>\n",
              "      <td>0</td>\n",
              "      <td>3</td>\n",
              "      <td>Goodwin, Master. Harold Victor</td>\n",
              "      <td>male</td>\n",
              "      <td>9.0</td>\n",
              "      <td>5</td>\n",
              "      <td>2</td>\n",
              "      <td>CA 2144</td>\n",
              "      <td>46.90</td>\n",
              "      <td>NaN</td>\n",
              "      <td>S</td>\n",
              "    </tr>\n",
              "    <tr>\n",
              "      <th>387</th>\n",
              "      <td>0</td>\n",
              "      <td>3</td>\n",
              "      <td>Goodwin, Master. Sidney Leonard</td>\n",
              "      <td>male</td>\n",
              "      <td>1.0</td>\n",
              "      <td>5</td>\n",
              "      <td>2</td>\n",
              "      <td>CA 2144</td>\n",
              "      <td>46.90</td>\n",
              "      <td>NaN</td>\n",
              "      <td>S</td>\n",
              "    </tr>\n",
              "    <tr>\n",
              "      <th>60</th>\n",
              "      <td>0</td>\n",
              "      <td>3</td>\n",
              "      <td>Goodwin, Master. William Frederick</td>\n",
              "      <td>male</td>\n",
              "      <td>11.0</td>\n",
              "      <td>5</td>\n",
              "      <td>2</td>\n",
              "      <td>CA 2144</td>\n",
              "      <td>46.90</td>\n",
              "      <td>NaN</td>\n",
              "      <td>S</td>\n",
              "    </tr>\n",
              "    <tr>\n",
              "      <th>72</th>\n",
              "      <td>0</td>\n",
              "      <td>3</td>\n",
              "      <td>Goodwin, Miss. Lillian Amy</td>\n",
              "      <td>female</td>\n",
              "      <td>16.0</td>\n",
              "      <td>5</td>\n",
              "      <td>2</td>\n",
              "      <td>CA 2144</td>\n",
              "      <td>46.90</td>\n",
              "      <td>NaN</td>\n",
              "      <td>S</td>\n",
              "    </tr>\n",
              "    <tr>\n",
              "      <th>684</th>\n",
              "      <td>0</td>\n",
              "      <td>3</td>\n",
              "      <td>Goodwin, Mr. Charles Edward</td>\n",
              "      <td>male</td>\n",
              "      <td>14.0</td>\n",
              "      <td>5</td>\n",
              "      <td>2</td>\n",
              "      <td>CA 2144</td>\n",
              "      <td>46.90</td>\n",
              "      <td>NaN</td>\n",
              "      <td>S</td>\n",
              "    </tr>\n",
              "    <tr>\n",
              "      <th>160</th>\n",
              "      <td>0</td>\n",
              "      <td>3</td>\n",
              "      <td>Sage, Master. Thomas Henry</td>\n",
              "      <td>male</td>\n",
              "      <td>NaN</td>\n",
              "      <td>8</td>\n",
              "      <td>2</td>\n",
              "      <td>CA. 2343</td>\n",
              "      <td>69.55</td>\n",
              "      <td>NaN</td>\n",
              "      <td>S</td>\n",
              "    </tr>\n",
              "    <tr>\n",
              "      <th>181</th>\n",
              "      <td>0</td>\n",
              "      <td>3</td>\n",
              "      <td>Sage, Miss. Constance Gladys</td>\n",
              "      <td>female</td>\n",
              "      <td>NaN</td>\n",
              "      <td>8</td>\n",
              "      <td>2</td>\n",
              "      <td>CA. 2343</td>\n",
              "      <td>69.55</td>\n",
              "      <td>NaN</td>\n",
              "      <td>S</td>\n",
              "    </tr>\n",
              "    <tr>\n",
              "      <th>864</th>\n",
              "      <td>0</td>\n",
              "      <td>3</td>\n",
              "      <td>Sage, Miss. Dorothy Edith \"Dolly\"</td>\n",
              "      <td>female</td>\n",
              "      <td>NaN</td>\n",
              "      <td>8</td>\n",
              "      <td>2</td>\n",
              "      <td>CA. 2343</td>\n",
              "      <td>69.55</td>\n",
              "      <td>NaN</td>\n",
              "      <td>S</td>\n",
              "    </tr>\n",
              "    <tr>\n",
              "      <th>793</th>\n",
              "      <td>0</td>\n",
              "      <td>3</td>\n",
              "      <td>Sage, Miss. Stella Anna</td>\n",
              "      <td>female</td>\n",
              "      <td>NaN</td>\n",
              "      <td>8</td>\n",
              "      <td>2</td>\n",
              "      <td>CA. 2343</td>\n",
              "      <td>69.55</td>\n",
              "      <td>NaN</td>\n",
              "      <td>S</td>\n",
              "    </tr>\n",
              "    <tr>\n",
              "      <th>847</th>\n",
              "      <td>0</td>\n",
              "      <td>3</td>\n",
              "      <td>Sage, Mr. Douglas Bullen</td>\n",
              "      <td>male</td>\n",
              "      <td>NaN</td>\n",
              "      <td>8</td>\n",
              "      <td>2</td>\n",
              "      <td>CA. 2343</td>\n",
              "      <td>69.55</td>\n",
              "      <td>NaN</td>\n",
              "      <td>S</td>\n",
              "    </tr>\n",
              "    <tr>\n",
              "      <th>202</th>\n",
              "      <td>0</td>\n",
              "      <td>3</td>\n",
              "      <td>Sage, Mr. Frederick</td>\n",
              "      <td>male</td>\n",
              "      <td>NaN</td>\n",
              "      <td>8</td>\n",
              "      <td>2</td>\n",
              "      <td>CA. 2343</td>\n",
              "      <td>69.55</td>\n",
              "      <td>NaN</td>\n",
              "      <td>S</td>\n",
              "    </tr>\n",
              "    <tr>\n",
              "      <th>325</th>\n",
              "      <td>0</td>\n",
              "      <td>3</td>\n",
              "      <td>Sage, Mr. George John Jr</td>\n",
              "      <td>male</td>\n",
              "      <td>NaN</td>\n",
              "      <td>8</td>\n",
              "      <td>2</td>\n",
              "      <td>CA. 2343</td>\n",
              "      <td>69.55</td>\n",
              "      <td>NaN</td>\n",
              "      <td>S</td>\n",
              "    </tr>\n",
              "  </tbody>\n",
              "</table>\n",
              "</div>"
            ],
            "text/plain": [
              "             Survived  Pclass                                Name     Sex  \\\n",
              "PassengerId                                                                 \n",
              "481                 0       3      Goodwin, Master. Harold Victor    male   \n",
              "387                 0       3     Goodwin, Master. Sidney Leonard    male   \n",
              "60                  0       3  Goodwin, Master. William Frederick    male   \n",
              "72                  0       3          Goodwin, Miss. Lillian Amy  female   \n",
              "684                 0       3         Goodwin, Mr. Charles Edward    male   \n",
              "160                 0       3          Sage, Master. Thomas Henry    male   \n",
              "181                 0       3        Sage, Miss. Constance Gladys  female   \n",
              "864                 0       3   Sage, Miss. Dorothy Edith \"Dolly\"  female   \n",
              "793                 0       3             Sage, Miss. Stella Anna  female   \n",
              "847                 0       3            Sage, Mr. Douglas Bullen    male   \n",
              "202                 0       3                 Sage, Mr. Frederick    male   \n",
              "325                 0       3            Sage, Mr. George John Jr    male   \n",
              "\n",
              "              Age  SibSp  Parch    Ticket   Fare Cabin Embarked  \n",
              "PassengerId                                                      \n",
              "481           9.0      5      2   CA 2144  46.90   NaN        S  \n",
              "387           1.0      5      2   CA 2144  46.90   NaN        S  \n",
              "60           11.0      5      2   CA 2144  46.90   NaN        S  \n",
              "72           16.0      5      2   CA 2144  46.90   NaN        S  \n",
              "684          14.0      5      2   CA 2144  46.90   NaN        S  \n",
              "160           NaN      8      2  CA. 2343  69.55   NaN        S  \n",
              "181           NaN      8      2  CA. 2343  69.55   NaN        S  \n",
              "864           NaN      8      2  CA. 2343  69.55   NaN        S  \n",
              "793           NaN      8      2  CA. 2343  69.55   NaN        S  \n",
              "847           NaN      8      2  CA. 2343  69.55   NaN        S  \n",
              "202           NaN      8      2  CA. 2343  69.55   NaN        S  \n",
              "325           NaN      8      2  CA. 2343  69.55   NaN        S  "
            ]
          },
          "metadata": {
            "tags": []
          },
          "execution_count": 31
        }
      ]
    },
    {
      "cell_type": "code",
      "metadata": {
        "execution": {
          "iopub.execute_input": "2021-03-08T22:38:01.538224Z",
          "iopub.status.busy": "2021-03-08T22:38:01.537223Z",
          "iopub.status.idle": "2021-03-08T22:38:01.542194Z",
          "shell.execute_reply": "2021-03-08T22:38:01.541539Z"
        },
        "papermill": {
          "duration": 0.093441,
          "end_time": "2021-03-08T22:38:01.542351",
          "exception": false,
          "start_time": "2021-03-08T22:38:01.448910",
          "status": "completed"
        },
        "tags": [],
        "id": "tRa1dhjC4KNM",
        "outputId": "5025a4f2-5b50-4981-b613-1794604888a4"
      },
      "source": [
        "# The Goodwin family of 6\n",
        "\n",
        "train.loc[train['Ticket'] == 'CA 2144']"
      ],
      "execution_count": null,
      "outputs": [
        {
          "output_type": "execute_result",
          "data": {
            "text/html": [
              "<div>\n",
              "<style scoped>\n",
              "    .dataframe tbody tr th:only-of-type {\n",
              "        vertical-align: middle;\n",
              "    }\n",
              "\n",
              "    .dataframe tbody tr th {\n",
              "        vertical-align: top;\n",
              "    }\n",
              "\n",
              "    .dataframe thead th {\n",
              "        text-align: right;\n",
              "    }\n",
              "</style>\n",
              "<table border=\"1\" class=\"dataframe\">\n",
              "  <thead>\n",
              "    <tr style=\"text-align: right;\">\n",
              "      <th></th>\n",
              "      <th>Survived</th>\n",
              "      <th>Pclass</th>\n",
              "      <th>Name</th>\n",
              "      <th>Sex</th>\n",
              "      <th>Age</th>\n",
              "      <th>SibSp</th>\n",
              "      <th>Parch</th>\n",
              "      <th>Ticket</th>\n",
              "      <th>Fare</th>\n",
              "      <th>Cabin</th>\n",
              "      <th>Embarked</th>\n",
              "    </tr>\n",
              "    <tr>\n",
              "      <th>PassengerId</th>\n",
              "      <th></th>\n",
              "      <th></th>\n",
              "      <th></th>\n",
              "      <th></th>\n",
              "      <th></th>\n",
              "      <th></th>\n",
              "      <th></th>\n",
              "      <th></th>\n",
              "      <th></th>\n",
              "      <th></th>\n",
              "      <th></th>\n",
              "    </tr>\n",
              "  </thead>\n",
              "  <tbody>\n",
              "    <tr>\n",
              "      <th>60</th>\n",
              "      <td>0</td>\n",
              "      <td>3</td>\n",
              "      <td>Goodwin, Master. William Frederick</td>\n",
              "      <td>male</td>\n",
              "      <td>11.0</td>\n",
              "      <td>5</td>\n",
              "      <td>2</td>\n",
              "      <td>CA 2144</td>\n",
              "      <td>46.9</td>\n",
              "      <td>NaN</td>\n",
              "      <td>S</td>\n",
              "    </tr>\n",
              "    <tr>\n",
              "      <th>72</th>\n",
              "      <td>0</td>\n",
              "      <td>3</td>\n",
              "      <td>Goodwin, Miss. Lillian Amy</td>\n",
              "      <td>female</td>\n",
              "      <td>16.0</td>\n",
              "      <td>5</td>\n",
              "      <td>2</td>\n",
              "      <td>CA 2144</td>\n",
              "      <td>46.9</td>\n",
              "      <td>NaN</td>\n",
              "      <td>S</td>\n",
              "    </tr>\n",
              "    <tr>\n",
              "      <th>387</th>\n",
              "      <td>0</td>\n",
              "      <td>3</td>\n",
              "      <td>Goodwin, Master. Sidney Leonard</td>\n",
              "      <td>male</td>\n",
              "      <td>1.0</td>\n",
              "      <td>5</td>\n",
              "      <td>2</td>\n",
              "      <td>CA 2144</td>\n",
              "      <td>46.9</td>\n",
              "      <td>NaN</td>\n",
              "      <td>S</td>\n",
              "    </tr>\n",
              "    <tr>\n",
              "      <th>481</th>\n",
              "      <td>0</td>\n",
              "      <td>3</td>\n",
              "      <td>Goodwin, Master. Harold Victor</td>\n",
              "      <td>male</td>\n",
              "      <td>9.0</td>\n",
              "      <td>5</td>\n",
              "      <td>2</td>\n",
              "      <td>CA 2144</td>\n",
              "      <td>46.9</td>\n",
              "      <td>NaN</td>\n",
              "      <td>S</td>\n",
              "    </tr>\n",
              "    <tr>\n",
              "      <th>679</th>\n",
              "      <td>0</td>\n",
              "      <td>3</td>\n",
              "      <td>Goodwin, Mrs. Frederick (Augusta Tyler)</td>\n",
              "      <td>female</td>\n",
              "      <td>43.0</td>\n",
              "      <td>1</td>\n",
              "      <td>6</td>\n",
              "      <td>CA 2144</td>\n",
              "      <td>46.9</td>\n",
              "      <td>NaN</td>\n",
              "      <td>S</td>\n",
              "    </tr>\n",
              "    <tr>\n",
              "      <th>684</th>\n",
              "      <td>0</td>\n",
              "      <td>3</td>\n",
              "      <td>Goodwin, Mr. Charles Edward</td>\n",
              "      <td>male</td>\n",
              "      <td>14.0</td>\n",
              "      <td>5</td>\n",
              "      <td>2</td>\n",
              "      <td>CA 2144</td>\n",
              "      <td>46.9</td>\n",
              "      <td>NaN</td>\n",
              "      <td>S</td>\n",
              "    </tr>\n",
              "  </tbody>\n",
              "</table>\n",
              "</div>"
            ],
            "text/plain": [
              "             Survived  Pclass                                     Name  \\\n",
              "PassengerId                                                              \n",
              "60                  0       3       Goodwin, Master. William Frederick   \n",
              "72                  0       3               Goodwin, Miss. Lillian Amy   \n",
              "387                 0       3          Goodwin, Master. Sidney Leonard   \n",
              "481                 0       3           Goodwin, Master. Harold Victor   \n",
              "679                 0       3  Goodwin, Mrs. Frederick (Augusta Tyler)   \n",
              "684                 0       3              Goodwin, Mr. Charles Edward   \n",
              "\n",
              "                Sex   Age  SibSp  Parch   Ticket  Fare Cabin Embarked  \n",
              "PassengerId                                                            \n",
              "60             male  11.0      5      2  CA 2144  46.9   NaN        S  \n",
              "72           female  16.0      5      2  CA 2144  46.9   NaN        S  \n",
              "387            male   1.0      5      2  CA 2144  46.9   NaN        S  \n",
              "481            male   9.0      5      2  CA 2144  46.9   NaN        S  \n",
              "679          female  43.0      1      6  CA 2144  46.9   NaN        S  \n",
              "684            male  14.0      5      2  CA 2144  46.9   NaN        S  "
            ]
          },
          "metadata": {
            "tags": []
          },
          "execution_count": 32
        }
      ]
    },
    {
      "cell_type": "code",
      "metadata": {
        "execution": {
          "iopub.execute_input": "2021-03-08T22:38:01.702436Z",
          "iopub.status.busy": "2021-03-08T22:38:01.701423Z",
          "iopub.status.idle": "2021-03-08T22:38:01.706527Z",
          "shell.execute_reply": "2021-03-08T22:38:01.705961Z"
        },
        "papermill": {
          "duration": 0.093739,
          "end_time": "2021-03-08T22:38:01.706689",
          "exception": false,
          "start_time": "2021-03-08T22:38:01.612950",
          "status": "completed"
        },
        "tags": [],
        "id": "IdSd-8ak4KNM",
        "outputId": "d3a1948b-dc2a-44fa-b6ae-10d334591ba9"
      },
      "source": [
        "# The Sage family of 7\n",
        "\n",
        "train.loc[train['Ticket'] == 'CA. 2343']"
      ],
      "execution_count": null,
      "outputs": [
        {
          "output_type": "execute_result",
          "data": {
            "text/html": [
              "<div>\n",
              "<style scoped>\n",
              "    .dataframe tbody tr th:only-of-type {\n",
              "        vertical-align: middle;\n",
              "    }\n",
              "\n",
              "    .dataframe tbody tr th {\n",
              "        vertical-align: top;\n",
              "    }\n",
              "\n",
              "    .dataframe thead th {\n",
              "        text-align: right;\n",
              "    }\n",
              "</style>\n",
              "<table border=\"1\" class=\"dataframe\">\n",
              "  <thead>\n",
              "    <tr style=\"text-align: right;\">\n",
              "      <th></th>\n",
              "      <th>Survived</th>\n",
              "      <th>Pclass</th>\n",
              "      <th>Name</th>\n",
              "      <th>Sex</th>\n",
              "      <th>Age</th>\n",
              "      <th>SibSp</th>\n",
              "      <th>Parch</th>\n",
              "      <th>Ticket</th>\n",
              "      <th>Fare</th>\n",
              "      <th>Cabin</th>\n",
              "      <th>Embarked</th>\n",
              "    </tr>\n",
              "    <tr>\n",
              "      <th>PassengerId</th>\n",
              "      <th></th>\n",
              "      <th></th>\n",
              "      <th></th>\n",
              "      <th></th>\n",
              "      <th></th>\n",
              "      <th></th>\n",
              "      <th></th>\n",
              "      <th></th>\n",
              "      <th></th>\n",
              "      <th></th>\n",
              "      <th></th>\n",
              "    </tr>\n",
              "  </thead>\n",
              "  <tbody>\n",
              "    <tr>\n",
              "      <th>160</th>\n",
              "      <td>0</td>\n",
              "      <td>3</td>\n",
              "      <td>Sage, Master. Thomas Henry</td>\n",
              "      <td>male</td>\n",
              "      <td>NaN</td>\n",
              "      <td>8</td>\n",
              "      <td>2</td>\n",
              "      <td>CA. 2343</td>\n",
              "      <td>69.55</td>\n",
              "      <td>NaN</td>\n",
              "      <td>S</td>\n",
              "    </tr>\n",
              "    <tr>\n",
              "      <th>181</th>\n",
              "      <td>0</td>\n",
              "      <td>3</td>\n",
              "      <td>Sage, Miss. Constance Gladys</td>\n",
              "      <td>female</td>\n",
              "      <td>NaN</td>\n",
              "      <td>8</td>\n",
              "      <td>2</td>\n",
              "      <td>CA. 2343</td>\n",
              "      <td>69.55</td>\n",
              "      <td>NaN</td>\n",
              "      <td>S</td>\n",
              "    </tr>\n",
              "    <tr>\n",
              "      <th>202</th>\n",
              "      <td>0</td>\n",
              "      <td>3</td>\n",
              "      <td>Sage, Mr. Frederick</td>\n",
              "      <td>male</td>\n",
              "      <td>NaN</td>\n",
              "      <td>8</td>\n",
              "      <td>2</td>\n",
              "      <td>CA. 2343</td>\n",
              "      <td>69.55</td>\n",
              "      <td>NaN</td>\n",
              "      <td>S</td>\n",
              "    </tr>\n",
              "    <tr>\n",
              "      <th>325</th>\n",
              "      <td>0</td>\n",
              "      <td>3</td>\n",
              "      <td>Sage, Mr. George John Jr</td>\n",
              "      <td>male</td>\n",
              "      <td>NaN</td>\n",
              "      <td>8</td>\n",
              "      <td>2</td>\n",
              "      <td>CA. 2343</td>\n",
              "      <td>69.55</td>\n",
              "      <td>NaN</td>\n",
              "      <td>S</td>\n",
              "    </tr>\n",
              "    <tr>\n",
              "      <th>793</th>\n",
              "      <td>0</td>\n",
              "      <td>3</td>\n",
              "      <td>Sage, Miss. Stella Anna</td>\n",
              "      <td>female</td>\n",
              "      <td>NaN</td>\n",
              "      <td>8</td>\n",
              "      <td>2</td>\n",
              "      <td>CA. 2343</td>\n",
              "      <td>69.55</td>\n",
              "      <td>NaN</td>\n",
              "      <td>S</td>\n",
              "    </tr>\n",
              "    <tr>\n",
              "      <th>847</th>\n",
              "      <td>0</td>\n",
              "      <td>3</td>\n",
              "      <td>Sage, Mr. Douglas Bullen</td>\n",
              "      <td>male</td>\n",
              "      <td>NaN</td>\n",
              "      <td>8</td>\n",
              "      <td>2</td>\n",
              "      <td>CA. 2343</td>\n",
              "      <td>69.55</td>\n",
              "      <td>NaN</td>\n",
              "      <td>S</td>\n",
              "    </tr>\n",
              "    <tr>\n",
              "      <th>864</th>\n",
              "      <td>0</td>\n",
              "      <td>3</td>\n",
              "      <td>Sage, Miss. Dorothy Edith \"Dolly\"</td>\n",
              "      <td>female</td>\n",
              "      <td>NaN</td>\n",
              "      <td>8</td>\n",
              "      <td>2</td>\n",
              "      <td>CA. 2343</td>\n",
              "      <td>69.55</td>\n",
              "      <td>NaN</td>\n",
              "      <td>S</td>\n",
              "    </tr>\n",
              "  </tbody>\n",
              "</table>\n",
              "</div>"
            ],
            "text/plain": [
              "             Survived  Pclass                               Name     Sex  Age  \\\n",
              "PassengerId                                                                     \n",
              "160                 0       3         Sage, Master. Thomas Henry    male  NaN   \n",
              "181                 0       3       Sage, Miss. Constance Gladys  female  NaN   \n",
              "202                 0       3                Sage, Mr. Frederick    male  NaN   \n",
              "325                 0       3           Sage, Mr. George John Jr    male  NaN   \n",
              "793                 0       3            Sage, Miss. Stella Anna  female  NaN   \n",
              "847                 0       3           Sage, Mr. Douglas Bullen    male  NaN   \n",
              "864                 0       3  Sage, Miss. Dorothy Edith \"Dolly\"  female  NaN   \n",
              "\n",
              "             SibSp  Parch    Ticket   Fare Cabin Embarked  \n",
              "PassengerId                                                \n",
              "160              8      2  CA. 2343  69.55   NaN        S  \n",
              "181              8      2  CA. 2343  69.55   NaN        S  \n",
              "202              8      2  CA. 2343  69.55   NaN        S  \n",
              "325              8      2  CA. 2343  69.55   NaN        S  \n",
              "793              8      2  CA. 2343  69.55   NaN        S  \n",
              "847              8      2  CA. 2343  69.55   NaN        S  \n",
              "864              8      2  CA. 2343  69.55   NaN        S  "
            ]
          },
          "metadata": {
            "tags": []
          },
          "execution_count": 33
        }
      ]
    },
    {
      "cell_type": "markdown",
      "metadata": {
        "papermill": {
          "duration": 0.070342,
          "end_time": "2021-03-08T22:38:01.848119",
          "exception": false,
          "start_time": "2021-03-08T22:38:01.777777",
          "status": "completed"
        },
        "tags": [],
        "id": "uZ2Yj3V34KNN"
      },
      "source": [
        "## Family Size Outlier Findings:\n",
        "Unforetunately, the Goodwin and Sage families - who had 5 or more members - did not fare well. They all perished. Maybe it's because of their socio economic status. Maybe it's because there was just too many of them to quickly escape to a life boat. Or maybe it's because of their cabin placement. Having a large family was tragic in the Titanic.\n",
        "\n",
        "**Can we bin people by family or not? Maybe people had a higher survival rate if they had fewer family members?**"
      ]
    },
    {
      "cell_type": "code",
      "metadata": {
        "execution": {
          "iopub.execute_input": "2021-03-08T22:38:01.998854Z",
          "iopub.status.busy": "2021-03-08T22:38:01.998194Z",
          "iopub.status.idle": "2021-03-08T22:38:02.003521Z",
          "shell.execute_reply": "2021-03-08T22:38:02.002871Z"
        },
        "papermill": {
          "duration": 0.083623,
          "end_time": "2021-03-08T22:38:02.003668",
          "exception": false,
          "start_time": "2021-03-08T22:38:01.920045",
          "status": "completed"
        },
        "tags": [],
        "id": "TPq--FVM4KNN",
        "outputId": "24378f3e-b4bc-4374-964a-1ce361463426"
      },
      "source": [
        "# Survival rates for group size.\n",
        "\n",
        "train.groupby(['SibSp'])['Survived'].mean()"
      ],
      "execution_count": null,
      "outputs": [
        {
          "output_type": "execute_result",
          "data": {
            "text/plain": [
              "SibSp\n",
              "0    0.345395\n",
              "1    0.535885\n",
              "2    0.464286\n",
              "3    0.250000\n",
              "4    0.166667\n",
              "5    0.000000\n",
              "8    0.000000\n",
              "Name: Survived, dtype: float64"
            ]
          },
          "metadata": {
            "tags": []
          },
          "execution_count": 34
        }
      ]
    },
    {
      "cell_type": "markdown",
      "metadata": {
        "papermill": {
          "duration": 0.072693,
          "end_time": "2021-03-08T22:38:02.148257",
          "exception": false,
          "start_time": "2021-03-08T22:38:02.075564",
          "status": "completed"
        },
        "tags": [],
        "id": "sjdgmeuT4KNN"
      },
      "source": [
        "## Age Outlier Analysis"
      ]
    },
    {
      "cell_type": "code",
      "metadata": {
        "execution": {
          "iopub.execute_input": "2021-03-08T22:38:02.318529Z",
          "iopub.status.busy": "2021-03-08T22:38:02.317852Z",
          "iopub.status.idle": "2021-03-08T22:38:02.502118Z",
          "shell.execute_reply": "2021-03-08T22:38:02.501556Z"
        },
        "papermill": {
          "duration": 0.28212,
          "end_time": "2021-03-08T22:38:02.502285",
          "exception": false,
          "start_time": "2021-03-08T22:38:02.220165",
          "status": "completed"
        },
        "tags": [],
        "id": "36IXMZaS4KNN",
        "outputId": "1420737c-94f3-4df6-a012-a92f408448af"
      },
      "source": [
        "boxplt('Age')"
      ],
      "execution_count": null,
      "outputs": [
        {
          "output_type": "execute_result",
          "data": {
            "text/plain": [
              "<AxesSubplot:title={'center':'Age Outlier Boxplot'}, xlabel='Age'>"
            ]
          },
          "metadata": {
            "tags": []
          },
          "execution_count": 35
        },
        {
          "output_type": "display_data",
          "data": {
            "image/png": "[encoded data removed]",
            "text/plain": [
              "<Figure size 432x288 with 1 Axes>"
            ]
          },
          "metadata": {
            "tags": []
          }
        }
      ]
    },
    {
      "cell_type": "code",
      "metadata": {
        "execution": {
          "iopub.execute_input": "2021-03-08T22:38:02.672404Z",
          "iopub.status.busy": "2021-03-08T22:38:02.656428Z",
          "iopub.status.idle": "2021-03-08T22:38:02.677575Z",
          "shell.execute_reply": "2021-03-08T22:38:02.676921Z"
        },
        "papermill": {
          "duration": 0.102203,
          "end_time": "2021-03-08T22:38:02.677744",
          "exception": false,
          "start_time": "2021-03-08T22:38:02.575541",
          "status": "completed"
        },
        "tags": [],
        "id": "XW4bKxo04KNO",
        "outputId": "88a4715b-d581-45e0-d22a-05c697f452de"
      },
      "source": [
        "# Inspect passengers Ages 65 and up\n",
        "\n",
        "age_df = train.loc[train['Age'] > 64]\n",
        "age_df.sort_values('Age', ascending=False)"
      ],
      "execution_count": null,
      "outputs": [
        {
          "output_type": "execute_result",
          "data": {
            "text/html": [
              "<div>\n",
              "<style scoped>\n",
              "    .dataframe tbody tr th:only-of-type {\n",
              "        vertical-align: middle;\n",
              "    }\n",
              "\n",
              "    .dataframe tbody tr th {\n",
              "        vertical-align: top;\n",
              "    }\n",
              "\n",
              "    .dataframe thead th {\n",
              "        text-align: right;\n",
              "    }\n",
              "</style>\n",
              "<table border=\"1\" class=\"dataframe\">\n",
              "  <thead>\n",
              "    <tr style=\"text-align: right;\">\n",
              "      <th></th>\n",
              "      <th>Survived</th>\n",
              "      <th>Pclass</th>\n",
              "      <th>Name</th>\n",
              "      <th>Sex</th>\n",
              "      <th>Age</th>\n",
              "      <th>SibSp</th>\n",
              "      <th>Parch</th>\n",
              "      <th>Ticket</th>\n",
              "      <th>Fare</th>\n",
              "      <th>Cabin</th>\n",
              "      <th>Embarked</th>\n",
              "    </tr>\n",
              "    <tr>\n",
              "      <th>PassengerId</th>\n",
              "      <th></th>\n",
              "      <th></th>\n",
              "      <th></th>\n",
              "      <th></th>\n",
              "      <th></th>\n",
              "      <th></th>\n",
              "      <th></th>\n",
              "      <th></th>\n",
              "      <th></th>\n",
              "      <th></th>\n",
              "      <th></th>\n",
              "    </tr>\n",
              "  </thead>\n",
              "  <tbody>\n",
              "    <tr>\n",
              "      <th>631</th>\n",
              "      <td>1</td>\n",
              "      <td>1</td>\n",
              "      <td>Barkworth, Mr. Algernon Henry Wilson</td>\n",
              "      <td>male</td>\n",
              "      <td>80.0</td>\n",
              "      <td>0</td>\n",
              "      <td>0</td>\n",
              "      <td>27042</td>\n",
              "      <td>30.0000</td>\n",
              "      <td>A23</td>\n",
              "      <td>S</td>\n",
              "    </tr>\n",
              "    <tr>\n",
              "      <th>852</th>\n",
              "      <td>0</td>\n",
              "      <td>3</td>\n",
              "      <td>Svensson, Mr. Johan</td>\n",
              "      <td>male</td>\n",
              "      <td>74.0</td>\n",
              "      <td>0</td>\n",
              "      <td>0</td>\n",
              "      <td>347060</td>\n",
              "      <td>7.7750</td>\n",
              "      <td>NaN</td>\n",
              "      <td>S</td>\n",
              "    </tr>\n",
              "    <tr>\n",
              "      <th>97</th>\n",
              "      <td>0</td>\n",
              "      <td>1</td>\n",
              "      <td>Goldschmidt, Mr. George B</td>\n",
              "      <td>male</td>\n",
              "      <td>71.0</td>\n",
              "      <td>0</td>\n",
              "      <td>0</td>\n",
              "      <td>PC 17754</td>\n",
              "      <td>34.6542</td>\n",
              "      <td>A5</td>\n",
              "      <td>C</td>\n",
              "    </tr>\n",
              "    <tr>\n",
              "      <th>494</th>\n",
              "      <td>0</td>\n",
              "      <td>1</td>\n",
              "      <td>Artagaveytia, Mr. Ramon</td>\n",
              "      <td>male</td>\n",
              "      <td>71.0</td>\n",
              "      <td>0</td>\n",
              "      <td>0</td>\n",
              "      <td>PC 17609</td>\n",
              "      <td>49.5042</td>\n",
              "      <td>NaN</td>\n",
              "      <td>C</td>\n",
              "    </tr>\n",
              "    <tr>\n",
              "      <th>117</th>\n",
              "      <td>0</td>\n",
              "      <td>3</td>\n",
              "      <td>Connors, Mr. Patrick</td>\n",
              "      <td>male</td>\n",
              "      <td>70.5</td>\n",
              "      <td>0</td>\n",
              "      <td>0</td>\n",
              "      <td>370369</td>\n",
              "      <td>7.7500</td>\n",
              "      <td>NaN</td>\n",
              "      <td>Q</td>\n",
              "    </tr>\n",
              "    <tr>\n",
              "      <th>673</th>\n",
              "      <td>0</td>\n",
              "      <td>2</td>\n",
              "      <td>Mitchell, Mr. Henry Michael</td>\n",
              "      <td>male</td>\n",
              "      <td>70.0</td>\n",
              "      <td>0</td>\n",
              "      <td>0</td>\n",
              "      <td>C.A. 24580</td>\n",
              "      <td>10.5000</td>\n",
              "      <td>NaN</td>\n",
              "      <td>S</td>\n",
              "    </tr>\n",
              "    <tr>\n",
              "      <th>746</th>\n",
              "      <td>0</td>\n",
              "      <td>1</td>\n",
              "      <td>Crosby, Capt. Edward Gifford</td>\n",
              "      <td>male</td>\n",
              "      <td>70.0</td>\n",
              "      <td>1</td>\n",
              "      <td>1</td>\n",
              "      <td>WE/P 5735</td>\n",
              "      <td>71.0000</td>\n",
              "      <td>B22</td>\n",
              "      <td>S</td>\n",
              "    </tr>\n",
              "    <tr>\n",
              "      <th>34</th>\n",
              "      <td>0</td>\n",
              "      <td>2</td>\n",
              "      <td>Wheadon, Mr. Edward H</td>\n",
              "      <td>male</td>\n",
              "      <td>66.0</td>\n",
              "      <td>0</td>\n",
              "      <td>0</td>\n",
              "      <td>C.A. 24579</td>\n",
              "      <td>10.5000</td>\n",
              "      <td>NaN</td>\n",
              "      <td>S</td>\n",
              "    </tr>\n",
              "    <tr>\n",
              "      <th>55</th>\n",
              "      <td>0</td>\n",
              "      <td>1</td>\n",
              "      <td>Ostby, Mr. Engelhart Cornelius</td>\n",
              "      <td>male</td>\n",
              "      <td>65.0</td>\n",
              "      <td>0</td>\n",
              "      <td>1</td>\n",
              "      <td>113509</td>\n",
              "      <td>61.9792</td>\n",
              "      <td>B30</td>\n",
              "      <td>C</td>\n",
              "    </tr>\n",
              "    <tr>\n",
              "      <th>281</th>\n",
              "      <td>0</td>\n",
              "      <td>3</td>\n",
              "      <td>Duane, Mr. Frank</td>\n",
              "      <td>male</td>\n",
              "      <td>65.0</td>\n",
              "      <td>0</td>\n",
              "      <td>0</td>\n",
              "      <td>336439</td>\n",
              "      <td>7.7500</td>\n",
              "      <td>NaN</td>\n",
              "      <td>Q</td>\n",
              "    </tr>\n",
              "    <tr>\n",
              "      <th>457</th>\n",
              "      <td>0</td>\n",
              "      <td>1</td>\n",
              "      <td>Millet, Mr. Francis Davis</td>\n",
              "      <td>male</td>\n",
              "      <td>65.0</td>\n",
              "      <td>0</td>\n",
              "      <td>0</td>\n",
              "      <td>13509</td>\n",
              "      <td>26.5500</td>\n",
              "      <td>E38</td>\n",
              "      <td>S</td>\n",
              "    </tr>\n",
              "  </tbody>\n",
              "</table>\n",
              "</div>"
            ],
            "text/plain": [
              "             Survived  Pclass                                  Name   Sex  \\\n",
              "PassengerId                                                                 \n",
              "631                 1       1  Barkworth, Mr. Algernon Henry Wilson  male   \n",
              "852                 0       3                   Svensson, Mr. Johan  male   \n",
              "97                  0       1             Goldschmidt, Mr. George B  male   \n",
              "494                 0       1               Artagaveytia, Mr. Ramon  male   \n",
              "117                 0       3                  Connors, Mr. Patrick  male   \n",
              "673                 0       2           Mitchell, Mr. Henry Michael  male   \n",
              "746                 0       1          Crosby, Capt. Edward Gifford  male   \n",
              "34                  0       2                 Wheadon, Mr. Edward H  male   \n",
              "55                  0       1        Ostby, Mr. Engelhart Cornelius  male   \n",
              "281                 0       3                      Duane, Mr. Frank  male   \n",
              "457                 0       1             Millet, Mr. Francis Davis  male   \n",
              "\n",
              "              Age  SibSp  Parch      Ticket     Fare Cabin Embarked  \n",
              "PassengerId                                                          \n",
              "631          80.0      0      0       27042  30.0000   A23        S  \n",
              "852          74.0      0      0      347060   7.7750   NaN        S  \n",
              "97           71.0      0      0    PC 17754  34.6542    A5        C  \n",
              "494          71.0      0      0    PC 17609  49.5042   NaN        C  \n",
              "117          70.5      0      0      370369   7.7500   NaN        Q  \n",
              "673          70.0      0      0  C.A. 24580  10.5000   NaN        S  \n",
              "746          70.0      1      1   WE/P 5735  71.0000   B22        S  \n",
              "34           66.0      0      0  C.A. 24579  10.5000   NaN        S  \n",
              "55           65.0      0      1      113509  61.9792   B30        C  \n",
              "281          65.0      0      0      336439   7.7500   NaN        Q  \n",
              "457          65.0      0      0       13509  26.5500   E38        S  "
            ]
          },
          "metadata": {
            "tags": []
          },
          "execution_count": 36
        }
      ]
    },
    {
      "cell_type": "markdown",
      "metadata": {
        "papermill": {
          "duration": 0.074301,
          "end_time": "2021-03-08T22:38:02.829486",
          "exception": false,
          "start_time": "2021-03-08T22:38:02.755185",
          "status": "completed"
        },
        "tags": [],
        "id": "_vN1SvDL4KNO"
      },
      "source": [
        "## Age Outlier Findings:\n",
        "While it doesn't bode well to be elderly on the Titanic, the eldest person actually survived! He actually was able to buoy himself on his briefcase and a fur coat until he found an overturned lifeboat. To learn more visit the biography of [Mr. Algernon Barkworth](https://www.encyclopedia-titanica.org/titanic-survivor/algernon-barkworth.html)."
      ]
    },
    {
      "cell_type": "markdown",
      "metadata": {
        "papermill": {
          "duration": 0.074235,
          "end_time": "2021-03-08T22:38:02.978366",
          "exception": false,
          "start_time": "2021-03-08T22:38:02.904131",
          "status": "completed"
        },
        "tags": [],
        "id": "mAbX-3_T4KNO"
      },
      "source": [
        "## Title Analysis\n",
        "Here I will look if the title of the passenger had any correlation to surving the Titantic - e.g. Mr., Mrs., etc."
      ]
    },
    {
      "cell_type": "code",
      "metadata": {
        "execution": {
          "iopub.execute_input": "2021-03-08T22:38:03.145131Z",
          "iopub.status.busy": "2021-03-08T22:38:03.141754Z",
          "iopub.status.idle": "2021-03-08T22:38:03.177697Z",
          "shell.execute_reply": "2021-03-08T22:38:03.177129Z"
        },
        "papermill": {
          "duration": 0.12382,
          "end_time": "2021-03-08T22:38:03.177842",
          "exception": false,
          "start_time": "2021-03-08T22:38:03.054022",
          "status": "completed"
        },
        "tags": [],
        "id": "kOVFKIfF4KNO",
        "outputId": "c5595bbe-a7c6-41c4-c259-d3aae2837877"
      },
      "source": [
        "title_df = train.copy()\n",
        "title_df['title'] = train.Name.apply(lambda x: x.split(',')[1].split(' ')[1].strip())\n",
        "title_df['title'].value_counts()\n",
        "pd.pivot_table(title_df, index='Survived', columns='title', values='Name', aggfunc='count')"
      ],
      "execution_count": null,
      "outputs": [
        {
          "output_type": "execute_result",
          "data": {
            "text/html": [
              "<div>\n",
              "<style scoped>\n",
              "    .dataframe tbody tr th:only-of-type {\n",
              "        vertical-align: middle;\n",
              "    }\n",
              "\n",
              "    .dataframe tbody tr th {\n",
              "        vertical-align: top;\n",
              "    }\n",
              "\n",
              "    .dataframe thead th {\n",
              "        text-align: right;\n",
              "    }\n",
              "</style>\n",
              "<table border=\"1\" class=\"dataframe\">\n",
              "  <thead>\n",
              "    <tr style=\"text-align: right;\">\n",
              "      <th>title</th>\n",
              "      <th>Capt.</th>\n",
              "      <th>Col.</th>\n",
              "      <th>Don.</th>\n",
              "      <th>Dr.</th>\n",
              "      <th>Jonkheer.</th>\n",
              "      <th>Lady.</th>\n",
              "      <th>Major.</th>\n",
              "      <th>Master.</th>\n",
              "      <th>Miss.</th>\n",
              "      <th>Mlle.</th>\n",
              "      <th>Mme.</th>\n",
              "      <th>Mr.</th>\n",
              "      <th>Mrs.</th>\n",
              "      <th>Ms.</th>\n",
              "      <th>Rev.</th>\n",
              "      <th>Sir.</th>\n",
              "      <th>the</th>\n",
              "    </tr>\n",
              "    <tr>\n",
              "      <th>Survived</th>\n",
              "      <th></th>\n",
              "      <th></th>\n",
              "      <th></th>\n",
              "      <th></th>\n",
              "      <th></th>\n",
              "      <th></th>\n",
              "      <th></th>\n",
              "      <th></th>\n",
              "      <th></th>\n",
              "      <th></th>\n",
              "      <th></th>\n",
              "      <th></th>\n",
              "      <th></th>\n",
              "      <th></th>\n",
              "      <th></th>\n",
              "      <th></th>\n",
              "      <th></th>\n",
              "    </tr>\n",
              "  </thead>\n",
              "  <tbody>\n",
              "    <tr>\n",
              "      <th>0</th>\n",
              "      <td>1.0</td>\n",
              "      <td>1.0</td>\n",
              "      <td>1.0</td>\n",
              "      <td>4.0</td>\n",
              "      <td>1.0</td>\n",
              "      <td>NaN</td>\n",
              "      <td>1.0</td>\n",
              "      <td>17.0</td>\n",
              "      <td>55.0</td>\n",
              "      <td>NaN</td>\n",
              "      <td>NaN</td>\n",
              "      <td>436.0</td>\n",
              "      <td>26.0</td>\n",
              "      <td>NaN</td>\n",
              "      <td>6.0</td>\n",
              "      <td>NaN</td>\n",
              "      <td>NaN</td>\n",
              "    </tr>\n",
              "    <tr>\n",
              "      <th>1</th>\n",
              "      <td>NaN</td>\n",
              "      <td>1.0</td>\n",
              "      <td>NaN</td>\n",
              "      <td>3.0</td>\n",
              "      <td>NaN</td>\n",
              "      <td>1.0</td>\n",
              "      <td>1.0</td>\n",
              "      <td>23.0</td>\n",
              "      <td>127.0</td>\n",
              "      <td>2.0</td>\n",
              "      <td>1.0</td>\n",
              "      <td>81.0</td>\n",
              "      <td>99.0</td>\n",
              "      <td>1.0</td>\n",
              "      <td>NaN</td>\n",
              "      <td>1.0</td>\n",
              "      <td>1.0</td>\n",
              "    </tr>\n",
              "  </tbody>\n",
              "</table>\n",
              "</div>"
            ],
            "text/plain": [
              "title     Capt.  Col.  Don.  Dr.  Jonkheer.  Lady.  Major.  Master.  Miss.  \\\n",
              "Survived                                                                     \n",
              "0           1.0   1.0   1.0  4.0        1.0    NaN     1.0     17.0   55.0   \n",
              "1           NaN   1.0   NaN  3.0        NaN    1.0     1.0     23.0  127.0   \n",
              "\n",
              "title     Mlle.  Mme.    Mr.  Mrs.  Ms.  Rev.  Sir.  the  \n",
              "Survived                                                  \n",
              "0           NaN   NaN  436.0  26.0  NaN   6.0   NaN  NaN  \n",
              "1           2.0   1.0   81.0  99.0  1.0   NaN   1.0  1.0  "
            ]
          },
          "metadata": {
            "tags": []
          },
          "execution_count": 37
        }
      ]
    },
    {
      "cell_type": "code",
      "metadata": {
        "execution": {
          "iopub.execute_input": "2021-03-08T22:38:03.338068Z",
          "iopub.status.busy": "2021-03-08T22:38:03.337262Z",
          "iopub.status.idle": "2021-03-08T22:38:03.684187Z",
          "shell.execute_reply": "2021-03-08T22:38:03.683604Z"
        },
        "papermill": {
          "duration": 0.430896,
          "end_time": "2021-03-08T22:38:03.684346",
          "exception": false,
          "start_time": "2021-03-08T22:38:03.253450",
          "status": "completed"
        },
        "tags": [],
        "id": "EM30BOv44KNP",
        "outputId": "9aad1d09-e6e7-4157-c3e8-eff293c53eb4"
      },
      "source": [
        "title_df2 = title_df.groupby(['title']).mean().reset_index(inplace=False)\n",
        "title_df2 = title_df2.sort_values('Survived', ascending=False)\n",
        "g = sns.barplot(x='title', y='Survived', data=title_df2)\n",
        "g.set_xticklabels(g.get_xticklabels(), rotation=45, horizontalalignment='right')"
      ],
      "execution_count": null,
      "outputs": [
        {
          "output_type": "execute_result",
          "data": {
            "text/plain": [
              "[Text(0, 0, 'the'),\n",
              " Text(1, 0, 'Mlle.'),\n",
              " Text(2, 0, 'Sir.'),\n",
              " Text(3, 0, 'Ms.'),\n",
              " Text(4, 0, 'Lady.'),\n",
              " Text(5, 0, 'Mme.'),\n",
              " Text(6, 0, 'Mrs.'),\n",
              " Text(7, 0, 'Miss.'),\n",
              " Text(8, 0, 'Master.'),\n",
              " Text(9, 0, 'Col.'),\n",
              " Text(10, 0, 'Major.'),\n",
              " Text(11, 0, 'Dr.'),\n",
              " Text(12, 0, 'Mr.'),\n",
              " Text(13, 0, 'Jonkheer.'),\n",
              " Text(14, 0, 'Rev.'),\n",
              " Text(15, 0, 'Don.'),\n",
              " Text(16, 0, 'Capt.')]"
            ]
          },
          "metadata": {
            "tags": []
          },
          "execution_count": 38
        },
        {
          "output_type": "display_data",
          "data": {
            "image/png": "[encoded data removed]",
            "text/plain": [
              "<Figure size 432x288 with 1 Axes>"
            ]
          },
          "metadata": {
            "tags": []
          }
        }
      ]
    },
    {
      "cell_type": "code",
      "metadata": {
        "execution": {
          "iopub.execute_input": "2021-03-08T22:38:03.882408Z",
          "iopub.status.busy": "2021-03-08T22:38:03.881739Z",
          "iopub.status.idle": "2021-03-08T22:38:04.541309Z",
          "shell.execute_reply": "2021-03-08T22:38:04.540488Z"
        },
        "papermill": {
          "duration": 0.759178,
          "end_time": "2021-03-08T22:38:04.541511",
          "exception": false,
          "start_time": "2021-03-08T22:38:03.782333",
          "status": "completed"
        },
        "tags": [],
        "id": "rrqdgNfu4KNP",
        "outputId": "0c7d4db8-9f36-4aec-c977-c6c9283ac93c"
      },
      "source": [
        "g = sns.barplot(x='title', y='Survived', data=title_df)\n",
        "g.set_xticklabels(g.get_xticklabels(), rotation=45, horizontalalignment='right')"
      ],
      "execution_count": null,
      "outputs": [
        {
          "output_type": "execute_result",
          "data": {
            "text/plain": [
              "[Text(0, 0, 'Mr.'),\n",
              " Text(1, 0, 'Mrs.'),\n",
              " Text(2, 0, 'Miss.'),\n",
              " Text(3, 0, 'Master.'),\n",
              " Text(4, 0, 'Don.'),\n",
              " Text(5, 0, 'Rev.'),\n",
              " Text(6, 0, 'Dr.'),\n",
              " Text(7, 0, 'Mme.'),\n",
              " Text(8, 0, 'Ms.'),\n",
              " Text(9, 0, 'Major.'),\n",
              " Text(10, 0, 'Lady.'),\n",
              " Text(11, 0, 'Sir.'),\n",
              " Text(12, 0, 'Mlle.'),\n",
              " Text(13, 0, 'Col.'),\n",
              " Text(14, 0, 'Capt.'),\n",
              " Text(15, 0, 'the'),\n",
              " Text(16, 0, 'Jonkheer.')]"
            ]
          },
          "metadata": {
            "tags": []
          },
          "execution_count": 39
        },
        {
          "output_type": "display_data",
          "data": {
            "image/png": "[encoded data removed]",
            "text/plain": [
              "<Figure size 432x288 with 1 Axes>"
            ]
          },
          "metadata": {
            "tags": []
          }
        }
      ]
    },
    {
      "cell_type": "markdown",
      "metadata": {
        "papermill": {
          "duration": 0.078841,
          "end_time": "2021-03-08T22:38:04.698821",
          "exception": false,
          "start_time": "2021-03-08T22:38:04.619980",
          "status": "completed"
        },
        "tags": [],
        "id": "v-JF_2FJ4KNP"
      },
      "source": [
        "## Title Findings:\n",
        "* Titles were a fairly good predictor if you survived the Titanic\n",
        "* Female titles faired very well"
      ]
    },
    {
      "cell_type": "markdown",
      "metadata": {
        "papermill": {
          "duration": 0.078078,
          "end_time": "2021-03-08T22:38:04.855627",
          "exception": false,
          "start_time": "2021-03-08T22:38:04.777549",
          "status": "completed"
        },
        "tags": [],
        "id": "H0aR5sjd4KNQ"
      },
      "source": [
        "<a id=\"preprocessing\"></a>\n",
        "# <div align='center'>4. Preprocessing Data\n",
        "    \n",
        "The training and test datasets don't have the same attributes after feature engineering. Therefore, I had to be careful about choosing with features to leave in the datasets.\n",
        "    \n",
        "## Feature engineer:\n",
        "* **Ticket lettering** - with 'P' have a 58% chance of survival -> **refer to above code**\n",
        "* **Pclass** Include 1st and 2nd class. Drop 3rd class?\n",
        "* **Age immputation** for continuous data - use mean/median `fillna()`\n",
        "* **Fare and Age scaling/normalization** for ML optimization. Gaussian calculations do not like large variance in values: [article1](https://machinelearningmastery.com/standardscaler-and-minmaxscaler-transforms-in-python/), [article2](https://stackoverflow.com/questions/51237635/difference-between-standard-scaler-and-minmaxscaler)\n",
        "* **Family size SibSp** binning two groups of 1-3, >3\n",
        "* **Name title segregation** - split/strip titles out names: [source](https://pandas.pydata.org/pandas-docs/stable/reference/api/pandas.Series.str.split.html)\n",
        "* **One Hot Encoding** - categorial data must me turned into numerical with [One Hot Encoding or Get Dummies](https://towardsdatascience.com/what-is-one-hot-encoding-and-how-to-use-pandas-get-dummies-function-922eb9bd4970)"
      ]
    },
    {
      "cell_type": "code",
      "metadata": {
        "execution": {
          "iopub.execute_input": "2021-03-08T22:38:05.028638Z",
          "iopub.status.busy": "2021-03-08T22:38:05.027573Z",
          "iopub.status.idle": "2021-03-08T22:38:05.043039Z",
          "shell.execute_reply": "2021-03-08T22:38:05.043828Z"
        },
        "papermill": {
          "duration": 0.109845,
          "end_time": "2021-03-08T22:38:05.044012",
          "exception": false,
          "start_time": "2021-03-08T22:38:04.934167",
          "status": "completed"
        },
        "tags": [],
        "id": "7w9GVIyV4KNQ",
        "outputId": "b8592ddd-9f23-4d4f-8ca7-5e95ae2c885f"
      },
      "source": [
        "# inspect the column shape and NaN values\n",
        "print('Test Data', test.info())\n",
        "print()\n",
        "print('Train Data', train.info())"
      ],
      "execution_count": null,
      "outputs": [
        {
          "output_type": "stream",
          "text": [
            "<class 'pandas.core.frame.DataFrame'>\n",
            "Int64Index: 418 entries, 892 to 1309\n",
            "Data columns (total 10 columns):\n",
            " #   Column    Non-Null Count  Dtype  \n",
            "---  ------    --------------  -----  \n",
            " 0   Pclass    418 non-null    int64  \n",
            " 1   Name      418 non-null    object \n",
            " 2   Sex       418 non-null    object \n",
            " 3   Age       332 non-null    float64\n",
            " 4   SibSp     418 non-null    int64  \n",
            " 5   Parch     418 non-null    int64  \n",
            " 6   Ticket    418 non-null    object \n",
            " 7   Fare      417 non-null    float64\n",
            " 8   Cabin     91 non-null     object \n",
            " 9   Embarked  418 non-null    object \n",
            "dtypes: float64(2), int64(3), object(5)\n",
            "memory usage: 35.9+ KB\n",
            "Test Data None\n",
            "\n",
            "<class 'pandas.core.frame.DataFrame'>\n",
            "Int64Index: 891 entries, 1 to 891\n",
            "Data columns (total 11 columns):\n",
            " #   Column    Non-Null Count  Dtype  \n",
            "---  ------    --------------  -----  \n",
            " 0   Survived  891 non-null    int64  \n",
            " 1   Pclass    891 non-null    int64  \n",
            " 2   Name      891 non-null    object \n",
            " 3   Sex       891 non-null    object \n",
            " 4   Age       714 non-null    float64\n",
            " 5   SibSp     891 non-null    int64  \n",
            " 6   Parch     891 non-null    int64  \n",
            " 7   Ticket    891 non-null    object \n",
            " 8   Fare      891 non-null    float64\n",
            " 9   Cabin     204 non-null    object \n",
            " 10  Embarked  889 non-null    object \n",
            "dtypes: float64(2), int64(4), object(5)\n",
            "memory usage: 115.8+ KB\n",
            "Train Data None\n"
          ],
          "name": "stdout"
        }
      ]
    },
    {
      "cell_type": "code",
      "metadata": {
        "execution": {
          "iopub.execute_input": "2021-03-08T22:38:05.217824Z",
          "iopub.status.busy": "2021-03-08T22:38:05.216915Z",
          "iopub.status.idle": "2021-03-08T22:38:05.459409Z",
          "shell.execute_reply": "2021-03-08T22:38:05.458267Z"
        },
        "papermill": {
          "duration": 0.335393,
          "end_time": "2021-03-08T22:38:05.459573",
          "exception": false,
          "start_time": "2021-03-08T22:38:05.124180",
          "status": "completed"
        },
        "tags": [],
        "id": "4xH_HfDP4KNQ"
      },
      "source": [
        "from sklearn.preprocessing import StandardScaler, MinMaxScaler\n",
        "scaler = MinMaxScaler()\n",
        "\n",
        "# cabin - will we do this feature??\n",
        "\n",
        "# name titles\n",
        "train['title'] = train.Name.apply(lambda x: x.split(',')[1].split(' ')[1].strip())\n",
        "test['title'] = test.Name.apply(lambda x: x.split(',')[1].split(' ')[1].strip())\n",
        "\n",
        "# age and fare imputation w/ median to acccount for outliers\n",
        "# scale\n",
        "train.Age = train.Age.fillna(train.Age.median())\n",
        "test.Age = test.Age.fillna(test.Age.median())\n",
        "test.Fare = test.Fare.fillna(test.Fare.mean())\n",
        "\n",
        "# created dummy variables from categories (also can use OneHotEncoder)\n",
        "# sex, embarked, pclass, title get dummies\n",
        "train = pd.get_dummies(train, columns=['Sex', 'Pclass', 'Embarked', 'title', 'SibSp', 'Parch'])\n",
        "test = pd.get_dummies(test, columns=['Sex', 'Pclass', 'Embarked', 'title', 'SibSp', 'Parch'])\n",
        "\n",
        "# numeric tickets\n",
        "# tickets with 'PC'\n",
        "train['numeric_ticket'] = train.Ticket.apply(lambda x: 1 if x.isnumeric() else 0)\n",
        "train['pc_ticket'] = train['Ticket'].str.match(\"PC\").apply(lambda x: 1 if True else 0)\n",
        "test['numeric_ticket'] = test.Ticket.apply(lambda x: 1 if x.isnumeric() else 0)\n",
        "test['pc_ticket'] = test['Ticket'].str.match(\"PC\").apply(lambda x: 1 if True else 0)\n",
        "\n",
        "# age normalized\n",
        "train['age_norm'] = scaler.fit_transform(train[['Age']])\n",
        "test['age_norm'] = scaler.fit_transform(test[['Age']])\n",
        "\n",
        "# fare normalized\n",
        "train['fare_norm'] = scaler.fit_transform(train[['Fare']])\n",
        "test['fare_norm'] = scaler.fit_transform(test[['Fare']])"
      ],
      "execution_count": null,
      "outputs": []
    },
    {
      "cell_type": "markdown",
      "metadata": {
        "papermill": {
          "duration": 0.078136,
          "end_time": "2021-03-08T22:38:05.616257",
          "exception": false,
          "start_time": "2021-03-08T22:38:05.538121",
          "status": "completed"
        },
        "tags": [],
        "id": "tlmjtdPR4KNQ"
      },
      "source": [
        "## Create the X_train, X_test, and y_train Datasets"
      ]
    },
    {
      "cell_type": "code",
      "metadata": {
        "execution": {
          "iopub.execute_input": "2021-03-08T22:38:05.785700Z",
          "iopub.status.busy": "2021-03-08T22:38:05.781159Z",
          "iopub.status.idle": "2021-03-08T22:38:05.793766Z",
          "shell.execute_reply": "2021-03-08T22:38:05.793156Z"
        },
        "papermill": {
          "duration": 0.099342,
          "end_time": "2021-03-08T22:38:05.793941",
          "exception": false,
          "start_time": "2021-03-08T22:38:05.694599",
          "status": "completed"
        },
        "tags": [],
        "id": "wuTKoCiH4KNQ",
        "outputId": "3bccd68d-7f1b-4b8a-e2e4-15028c4cceba"
      },
      "source": [
        "# Create the training and test datasets\n",
        "X_train = train.drop(columns=['Survived', 'Fare', 'Name', 'Age', 'Ticket', 'Cabin', 'title_Mme.', 'title_the', 'title_Sir.', 'title_Mlle.', 'title_Major.', 'title_Lady.', 'title_Jonkheer.', 'title_Don.', 'title_Capt.'])\n",
        "X_test = test.drop(columns=['Fare', 'Name', 'Age', 'Ticket', 'Cabin', 'title_Dona.', 'Parch_9'])\n",
        "y_train = train['Survived']\n",
        "print(f'y_train.shape: {y_train.shape}')\n",
        "print(f'X_train.shape: {X_train.shape}')\n",
        "print(f'X_test.shape: {X_test.shape}')\n",
        "print('X_train Columns:', X_train.columns)\n",
        "print('X_test Columns:', X_test.columns)"
      ],
      "execution_count": null,
      "outputs": [
        {
          "output_type": "stream",
          "text": [
            "y_train.shape: (891,)\n",
            "X_train.shape: (891, 34)\n",
            "X_test.shape: (418, 34)\n",
            "X_train Columns: Index(['Sex_female', 'Sex_male', 'Pclass_1', 'Pclass_2', 'Pclass_3',\n",
            "       'Embarked_C', 'Embarked_Q', 'Embarked_S', 'title_Col.', 'title_Dr.',\n",
            "       'title_Master.', 'title_Miss.', 'title_Mr.', 'title_Mrs.', 'title_Ms.',\n",
            "       'title_Rev.', 'SibSp_0', 'SibSp_1', 'SibSp_2', 'SibSp_3', 'SibSp_4',\n",
            "       'SibSp_5', 'SibSp_8', 'Parch_0', 'Parch_1', 'Parch_2', 'Parch_3',\n",
            "       'Parch_4', 'Parch_5', 'Parch_6', 'numeric_ticket', 'pc_ticket',\n",
            "       'age_norm', 'fare_norm'],\n",
            "      dtype='object')\n",
            "X_test Columns: Index(['Sex_female', 'Sex_male', 'Pclass_1', 'Pclass_2', 'Pclass_3',\n",
            "       'Embarked_C', 'Embarked_Q', 'Embarked_S', 'title_Col.', 'title_Dr.',\n",
            "       'title_Master.', 'title_Miss.', 'title_Mr.', 'title_Mrs.', 'title_Ms.',\n",
            "       'title_Rev.', 'SibSp_0', 'SibSp_1', 'SibSp_2', 'SibSp_3', 'SibSp_4',\n",
            "       'SibSp_5', 'SibSp_8', 'Parch_0', 'Parch_1', 'Parch_2', 'Parch_3',\n",
            "       'Parch_4', 'Parch_5', 'Parch_6', 'numeric_ticket', 'pc_ticket',\n",
            "       'age_norm', 'fare_norm'],\n",
            "      dtype='object')\n"
          ],
          "name": "stdout"
        }
      ]
    },
    {
      "cell_type": "code",
      "metadata": {
        "execution": {
          "iopub.execute_input": "2021-03-08T22:38:05.974488Z",
          "iopub.status.busy": "2021-03-08T22:38:05.973781Z",
          "iopub.status.idle": "2021-03-08T22:38:05.978760Z",
          "shell.execute_reply": "2021-03-08T22:38:05.978087Z"
        },
        "papermill": {
          "duration": 0.104843,
          "end_time": "2021-03-08T22:38:05.978907",
          "exception": false,
          "start_time": "2021-03-08T22:38:05.874064",
          "status": "completed"
        },
        "tags": [],
        "id": "Ze_EWEhS4KNR",
        "outputId": "018a3aa1-11b4-4275-d67c-2b92c66f5c79"
      },
      "source": [
        "# inspect the X_train dataset\n",
        "X_train.head(3)"
      ],
      "execution_count": null,
      "outputs": [
        {
          "output_type": "execute_result",
          "data": {
            "text/html": [
              "<div>\n",
              "<style scoped>\n",
              "    .dataframe tbody tr th:only-of-type {\n",
              "        vertical-align: middle;\n",
              "    }\n",
              "\n",
              "    .dataframe tbody tr th {\n",
              "        vertical-align: top;\n",
              "    }\n",
              "\n",
              "    .dataframe thead th {\n",
              "        text-align: right;\n",
              "    }\n",
              "</style>\n",
              "<table border=\"1\" class=\"dataframe\">\n",
              "  <thead>\n",
              "    <tr style=\"text-align: right;\">\n",
              "      <th></th>\n",
              "      <th>Sex_female</th>\n",
              "      <th>Sex_male</th>\n",
              "      <th>Pclass_1</th>\n",
              "      <th>Pclass_2</th>\n",
              "      <th>Pclass_3</th>\n",
              "      <th>Embarked_C</th>\n",
              "      <th>Embarked_Q</th>\n",
              "      <th>Embarked_S</th>\n",
              "      <th>title_Col.</th>\n",
              "      <th>title_Dr.</th>\n",
              "      <th>...</th>\n",
              "      <th>Parch_1</th>\n",
              "      <th>Parch_2</th>\n",
              "      <th>Parch_3</th>\n",
              "      <th>Parch_4</th>\n",
              "      <th>Parch_5</th>\n",
              "      <th>Parch_6</th>\n",
              "      <th>numeric_ticket</th>\n",
              "      <th>pc_ticket</th>\n",
              "      <th>age_norm</th>\n",
              "      <th>fare_norm</th>\n",
              "    </tr>\n",
              "    <tr>\n",
              "      <th>PassengerId</th>\n",
              "      <th></th>\n",
              "      <th></th>\n",
              "      <th></th>\n",
              "      <th></th>\n",
              "      <th></th>\n",
              "      <th></th>\n",
              "      <th></th>\n",
              "      <th></th>\n",
              "      <th></th>\n",
              "      <th></th>\n",
              "      <th></th>\n",
              "      <th></th>\n",
              "      <th></th>\n",
              "      <th></th>\n",
              "      <th></th>\n",
              "      <th></th>\n",
              "      <th></th>\n",
              "      <th></th>\n",
              "      <th></th>\n",
              "      <th></th>\n",
              "      <th></th>\n",
              "    </tr>\n",
              "  </thead>\n",
              "  <tbody>\n",
              "    <tr>\n",
              "      <th>1</th>\n",
              "      <td>0</td>\n",
              "      <td>1</td>\n",
              "      <td>0</td>\n",
              "      <td>0</td>\n",
              "      <td>1</td>\n",
              "      <td>0</td>\n",
              "      <td>0</td>\n",
              "      <td>1</td>\n",
              "      <td>0</td>\n",
              "      <td>0</td>\n",
              "      <td>...</td>\n",
              "      <td>0</td>\n",
              "      <td>0</td>\n",
              "      <td>0</td>\n",
              "      <td>0</td>\n",
              "      <td>0</td>\n",
              "      <td>0</td>\n",
              "      <td>0</td>\n",
              "      <td>1</td>\n",
              "      <td>0.271174</td>\n",
              "      <td>0.014151</td>\n",
              "    </tr>\n",
              "    <tr>\n",
              "      <th>2</th>\n",
              "      <td>1</td>\n",
              "      <td>0</td>\n",
              "      <td>1</td>\n",
              "      <td>0</td>\n",
              "      <td>0</td>\n",
              "      <td>1</td>\n",
              "      <td>0</td>\n",
              "      <td>0</td>\n",
              "      <td>0</td>\n",
              "      <td>0</td>\n",
              "      <td>...</td>\n",
              "      <td>0</td>\n",
              "      <td>0</td>\n",
              "      <td>0</td>\n",
              "      <td>0</td>\n",
              "      <td>0</td>\n",
              "      <td>0</td>\n",
              "      <td>0</td>\n",
              "      <td>1</td>\n",
              "      <td>0.472229</td>\n",
              "      <td>0.139136</td>\n",
              "    </tr>\n",
              "    <tr>\n",
              "      <th>3</th>\n",
              "      <td>1</td>\n",
              "      <td>0</td>\n",
              "      <td>0</td>\n",
              "      <td>0</td>\n",
              "      <td>1</td>\n",
              "      <td>0</td>\n",
              "      <td>0</td>\n",
              "      <td>1</td>\n",
              "      <td>0</td>\n",
              "      <td>0</td>\n",
              "      <td>...</td>\n",
              "      <td>0</td>\n",
              "      <td>0</td>\n",
              "      <td>0</td>\n",
              "      <td>0</td>\n",
              "      <td>0</td>\n",
              "      <td>0</td>\n",
              "      <td>0</td>\n",
              "      <td>1</td>\n",
              "      <td>0.321438</td>\n",
              "      <td>0.015469</td>\n",
              "    </tr>\n",
              "  </tbody>\n",
              "</table>\n",
              "<p>3 rows × 34 columns</p>\n",
              "</div>"
            ],
            "text/plain": [
              "             Sex_female  Sex_male  Pclass_1  Pclass_2  Pclass_3  Embarked_C  \\\n",
              "PassengerId                                                                   \n",
              "1                     0         1         0         0         1           0   \n",
              "2                     1         0         1         0         0           1   \n",
              "3                     1         0         0         0         1           0   \n",
              "\n",
              "             Embarked_Q  Embarked_S  title_Col.  title_Dr.  ...  Parch_1  \\\n",
              "PassengerId                                                 ...            \n",
              "1                     0           1           0          0  ...        0   \n",
              "2                     0           0           0          0  ...        0   \n",
              "3                     0           1           0          0  ...        0   \n",
              "\n",
              "             Parch_2  Parch_3  Parch_4  Parch_5  Parch_6  numeric_ticket  \\\n",
              "PassengerId                                                                \n",
              "1                  0        0        0        0        0               0   \n",
              "2                  0        0        0        0        0               0   \n",
              "3                  0        0        0        0        0               0   \n",
              "\n",
              "             pc_ticket  age_norm  fare_norm  \n",
              "PassengerId                                  \n",
              "1                    1  0.271174   0.014151  \n",
              "2                    1  0.472229   0.139136  \n",
              "3                    1  0.321438   0.015469  \n",
              "\n",
              "[3 rows x 34 columns]"
            ]
          },
          "metadata": {
            "tags": []
          },
          "execution_count": 43
        }
      ]
    },
    {
      "cell_type": "markdown",
      "metadata": {
        "papermill": {
          "duration": 0.081088,
          "end_time": "2021-03-08T22:38:06.141642",
          "exception": false,
          "start_time": "2021-03-08T22:38:06.060554",
          "status": "completed"
        },
        "tags": [],
        "id": "N9FX43Fs4KNR"
      },
      "source": [
        "<a id=\"training\"></a>\n",
        "# <div align='center'>5. Train Model\n",
        "👷‍WIP👷‍\n",
        "<br>\n",
        "    <br>\n",
        "**The highest out of the box, cross-validated model: LogisticRegression %81.59 Accuracy** \n",
        "<br>\n",
        "    <br>\n",
        "Using 'Cross Validation' to find the average scores for each alogrithm. This will help to prevent scores from seeming to overfit. \n",
        "* [sklearn cross-validation](https://scikit-learn.org/stable/modules/cross_validation.html)\n",
        "* [Plotting the confusion matrix](https://scikit-learn.org/stable/modules/generated/sklearn.metrics.plot_confusion_matrix.html#sklearn.metrics.plot_confusion_matrix)\n",
        "* [Precision and Recall](https://scikit-learn.org/stable/auto_examples/model_selection/plot_precision_recall.html)\n",
        "\n",
        "I will test 5 different ML models to baseline prediction accuracy:\n",
        "* [Decision Tree](https://scikit-learn.org/stable/modules/tree.html)\n",
        "* [Random Forest](https://scikit-learn.org/stable/modules/ensemble.html)\n",
        "* [Logistic Regression](https://www.analyticsvidhya.com/blog/2018/05/improve-model-performance-cross-validation-in-python-r/) - I use a logistic versus a linear regression because our problem is a binary classification. A sigmoid line is preferencial to that of a straight one.\n",
        "* [K Nearest Neighbor](https://scikit-learn.org/stable/modules/neighbors.html)\n",
        "* [Naive Bayes](https://scikit-learn.org/stable/modules/naive_bayes.html)\n",
        "* [XGBoost](https://machinelearningmastery.com/develop-first-xgboost-model-python-scikit-learn/) - I decided to try out XGBoost instead of the ScikitLearn version of gradient boosting because: A. I haven't tried either and B. The reviews say this is efficient. \n",
        "\n",
        "``` \n",
        "import graphviz \n",
        "dot_data = tree.export_graphviz(clf, out_file=None) \n",
        "graph = graphviz.Source(dot_data) \n",
        "graph.render(\"iris\") \n",
        "```"
      ]
    },
    {
      "cell_type": "code",
      "metadata": {
        "execution": {
          "iopub.execute_input": "2021-03-08T22:38:06.308630Z",
          "iopub.status.busy": "2021-03-08T22:38:06.307879Z",
          "iopub.status.idle": "2021-03-08T22:38:06.965155Z",
          "shell.execute_reply": "2021-03-08T22:38:06.964524Z"
        },
        "papermill": {
          "duration": 0.742929,
          "end_time": "2021-03-08T22:38:06.965322",
          "exception": false,
          "start_time": "2021-03-08T22:38:06.222393",
          "status": "completed"
        },
        "tags": [],
        "id": "jRmQYPf-4KNR"
      },
      "source": [
        "# Import machine learning libraries\n",
        "from sklearn.model_selection import cross_val_score, GridSearchCV, StratifiedKFold\n",
        "from sklearn.metrics import plot_confusion_matrix, accuracy_score\n",
        "from sklearn.metrics import precision_score, recall_score, f1_score\n",
        "from sklearn.linear_model import LogisticRegression\n",
        "from sklearn.tree import DecisionTreeClassifier\n",
        "from sklearn.ensemble import RandomForestClassifier, GradientBoostingClassifier\n",
        "from sklearn.neighbors import KNeighborsClassifier\n",
        "from sklearn.naive_bayes import GaussianNB\n",
        "from xgboost import XGBClassifier "
      ],
      "execution_count": null,
      "outputs": []
    },
    {
      "cell_type": "code",
      "metadata": {
        "execution": {
          "iopub.execute_input": "2021-03-08T22:38:07.137549Z",
          "iopub.status.busy": "2021-03-08T22:38:07.136504Z",
          "iopub.status.idle": "2021-03-08T22:38:07.140451Z",
          "shell.execute_reply": "2021-03-08T22:38:07.139899Z"
        },
        "papermill": {
          "duration": 0.094223,
          "end_time": "2021-03-08T22:38:07.140597",
          "exception": false,
          "start_time": "2021-03-08T22:38:07.046374",
          "status": "completed"
        },
        "tags": [],
        "id": "CSeI5WrB4KNS"
      },
      "source": [
        "# create function to output scores for each model\n",
        "\n",
        "def clf_scoring(clf):\n",
        "    clf = clf.fit(X_train, y_train)\n",
        "    cv_score = cross_val_score(clf, X_train, y_train, cv=5)\n",
        "    clf_id = clf.__class__.__name__\n",
        "    print(f'Model: {clf}')\n",
        "    print('single pass score:', round(clf.score(X_train, y_train)*100, 2))\n",
        "    print('k-fold scores:', cv_score)\n",
        "    print(f'cross-validated score: {round(cv_score.mean()*100, 2)} std+/- {cv_score.std()}')\n",
        "    print()\n",
        "    return dict({\n",
        "        'id': clf_id, 'score roc_auc': cv_score.mean(), 'singe pass score': clf.score(X_train, y_train), \n",
        "        'std': cv_score.std(), 'model': clf, 'params': clf.get_params()\n",
        "    })"
      ],
      "execution_count": null,
      "outputs": []
    },
    {
      "cell_type": "code",
      "metadata": {
        "execution": {
          "iopub.execute_input": "2021-03-08T22:38:07.309535Z",
          "iopub.status.busy": "2021-03-08T22:38:07.308875Z",
          "iopub.status.idle": "2021-03-08T22:38:09.322975Z",
          "shell.execute_reply": "2021-03-08T22:38:09.323739Z"
        },
        "papermill": {
          "duration": 2.102762,
          "end_time": "2021-03-08T22:38:09.324050",
          "exception": false,
          "start_time": "2021-03-08T22:38:07.221288",
          "status": "completed"
        },
        "tags": [],
        "id": "b31iXXZj4KNS",
        "outputId": "adb014c6-f8d8-4808-d804-9fd88eb83282"
      },
      "source": [
        "clfs = [DecisionTreeClassifier(), RandomForestClassifier(), \n",
        "        LogisticRegression(), KNeighborsClassifier(), \n",
        "        GaussianNB()] # XGBClassifier() funny error, will wait to do it later\n",
        "clf_outputs = []\n",
        "for model in clfs:\n",
        "    clf_outputs.append(clf_scoring(model))"
      ],
      "execution_count": null,
      "outputs": [
        {
          "output_type": "stream",
          "text": [
            "Model: DecisionTreeClassifier()\n",
            "single pass score: 98.54\n",
            "k-fold scores: [0.74860335 0.76966292 0.83707865 0.74157303 0.79213483]\n",
            "cross-validated score: 77.78 std+/- 0.03449781086980685\n",
            "\n",
            "Model: RandomForestClassifier()\n",
            "single pass score: 98.54\n",
            "k-fold scores: [0.7877095  0.78089888 0.85393258 0.75842697 0.78089888]\n",
            "cross-validated score: 79.24 std+/- 0.03233256841691915\n",
            "\n",
            "Model: LogisticRegression()\n",
            "single pass score: 83.16\n",
            "k-fold scores: [0.82122905 0.82022472 0.80898876 0.78089888 0.84831461]\n",
            "cross-validated score: 81.59 std+/- 0.021774515698560468\n",
            "\n",
            "Model: KNeighborsClassifier()\n",
            "single pass score: 85.41\n",
            "k-fold scores: [0.78212291 0.79213483 0.83146067 0.79775281 0.79775281]\n",
            "cross-validated score: 80.02 std+/- 0.01661941939354131\n",
            "\n",
            "Model: GaussianNB()\n",
            "single pass score: 41.53\n",
            "k-fold scores: [0.41899441 0.41573034 0.40449438 0.39325843 0.42134831]\n",
            "cross-validated score: 41.08 std+/- 0.010489853330324232\n",
            "\n"
          ],
          "name": "stdout"
        }
      ]
    },
    {
      "cell_type": "code",
      "metadata": {
        "execution": {
          "iopub.execute_input": "2021-03-08T22:38:09.504116Z",
          "iopub.status.busy": "2021-03-08T22:38:09.502963Z",
          "iopub.status.idle": "2021-03-08T22:38:09.562338Z",
          "shell.execute_reply": "2021-03-08T22:38:09.561553Z"
        },
        "papermill": {
          "duration": 0.15614,
          "end_time": "2021-03-08T22:38:09.562504",
          "exception": false,
          "start_time": "2021-03-08T22:38:09.406364",
          "status": "completed"
        },
        "tags": [],
        "id": "PP256lpV4KNS",
        "outputId": "2e54c19a-8c94-486d-cb52-6165a7dab504"
      },
      "source": [
        "# Sorted ML models based on ROC_AUC or cross-validated score\n",
        "\n",
        "clf_df = pd.DataFrame(clf_outputs)\n",
        "clf_df.sort_values('score roc_auc', ascending=False)"
      ],
      "execution_count": null,
      "outputs": [
        {
          "output_type": "execute_result",
          "data": {
            "text/html": [
              "<div>\n",
              "<style scoped>\n",
              "    .dataframe tbody tr th:only-of-type {\n",
              "        vertical-align: middle;\n",
              "    }\n",
              "\n",
              "    .dataframe tbody tr th {\n",
              "        vertical-align: top;\n",
              "    }\n",
              "\n",
              "    .dataframe thead th {\n",
              "        text-align: right;\n",
              "    }\n",
              "</style>\n",
              "<table border=\"1\" class=\"dataframe\">\n",
              "  <thead>\n",
              "    <tr style=\"text-align: right;\">\n",
              "      <th></th>\n",
              "      <th>id</th>\n",
              "      <th>score roc_auc</th>\n",
              "      <th>singe pass score</th>\n",
              "      <th>std</th>\n",
              "      <th>model</th>\n",
              "      <th>params</th>\n",
              "    </tr>\n",
              "  </thead>\n",
              "  <tbody>\n",
              "    <tr>\n",
              "      <th>2</th>\n",
              "      <td>LogisticRegression</td>\n",
              "      <td>0.815931</td>\n",
              "      <td>0.831650</td>\n",
              "      <td>0.021775</td>\n",
              "      <td>LogisticRegression()</td>\n",
              "      <td>{'C': 1.0, 'class_weight': None, 'dual': False...</td>\n",
              "    </tr>\n",
              "    <tr>\n",
              "      <th>3</th>\n",
              "      <td>KNeighborsClassifier</td>\n",
              "      <td>0.800245</td>\n",
              "      <td>0.854097</td>\n",
              "      <td>0.016619</td>\n",
              "      <td>KNeighborsClassifier()</td>\n",
              "      <td>{'algorithm': 'auto', 'leaf_size': 30, 'metric...</td>\n",
              "    </tr>\n",
              "    <tr>\n",
              "      <th>1</th>\n",
              "      <td>RandomForestClassifier</td>\n",
              "      <td>0.792373</td>\n",
              "      <td>0.985410</td>\n",
              "      <td>0.032333</td>\n",
              "      <td>(DecisionTreeClassifier(max_features='auto', r...</td>\n",
              "      <td>{'bootstrap': True, 'ccp_alpha': 0.0, 'class_w...</td>\n",
              "    </tr>\n",
              "    <tr>\n",
              "      <th>0</th>\n",
              "      <td>DecisionTreeClassifier</td>\n",
              "      <td>0.777811</td>\n",
              "      <td>0.985410</td>\n",
              "      <td>0.034498</td>\n",
              "      <td>DecisionTreeClassifier()</td>\n",
              "      <td>{'ccp_alpha': 0.0, 'class_weight': None, 'crit...</td>\n",
              "    </tr>\n",
              "    <tr>\n",
              "      <th>4</th>\n",
              "      <td>GaussianNB</td>\n",
              "      <td>0.410765</td>\n",
              "      <td>0.415264</td>\n",
              "      <td>0.010490</td>\n",
              "      <td>GaussianNB()</td>\n",
              "      <td>{'priors': None, 'var_smoothing': 1e-09}</td>\n",
              "    </tr>\n",
              "  </tbody>\n",
              "</table>\n",
              "</div>"
            ],
            "text/plain": [
              "                       id  score roc_auc  singe pass score       std  \\\n",
              "2      LogisticRegression       0.815931          0.831650  0.021775   \n",
              "3    KNeighborsClassifier       0.800245          0.854097  0.016619   \n",
              "1  RandomForestClassifier       0.792373          0.985410  0.032333   \n",
              "0  DecisionTreeClassifier       0.777811          0.985410  0.034498   \n",
              "4              GaussianNB       0.410765          0.415264  0.010490   \n",
              "\n",
              "                                               model  \\\n",
              "2                               LogisticRegression()   \n",
              "3                             KNeighborsClassifier()   \n",
              "1  (DecisionTreeClassifier(max_features='auto', r...   \n",
              "0                           DecisionTreeClassifier()   \n",
              "4                                       GaussianNB()   \n",
              "\n",
              "                                              params  \n",
              "2  {'C': 1.0, 'class_weight': None, 'dual': False...  \n",
              "3  {'algorithm': 'auto', 'leaf_size': 30, 'metric...  \n",
              "1  {'bootstrap': True, 'ccp_alpha': 0.0, 'class_w...  \n",
              "0  {'ccp_alpha': 0.0, 'class_weight': None, 'crit...  \n",
              "4           {'priors': None, 'var_smoothing': 1e-09}  "
            ]
          },
          "metadata": {
            "tags": []
          },
          "execution_count": 47
        }
      ]
    },
    {
      "cell_type": "code",
      "metadata": {
        "execution": {
          "iopub.execute_input": "2021-03-08T22:38:09.742201Z",
          "iopub.status.busy": "2021-03-08T22:38:09.741137Z",
          "iopub.status.idle": "2021-03-08T22:38:09.745849Z",
          "shell.execute_reply": "2021-03-08T22:38:09.745282Z"
        },
        "papermill": {
          "duration": 0.092829,
          "end_time": "2021-03-08T22:38:09.746022",
          "exception": false,
          "start_time": "2021-03-08T22:38:09.653193",
          "status": "completed"
        },
        "tags": [],
        "id": "CNGW8YMP4KNS",
        "outputId": "b57867c7-3ea5-4c18-975c-f462779895cb"
      },
      "source": [
        "clf_df.loc[1, 'model']"
      ],
      "execution_count": null,
      "outputs": [
        {
          "output_type": "execute_result",
          "data": {
            "text/plain": [
              "RandomForestClassifier()"
            ]
          },
          "metadata": {
            "tags": []
          },
          "execution_count": 48
        }
      ]
    },
    {
      "cell_type": "code",
      "metadata": {
        "execution": {
          "iopub.execute_input": "2021-03-08T22:38:09.919861Z",
          "iopub.status.busy": "2021-03-08T22:38:09.919136Z",
          "iopub.status.idle": "2021-03-08T22:38:09.948637Z",
          "shell.execute_reply": "2021-03-08T22:38:09.947900Z"
        },
        "papermill": {
          "duration": 0.11994,
          "end_time": "2021-03-08T22:38:09.948849",
          "exception": false,
          "start_time": "2021-03-08T22:38:09.828909",
          "status": "completed"
        },
        "tags": [],
        "id": "AH-nC16L4KNT"
      },
      "source": [
        "# Best baseline model for submission\n",
        "params = clf_df.loc[2].params\n",
        "clf = LogisticRegression(**params).fit(X_train, y_train)"
      ],
      "execution_count": null,
      "outputs": []
    },
    {
      "cell_type": "code",
      "metadata": {
        "execution": {
          "iopub.execute_input": "2021-03-08T22:38:10.133558Z",
          "iopub.status.busy": "2021-03-08T22:38:10.130214Z",
          "iopub.status.idle": "2021-03-08T22:38:10.366577Z",
          "shell.execute_reply": "2021-03-08T22:38:10.366041Z"
        },
        "papermill": {
          "duration": 0.331566,
          "end_time": "2021-03-08T22:38:10.366752",
          "exception": false,
          "start_time": "2021-03-08T22:38:10.035186",
          "status": "completed"
        },
        "tags": [],
        "id": "agV6yp2s4KNT",
        "outputId": "90537c48-eafe-469d-c684-b85f9446e3c9"
      },
      "source": [
        "# Confusion Matrix\n",
        "\n",
        "from sklearn.model_selection import train_test_split\n",
        "\n",
        "cm_X_train, cm_X_test, cm_y_train, cm_y_test = train_test_split(\n",
        "    X_train, y_train, train_size=.7, random_state=0)\n",
        "\n",
        "clf_cm = LogisticRegression(**params).fit(cm_X_train, cm_y_train)\n",
        "cm_y_hat = clf.predict(cm_X_test)\n",
        "\n",
        "precision = round(precision_score(cm_y_test, cm_y_hat, average='binary')*100, 2)\n",
        "recall = round(recall_score(cm_y_test, cm_y_hat, average='binary')*100, 2)\n",
        "f1 = round(f1_score(cm_y_test, cm_y_hat, average='binary')*100, 2)\n",
        "\n",
        "print('LogisticRegression Model')\n",
        "print(f'Precision score: %{precision}')\n",
        "print(f'Recall score: %{recall}')\n",
        "print(f'F1 score: %{f1}')\n",
        "print('')\n",
        "print(f'Confusion Matrix {plot_confusion_matrix(clf_cm, cm_X_test, cm_y_test)}')  "
      ],
      "execution_count": null,
      "outputs": [
        {
          "output_type": "stream",
          "text": [
            "LogisticRegression Model\n",
            "Precision score: %75.49\n",
            "Recall score: %77.0\n",
            "F1 score: %76.24\n",
            "\n",
            "Confusion Matrix <sklearn.metrics._plot.confusion_matrix.ConfusionMatrixDisplay object at 0x7f4db5c7b050>\n"
          ],
          "name": "stdout"
        },
        {
          "output_type": "display_data",
          "data": {
            "image/png": "[encoded data removed]",
            "text/plain": [
              "<Figure size 432x288 with 2 Axes>"
            ]
          },
          "metadata": {
            "tags": []
          }
        }
      ]
    },
    {
      "cell_type": "code",
      "metadata": {
        "execution": {
          "iopub.execute_input": "2021-03-08T22:38:10.542093Z",
          "iopub.status.busy": "2021-03-08T22:38:10.541408Z",
          "iopub.status.idle": "2021-03-08T22:38:11.117885Z",
          "shell.execute_reply": "2021-03-08T22:38:11.118378Z"
        },
        "papermill": {
          "duration": 0.668257,
          "end_time": "2021-03-08T22:38:11.118566",
          "exception": false,
          "start_time": "2021-03-08T22:38:10.450309",
          "status": "completed"
        },
        "tags": [],
        "id": "RRPq8UUO4KNT",
        "outputId": "e0f0b99c-6f5f-404b-ad17-c8857c0538d1"
      },
      "source": [
        "rf = RandomForestClassifier()\n",
        "rf = rf.fit(X_train, y_train)\n",
        "# .best_estimator_.fit(X_train,y_train)\n",
        "feat_importances = pd.Series(rf.feature_importances_, index=X_train.columns)\n",
        "feat_importances.nlargest(20).plot(kind='barh')\n",
        "\n",
        "# clf = clf.fit(X_train, y_train)\n",
        "# cv_score = cross_val_score(clf, X_train, y_train, cv=5)"
      ],
      "execution_count": null,
      "outputs": [
        {
          "output_type": "execute_result",
          "data": {
            "text/plain": [
              "<AxesSubplot:>"
            ]
          },
          "metadata": {
            "tags": []
          },
          "execution_count": 51
        },
        {
          "output_type": "display_data",
          "data": {
            "image/png": "[encoded data removed]",
            "text/plain": [
              "<Figure size 432x288 with 1 Axes>"
            ]
          },
          "metadata": {
            "tags": []
          }
        }
      ]
    },
    {
      "cell_type": "markdown",
      "metadata": {
        "papermill": {
          "duration": 0.087172,
          "end_time": "2021-03-08T22:38:11.292393",
          "exception": false,
          "start_time": "2021-03-08T22:38:11.205221",
          "status": "completed"
        },
        "tags": [],
        "id": "45fE2Drl4KNU"
      },
      "source": [
        "* [feature importances](https://scikit-learn.org/stable/auto_examples/ensemble/plot_forest_importances.html)"
      ]
    },
    {
      "cell_type": "markdown",
      "metadata": {
        "papermill": {
          "duration": 0.085548,
          "end_time": "2021-03-08T22:38:11.464012",
          "exception": false,
          "start_time": "2021-03-08T22:38:11.378464",
          "status": "completed"
        },
        "tags": [],
        "id": "P7xCDuO74KNU"
      },
      "source": [
        "<a id=\"evaluate\"></a>\n",
        "# <div align='center'>6. Evaluate -> Tune -> Ensemble\n",
        "👷‍WIP👷‍\n",
        "* [gridsearch](https://scikit-learn.org/stable/modules/grid_search.html)\n",
        "* [RandomizedSearchCV](https://scikit-learn.org/stable/modules/generated/sklearn.model_selection.RandomizedSearchCV.html)\n",
        "* ensembles - hard and soft voting: [sklearn ensemble overview](https://scikit-learn.org/stable/modules/ensemble.html), [VotingClassifier](https://scikit-learn.org/stable/modules/generated/sklearn.ensemble.VotingClassifier.html)"
      ]
    },
    {
      "cell_type": "code",
      "metadata": {
        "execution": {
          "iopub.execute_input": "2021-03-08T22:38:11.642918Z",
          "iopub.status.busy": "2021-03-08T22:38:11.642032Z",
          "iopub.status.idle": "2021-03-08T22:38:11.644933Z",
          "shell.execute_reply": "2021-03-08T22:38:11.644383Z"
        },
        "papermill": {
          "duration": 0.093305,
          "end_time": "2021-03-08T22:38:11.645086",
          "exception": false,
          "start_time": "2021-03-08T22:38:11.551781",
          "status": "completed"
        },
        "tags": [],
        "id": "a1v6ML3k4KNU"
      },
      "source": [
        "dt = DecisionTreeClassifier()\n",
        "rf = RandomForestClassifier()\n",
        "lr = LogisticRegression()\n",
        "knn = KNeighborsClassifier()\n",
        "gnb = GaussianNB()"
      ],
      "execution_count": null,
      "outputs": []
    },
    {
      "cell_type": "code",
      "metadata": {
        "execution": {
          "iopub.execute_input": "2021-03-08T22:38:11.822825Z",
          "iopub.status.busy": "2021-03-08T22:38:11.822171Z",
          "iopub.status.idle": "2021-03-08T22:38:11.900883Z",
          "shell.execute_reply": "2021-03-08T22:38:11.901417Z"
        },
        "papermill": {
          "duration": 0.170619,
          "end_time": "2021-03-08T22:38:11.901600",
          "exception": false,
          "start_time": "2021-03-08T22:38:11.730981",
          "status": "completed"
        },
        "tags": [],
        "id": "5sx3jQle4KNU",
        "outputId": "2fa4f66e-62b5-40ac-d227-cac27685902c"
      },
      "source": [
        "voting_clf_no_tuning = VotingClassifier(estimators = [('dt', dt),('lr',lr),('knn',knn),('rf',rf),('gnb',gnb)], voting = 'soft')\n",
        "clf_outputs.append(clf_scoring(voting_clf))"
      ],
      "execution_count": null,
      "outputs": [
        {
          "output_type": "error",
          "ename": "NameError",
          "evalue": "name 'VotingClassifier' is not defined",
          "traceback": [
            "\u001b[0;31m---------------------------------------------------------------------------\u001b[0m",
            "\u001b[0;31mNameError\u001b[0m                                 Traceback (most recent call last)",
            "\u001b[0;32m<ipython-input-53-b93f1644aa69>\u001b[0m in \u001b[0;36m<module>\u001b[0;34m\u001b[0m\n\u001b[0;32m----> 1\u001b[0;31m \u001b[0mvoting_clf_no_tuning\u001b[0m \u001b[0;34m=\u001b[0m \u001b[0mVotingClassifier\u001b[0m\u001b[0;34m(\u001b[0m\u001b[0mestimators\u001b[0m \u001b[0;34m=\u001b[0m \u001b[0;34m[\u001b[0m\u001b[0;34m(\u001b[0m\u001b[0;34m'dt'\u001b[0m\u001b[0;34m,\u001b[0m \u001b[0mdt\u001b[0m\u001b[0;34m)\u001b[0m\u001b[0;34m,\u001b[0m\u001b[0;34m(\u001b[0m\u001b[0;34m'lr'\u001b[0m\u001b[0;34m,\u001b[0m\u001b[0mlr\u001b[0m\u001b[0;34m)\u001b[0m\u001b[0;34m,\u001b[0m\u001b[0;34m(\u001b[0m\u001b[0;34m'knn'\u001b[0m\u001b[0;34m,\u001b[0m\u001b[0mknn\u001b[0m\u001b[0;34m)\u001b[0m\u001b[0;34m,\u001b[0m\u001b[0;34m(\u001b[0m\u001b[0;34m'rf'\u001b[0m\u001b[0;34m,\u001b[0m\u001b[0mrf\u001b[0m\u001b[0;34m)\u001b[0m\u001b[0;34m,\u001b[0m\u001b[0;34m(\u001b[0m\u001b[0;34m'gnb'\u001b[0m\u001b[0;34m,\u001b[0m\u001b[0mgnb\u001b[0m\u001b[0;34m)\u001b[0m\u001b[0;34m]\u001b[0m\u001b[0;34m,\u001b[0m \u001b[0mvoting\u001b[0m \u001b[0;34m=\u001b[0m \u001b[0;34m'soft'\u001b[0m\u001b[0;34m)\u001b[0m\u001b[0;34m\u001b[0m\u001b[0;34m\u001b[0m\u001b[0m\n\u001b[0m\u001b[1;32m      2\u001b[0m \u001b[0mclf_outputs\u001b[0m\u001b[0;34m.\u001b[0m\u001b[0mappend\u001b[0m\u001b[0;34m(\u001b[0m\u001b[0mclf_scoring\u001b[0m\u001b[0;34m(\u001b[0m\u001b[0mvoting_clf\u001b[0m\u001b[0;34m)\u001b[0m\u001b[0;34m)\u001b[0m\u001b[0;34m\u001b[0m\u001b[0;34m\u001b[0m\u001b[0m\n",
            "\u001b[0;31mNameError\u001b[0m: name 'VotingClassifier' is not defined"
          ]
        }
      ]
    },
    {
      "cell_type": "code",
      "metadata": {
        "execution": {
          "iopub.execute_input": "2021-03-08T22:38:12.085544Z",
          "iopub.status.busy": "2021-03-08T22:38:12.084829Z",
          "iopub.status.idle": "2021-03-08T22:38:12.087590Z",
          "shell.execute_reply": "2021-03-08T22:38:12.088216Z"
        },
        "papermill": {
          "duration": 0.099947,
          "end_time": "2021-03-08T22:38:12.088398",
          "exception": false,
          "start_time": "2021-03-08T22:38:11.988451",
          "status": "completed"
        },
        "tags": [],
        "id": "Ua1T6sG34KNV"
      },
      "source": [
        "random_state = 42\n",
        "classifier = [DecisionTreeClassifier(random_state = random_state),\n",
        "             RandomForestClassifier(random_state = random_state),\n",
        "             LogisticRegression(random_state = random_state),\n",
        "             KNeighborsClassifier()]\n",
        "\n",
        "dt_param_grid = {\"min_samples_split\" : range(10,500,20),\n",
        "    \"max_depth\": range(1,20,2)}\n",
        "\n",
        "rf_param_grid = {\"max_features\": [1,3,10],\n",
        "                \"min_samples_split\":[2,3,10],\n",
        "                \"min_samples_leaf\":[1,3,10],\n",
        "                \"bootstrap\":[False],\n",
        "                \"n_estimators\":[100,300],\n",
        "                \"criterion\":[\"gini\"]}\n",
        "\n",
        "logreg_param_grid = {\"C\":np.logspace(-3,3,7),\n",
        "                    \"penalty\": [\"l1\",\"l2\"]}\n",
        "\n",
        "knn_param_grid = {\"n_neighbors\": np.linspace(1,19,10, dtype = int).tolist(),\n",
        "                 \"weights\": [\"uniform\",\"distance\"],\n",
        "                 \"metric\":[\"euclidean\",\"manhattan\"]}\n",
        "classifier_param = [dt_param_grid,\n",
        "                   rf_param_grid,\n",
        "                   logreg_param_grid,\n",
        "                   knn_param_grid]"
      ],
      "execution_count": null,
      "outputs": []
    },
    {
      "cell_type": "code",
      "metadata": {
        "execution": {
          "iopub.execute_input": "2021-03-08T22:38:12.281127Z",
          "iopub.status.busy": "2021-03-08T22:38:12.280353Z",
          "iopub.status.idle": "2021-03-08T22:38:12.285344Z",
          "shell.execute_reply": "2021-03-08T22:38:12.284708Z"
        },
        "papermill": {
          "duration": 0.108671,
          "end_time": "2021-03-08T22:38:12.285489",
          "exception": false,
          "start_time": "2021-03-08T22:38:12.176818",
          "status": "completed"
        },
        "tags": [],
        "id": "SY1kQIZv4KNV",
        "outputId": "8c1c536d-2d36-4411-c56d-56d142435df0"
      },
      "source": [
        "cv_result = []\n",
        "best_estimators = []\n",
        "for i in range(len(classifier)):\n",
        "    t1 = time.time()\n",
        "    clf = GridSearchCV(classifier[i], param_grid=classifier_param[i], cv = StratifiedKFold(n_splits = 10), scoring = \"accuracy\", n_jobs = -1,verbose = 1)\n",
        "    clf.fit(X_train,y_train)\n",
        "    cv_result.append(clf.best_score_)\n",
        "    best_estimators.append(clf.best_estimator_)\n",
        "    t2 = time.time()\n",
        "    print(classifier[i])\n",
        "    print(f'Time elapsed: {round(t2-t1, 2)} seconds')\n",
        "    print(f'Score: {round(cv_result[i]*100, 2)}%')\n",
        "    print('')"
      ],
      "execution_count": null,
      "outputs": [
        {
          "output_type": "error",
          "ename": "NameError",
          "evalue": "name 'time' is not defined",
          "traceback": [
            "\u001b[0;31m---------------------------------------------------------------------------\u001b[0m",
            "\u001b[0;31mNameError\u001b[0m                                 Traceback (most recent call last)",
            "\u001b[0;32m<ipython-input-55-664b173b13ba>\u001b[0m in \u001b[0;36m<module>\u001b[0;34m\u001b[0m\n\u001b[1;32m      2\u001b[0m \u001b[0mbest_estimators\u001b[0m \u001b[0;34m=\u001b[0m \u001b[0;34m[\u001b[0m\u001b[0;34m]\u001b[0m\u001b[0;34m\u001b[0m\u001b[0;34m\u001b[0m\u001b[0m\n\u001b[1;32m      3\u001b[0m \u001b[0;32mfor\u001b[0m \u001b[0mi\u001b[0m \u001b[0;32min\u001b[0m \u001b[0mrange\u001b[0m\u001b[0;34m(\u001b[0m\u001b[0mlen\u001b[0m\u001b[0;34m(\u001b[0m\u001b[0mclassifier\u001b[0m\u001b[0;34m)\u001b[0m\u001b[0;34m)\u001b[0m\u001b[0;34m:\u001b[0m\u001b[0;34m\u001b[0m\u001b[0;34m\u001b[0m\u001b[0m\n\u001b[0;32m----> 4\u001b[0;31m     \u001b[0mt1\u001b[0m \u001b[0;34m=\u001b[0m \u001b[0mtime\u001b[0m\u001b[0;34m.\u001b[0m\u001b[0mtime\u001b[0m\u001b[0;34m(\u001b[0m\u001b[0;34m)\u001b[0m\u001b[0;34m\u001b[0m\u001b[0;34m\u001b[0m\u001b[0m\n\u001b[0m\u001b[1;32m      5\u001b[0m     \u001b[0mclf\u001b[0m \u001b[0;34m=\u001b[0m \u001b[0mGridSearchCV\u001b[0m\u001b[0;34m(\u001b[0m\u001b[0mclassifier\u001b[0m\u001b[0;34m[\u001b[0m\u001b[0mi\u001b[0m\u001b[0;34m]\u001b[0m\u001b[0;34m,\u001b[0m \u001b[0mparam_grid\u001b[0m\u001b[0;34m=\u001b[0m\u001b[0mclassifier_param\u001b[0m\u001b[0;34m[\u001b[0m\u001b[0mi\u001b[0m\u001b[0;34m]\u001b[0m\u001b[0;34m,\u001b[0m \u001b[0mcv\u001b[0m \u001b[0;34m=\u001b[0m \u001b[0mStratifiedKFold\u001b[0m\u001b[0;34m(\u001b[0m\u001b[0mn_splits\u001b[0m \u001b[0;34m=\u001b[0m \u001b[0;36m10\u001b[0m\u001b[0;34m)\u001b[0m\u001b[0;34m,\u001b[0m \u001b[0mscoring\u001b[0m \u001b[0;34m=\u001b[0m \u001b[0;34m\"accuracy\"\u001b[0m\u001b[0;34m,\u001b[0m \u001b[0mn_jobs\u001b[0m \u001b[0;34m=\u001b[0m \u001b[0;34m-\u001b[0m\u001b[0;36m1\u001b[0m\u001b[0;34m,\u001b[0m\u001b[0mverbose\u001b[0m \u001b[0;34m=\u001b[0m \u001b[0;36m1\u001b[0m\u001b[0;34m)\u001b[0m\u001b[0;34m\u001b[0m\u001b[0;34m\u001b[0m\u001b[0m\n\u001b[1;32m      6\u001b[0m     \u001b[0mclf\u001b[0m\u001b[0;34m.\u001b[0m\u001b[0mfit\u001b[0m\u001b[0;34m(\u001b[0m\u001b[0mX_train\u001b[0m\u001b[0;34m,\u001b[0m\u001b[0my_train\u001b[0m\u001b[0;34m)\u001b[0m\u001b[0;34m\u001b[0m\u001b[0;34m\u001b[0m\u001b[0m\n",
            "\u001b[0;31mNameError\u001b[0m: name 'time' is not defined"
          ]
        }
      ]
    },
    {
      "cell_type": "code",
      "metadata": {
        "execution": {
          "iopub.execute_input": "2021-03-08T22:38:12.476652Z",
          "iopub.status.busy": "2021-03-08T22:38:12.475995Z",
          "iopub.status.idle": "2021-03-08T22:38:12.480295Z",
          "shell.execute_reply": "2021-03-08T22:38:12.479643Z"
        },
        "papermill": {
          "duration": 0.107591,
          "end_time": "2021-03-08T22:38:12.480436",
          "exception": false,
          "start_time": "2021-03-08T22:38:12.372845",
          "status": "completed"
        },
        "tags": [],
        "id": "oBpU_Tcq4KNV",
        "outputId": "5cbdf38c-b5e3-4f4f-ab15-1e39d01e4ffd"
      },
      "source": [
        "votingC = VotingClassifier(estimators = [(\"dt\",best_estimators[0]),\n",
        "                                        (\"rfc\",best_estimators[2]),\n",
        "                                        (\"lr\",best_estimators[3])],\n",
        "                                        voting = \"soft\", n_jobs = -1)\n",
        "votingC = votingC.fit(X_train, y_train)\n",
        "print(f'Ensemble Socre: {round(accuracy_score(votingC.predict(cm_X_test),cm_y_test)*100,2)}%')"
      ],
      "execution_count": null,
      "outputs": [
        {
          "output_type": "error",
          "ename": "NameError",
          "evalue": "name 'VotingClassifier' is not defined",
          "traceback": [
            "\u001b[0;31m---------------------------------------------------------------------------\u001b[0m",
            "\u001b[0;31mNameError\u001b[0m                                 Traceback (most recent call last)",
            "\u001b[0;32m<ipython-input-56-a8fe72c4b48f>\u001b[0m in \u001b[0;36m<module>\u001b[0;34m\u001b[0m\n\u001b[0;32m----> 1\u001b[0;31m votingC = VotingClassifier(estimators = [(\"dt\",best_estimators[0]),\n\u001b[0m\u001b[1;32m      2\u001b[0m                                         \u001b[0;34m(\u001b[0m\u001b[0;34m\"rfc\"\u001b[0m\u001b[0;34m,\u001b[0m\u001b[0mbest_estimators\u001b[0m\u001b[0;34m[\u001b[0m\u001b[0;36m2\u001b[0m\u001b[0;34m]\u001b[0m\u001b[0;34m)\u001b[0m\u001b[0;34m,\u001b[0m\u001b[0;34m\u001b[0m\u001b[0;34m\u001b[0m\u001b[0m\n\u001b[1;32m      3\u001b[0m                                         (\"lr\",best_estimators[3])],\n\u001b[1;32m      4\u001b[0m                                         voting = \"soft\", n_jobs = -1)\n\u001b[1;32m      5\u001b[0m \u001b[0mvotingC\u001b[0m \u001b[0;34m=\u001b[0m \u001b[0mvotingC\u001b[0m\u001b[0;34m.\u001b[0m\u001b[0mfit\u001b[0m\u001b[0;34m(\u001b[0m\u001b[0mX_train\u001b[0m\u001b[0;34m,\u001b[0m \u001b[0my_train\u001b[0m\u001b[0;34m)\u001b[0m\u001b[0;34m\u001b[0m\u001b[0;34m\u001b[0m\u001b[0m\n",
            "\u001b[0;31mNameError\u001b[0m: name 'VotingClassifier' is not defined"
          ]
        }
      ]
    },
    {
      "cell_type": "markdown",
      "metadata": {
        "papermill": {
          "duration": 0.088166,
          "end_time": "2021-03-08T22:38:12.656064",
          "exception": false,
          "start_time": "2021-03-08T22:38:12.567898",
          "status": "completed"
        },
        "tags": [],
        "id": "mVvxLF5r4KNV"
      },
      "source": [
        "<a id=\"conclusion\"></a>\n",
        "# <div align='center'>7. Conclusion\n",
        "👷‍WIP👷‍\n",
        "* Write up\n",
        "* Submissions with different names"
      ]
    },
    {
      "cell_type": "code",
      "metadata": {
        "execution": {
          "iopub.execute_input": "2021-03-08T22:38:12.836476Z",
          "iopub.status.busy": "2021-03-08T22:38:12.835720Z",
          "iopub.status.idle": "2021-03-08T22:38:12.850540Z",
          "shell.execute_reply": "2021-03-08T22:38:12.849925Z"
        },
        "papermill": {
          "duration": 0.107139,
          "end_time": "2021-03-08T22:38:12.850704",
          "exception": false,
          "start_time": "2021-03-08T22:38:12.743565",
          "status": "completed"
        },
        "tags": [],
        "id": "eLyisc844KNW",
        "outputId": "c9c6dbdc-9d61-4a69-cc94-b8db8ba7c5ae"
      },
      "source": [
        "# Predict the outcomes for the test dataset\n",
        "y_hat = votingC.predict(X_test)"
      ],
      "execution_count": null,
      "outputs": [
        {
          "output_type": "error",
          "ename": "NameError",
          "evalue": "name 'votingC' is not defined",
          "traceback": [
            "\u001b[0;31m---------------------------------------------------------------------------\u001b[0m",
            "\u001b[0;31mNameError\u001b[0m                                 Traceback (most recent call last)",
            "\u001b[0;32m<ipython-input-57-321736be519b>\u001b[0m in \u001b[0;36m<module>\u001b[0;34m\u001b[0m\n\u001b[1;32m      1\u001b[0m \u001b[0;31m# Predict the outcomes for the test dataset\u001b[0m\u001b[0;34m\u001b[0m\u001b[0;34m\u001b[0m\u001b[0;34m\u001b[0m\u001b[0m\n\u001b[0;32m----> 2\u001b[0;31m \u001b[0my_hat\u001b[0m \u001b[0;34m=\u001b[0m \u001b[0mvotingC\u001b[0m\u001b[0;34m.\u001b[0m\u001b[0mpredict\u001b[0m\u001b[0;34m(\u001b[0m\u001b[0mX_test\u001b[0m\u001b[0;34m)\u001b[0m\u001b[0;34m\u001b[0m\u001b[0;34m\u001b[0m\u001b[0m\n\u001b[0m",
            "\u001b[0;31mNameError\u001b[0m: name 'votingC' is not defined"
          ]
        }
      ]
    },
    {
      "cell_type": "code",
      "metadata": {
        "execution": {
          "iopub.execute_input": "2021-03-08T22:38:13.031638Z",
          "iopub.status.busy": "2021-03-08T22:38:13.030840Z",
          "iopub.status.idle": "2021-03-08T22:38:13.046865Z",
          "shell.execute_reply": "2021-03-08T22:38:13.046227Z"
        },
        "papermill": {
          "duration": 0.107445,
          "end_time": "2021-03-08T22:38:13.047018",
          "exception": false,
          "start_time": "2021-03-08T22:38:12.939573",
          "status": "completed"
        },
        "tags": [],
        "id": "7Ivs3IK74KNW",
        "outputId": "406a9f6c-83fb-4663-f9fe-c244b23b5cb9"
      },
      "source": [
        "# prepare submission\n",
        "submission_tree = pd.DataFrame({'PassengerID': X_test.index, 'Survived': y_hat})\n",
        "submission_tree.to_csv('voticC_submission.csv', index=False)\n",
        "submission_tree"
      ],
      "execution_count": null,
      "outputs": [
        {
          "output_type": "error",
          "ename": "NameError",
          "evalue": "name 'y_hat' is not defined",
          "traceback": [
            "\u001b[0;31m---------------------------------------------------------------------------\u001b[0m",
            "\u001b[0;31mNameError\u001b[0m                                 Traceback (most recent call last)",
            "\u001b[0;32m<ipython-input-58-a9d0d18b4769>\u001b[0m in \u001b[0;36m<module>\u001b[0;34m\u001b[0m\n\u001b[1;32m      1\u001b[0m \u001b[0;31m# prepare submission\u001b[0m\u001b[0;34m\u001b[0m\u001b[0;34m\u001b[0m\u001b[0;34m\u001b[0m\u001b[0m\n\u001b[0;32m----> 2\u001b[0;31m \u001b[0msubmission_tree\u001b[0m \u001b[0;34m=\u001b[0m \u001b[0mpd\u001b[0m\u001b[0;34m.\u001b[0m\u001b[0mDataFrame\u001b[0m\u001b[0;34m(\u001b[0m\u001b[0;34m{\u001b[0m\u001b[0;34m'PassengerID'\u001b[0m\u001b[0;34m:\u001b[0m \u001b[0mX_test\u001b[0m\u001b[0;34m.\u001b[0m\u001b[0mindex\u001b[0m\u001b[0;34m,\u001b[0m \u001b[0;34m'Survived'\u001b[0m\u001b[0;34m:\u001b[0m \u001b[0my_hat\u001b[0m\u001b[0;34m}\u001b[0m\u001b[0;34m)\u001b[0m\u001b[0;34m\u001b[0m\u001b[0;34m\u001b[0m\u001b[0m\n\u001b[0m\u001b[1;32m      3\u001b[0m \u001b[0msubmission_tree\u001b[0m\u001b[0;34m.\u001b[0m\u001b[0mto_csv\u001b[0m\u001b[0;34m(\u001b[0m\u001b[0;34m'voticC_submission.csv'\u001b[0m\u001b[0;34m,\u001b[0m \u001b[0mindex\u001b[0m\u001b[0;34m=\u001b[0m\u001b[0;32mFalse\u001b[0m\u001b[0;34m)\u001b[0m\u001b[0;34m\u001b[0m\u001b[0;34m\u001b[0m\u001b[0m\n\u001b[1;32m      4\u001b[0m \u001b[0msubmission_tree\u001b[0m\u001b[0;34m\u001b[0m\u001b[0;34m\u001b[0m\u001b[0m\n",
            "\u001b[0;31mNameError\u001b[0m: name 'y_hat' is not defined"
          ]
        }
      ]
    },
    {
      "cell_type": "code",
      "metadata": {
        "papermill": {
          "duration": 0.088714,
          "end_time": "2021-03-08T22:38:13.225759",
          "exception": false,
          "start_time": "2021-03-08T22:38:13.137045",
          "status": "completed"
        },
        "tags": [],
        "id": "yk8PPN8F4KNW"
      },
      "source": [
        ""
      ],
      "execution_count": null,
      "outputs": []
    }
  ]
}