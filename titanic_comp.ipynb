{
  "nbformat": 4,
  "nbformat_minor": 0,
  "metadata": {
    "kernelspec": {
      "language": "python",
      "display_name": "Python 3",
      "name": "python3"
    },
    "language_info": {
      "pygments_lexer": "ipython3",
      "nbconvert_exporter": "python",
      "version": "3.6.4",
      "file_extension": ".py",
      "codemirror_mode": {
        "name": "ipython",
        "version": 3
      },
      "name": "python",
      "mimetype": "text/x-python"
    },
    "colab": {
      "name": "titanic-comp.ipynb",
      "provenance": [],
      "include_colab_link": true
    }
  },
  "cells": [
    {
      "cell_type": "markdown",
      "metadata": {
        "id": "view-in-github",
        "colab_type": "text"
      },
      "source": [
        "<a href=\"https://colab.research.google.com/github/roydupuis/kaggle/blob/main/titanic_comp.ipynb\" target=\"_parent\"><img src=\"https://colab.research.google.com/assets/colab-badge.svg\" alt=\"Open In Colab\"/></a>"
      ]
    },
    {
      "cell_type": "markdown",
      "metadata": {
        "id": "l56Fp3PoxQFl"
      },
      "source": [
        "![titanic](https://www.history.com/.image/ar_233:100%2Cc_fill%2Ccs_srgb%2Cg_faces:center%2Cq_auto:good%2Cw_3840/MTc2NTQ1ODM1NDQwNDgyMDU4/sinking-of-the-titanic-gettyimages-542907919-1.webp)"
      ]
    },
    {
      "cell_type": "markdown",
      "metadata": {
        "id": "KKF3kfCCxQFs"
      },
      "source": [
        "# <div align=\"center\"> Work In Progress 👷‍</div>\n",
        "<div align='center'> This is my first Kaggle competition and is a work in progress. Please comment below if you have any questions or ideas. </div>"
      ]
    },
    {
      "cell_type": "markdown",
      "metadata": {
        "id": "azGUTJ6hxQFt"
      },
      "source": [
        "# Table of Contents\n",
        "<a id='table-of-contents'></a>\n",
        "1. [Overview](#overview)\n",
        "1. [System Setup](#setup)\n",
        "1. [Exploratory Data Analysis](#eda)\n",
        "1. [Preprocessing](#preprocessing)\n",
        "1. [Training Models](#training)\n",
        "1. [Evaluate -> Tune -> Ensemble](#evaluate)\n",
        "1. [Conclusion](#conclusion)\n",
        "\n",
        "**TLDR: I am able to predict surival with 82% accuracy.**"
      ]
    },
    {
      "cell_type": "markdown",
      "metadata": {
        "id": "342tcrPRxQFt"
      },
      "source": [
        "<a id=\"overview\"></a>\n",
        "# <div align='center'>1. Overview\n",
        "## The Challenge\n",
        "The sinking of the Titanic is one of the most infamous shipwrecks in history.\n",
        "\n",
        "On April 15, 1912, during her maiden voyage, the widely considered “unsinkable” RMS Titanic sank after colliding with an iceberg. Unfortunately, there weren’t enough lifeboats for everyone onboard, resulting in the death of 1502 out of 2224 passengers and crew.\n",
        "\n",
        "While there was some element of luck involved in surviving, it seems some groups of people were more likely to survive than others.\n",
        "\n",
        "In this challenge, we ask you to build a predictive model that answers the question: “what sorts of people were more likely to survive?” using passenger data (ie name, age, gender, socio-economic class, etc).\n",
        "\n",
        "## Goal\n",
        "It is your job to predict if a passenger survived the sinking of the Titanic or not.\n",
        "For each in the test set, you must predict a 0 or 1 value for the variable.\n",
        "\n",
        "Metric\n",
        "Your score is the percentage of passengers you correctly predict. This is known as accuracy.\n",
        "\n",
        "Submission File Format\n",
        "You should submit a csv file with exactly 418 entries plus a header row. Your submission will show an error if you have extra columns (beyond PassengerId and Survived) or rows.\n",
        "\n",
        "The file should have exactly 2 columns:\n",
        "\n",
        "PassengerId (sorted in any order)\n",
        "\n",
        "Survived (contains your binary predictions: 1 for survived, 0 for deceased)\n",
        "\n",
        "```\n",
        "PassengerId,Survived\n",
        "892,0\n",
        "893,1\n",
        "894,0\n",
        "Etc.\n",
        "```"
      ]
    },
    {
      "cell_type": "markdown",
      "metadata": {
        "id": "SqiTVpqkxQFu"
      },
      "source": [
        "<a id=\"setup\"></a>\n",
        "# <div align='center'>2. Setup System Environment"
      ]
    },
    {
      "cell_type": "code",
      "metadata": {
        "_uuid": "8f2839f25d086af736a60e9eeb907d3b93b6e0e5",
        "_cell_guid": "b1076dfc-b9ad-4769-8c92-a6c4dae69d19",
        "trusted": true,
        "id": "JhIGMPWTxQFv"
      },
      "source": [
        "# This Python 3 environment comes with many helpful analytics libraries installed\n",
        "# It is defined by the kaggle/python Docker image: https://github.com/kaggle/docker-python\n",
        "# For example, here's several helpful packages to load\n",
        "\n",
        "import numpy as np # linear algebra\n",
        "import pandas as pd # data processing, CSV file I/O (e.g. pd.read_csv)\n",
        "import seaborn as sns\n",
        "import matplotlib.pyplot as plt\n",
        "%matplotlib inline\n",
        "\n",
        "# Input data files are available in the read-only \"../input/\" directory\n",
        "# For example, running this (by clicking run or pressing Shift+Enter) will list all files under the input directory\n",
        "\n",
        "import os\n",
        "for dirname, _, filenames in os.walk('/kaggle/input'):\n",
        "    for filename in filenames:\n",
        "        print(os.path.join(dirname, filename))\n",
        "\n",
        "# You can write up to 20GB to the current directory (/kaggle/working/) that gets preserved as output when you create a version using \"Save & Run All\" \n",
        "# You can also write temporary files to /kaggle/temp/, but they won't be saved outside of the current session"
      ],
      "execution_count": null,
      "outputs": []
    },
    {
      "cell_type": "code",
      "metadata": {
        "trusted": true,
        "id": "HsabaAltxQFw"
      },
      "source": [
        "# Check python system version\n",
        "import sys\n",
        "sys.version"
      ],
      "execution_count": null,
      "outputs": []
    },
    {
      "cell_type": "markdown",
      "metadata": {
        "id": "7M_ciKYaxQFw"
      },
      "source": [
        "<a id=\"eda\"></a>\n",
        "# <div align='center'>3. Exploratory Data Analysis\n",
        "Credits: [Ken Jee](https://www.kaggle.com/kenjee/titanic-project-example), [Emanuele Panizio](https://www.kaggle.com/emanuelepanizio/pytanicnb/notebook), [Ju Liu](https://www.youtube.com/watch?v=fS70iptz-XU&t=2569s]), [Sharlto Cope](https://www.kaggle.com/dwin183287/titanic-machine-learning-from-disaster-eda)\n",
        "\n",
        "References: [Data](https://www.kaggle.com/c/titanic/data)\n",
        "\n",
        "Functions to try out:\n",
        "* create subplots \n",
        "* seaborn and plt plots\n",
        "* sns.barplot\n",
        "* sns.countplot\n",
        "* [sns.histplot](https://seaborn.pydata.org/generated/seaborn.histplot.html)\n",
        "* sns.catplot\n",
        "* sns.displot\n",
        "* pivot_table\n",
        "* plot fares as line and bins"
      ]
    },
    {
      "cell_type": "code",
      "metadata": {
        "trusted": true,
        "id": "AwQaU7GSxQFx"
      },
      "source": [
        "# load the training and test data\n",
        "\n",
        "train = pd.read_csv('/kaggle/input/titanic/train.csv', index_col='PassengerId')\n",
        "test = pd.read_csv('/kaggle/input/titanic/test.csv', index_col='PassengerId')"
      ],
      "execution_count": null,
      "outputs": []
    },
    {
      "cell_type": "code",
      "metadata": {
        "trusted": true,
        "id": "mnSLXO0TxQFx"
      },
      "source": [
        "# inspect the dataframe\n",
        "train.head()"
      ],
      "execution_count": null,
      "outputs": []
    },
    {
      "cell_type": "code",
      "metadata": {
        "trusted": true,
        "id": "Pf7cvcOGxQFy"
      },
      "source": [
        "# inspect the dataframe for entries, columns, missing values, and data types\n",
        "\n",
        "train.info()\n",
        "print('')\n",
        "test.info()"
      ],
      "execution_count": null,
      "outputs": []
    },
    {
      "cell_type": "markdown",
      "metadata": {
        "id": "IFIGFcTIxQFy"
      },
      "source": [
        "### Observations:\n",
        "* ML models must have numerical values to compute, there fore categorical datatype `objects` must be converted to numerical values.\n",
        "* Nan values to address with imputation: `['Age', 'Fare', 'Cabin', 'Embark']`\n",
        "* Nan values to drop: `['Name']`\n",
        "* Test dataset has 1 less column: `['Survived']` which is the target or label"
      ]
    },
    {
      "cell_type": "code",
      "metadata": {
        "trusted": true,
        "id": "TWA4er7AxQFy"
      },
      "source": [
        "# Statistical values for all the numerical categories\n",
        "\n",
        "train.describe()"
      ],
      "execution_count": null,
      "outputs": []
    },
    {
      "cell_type": "markdown",
      "metadata": {
        "id": "GbmpChJixQFz"
      },
      "source": [
        "### Observations\n",
        "* Fare has a wide distribution. Let's dive deeper:\n",
        "    * Viz - histogram, normalize\n",
        "    * Pivot table by various categories: Age, Sex, Survived, Pclass\n",
        "* Create histograms for `['Age', 'SibSp', 'Parch', 'Fare']`to see spread of instances"
      ]
    },
    {
      "cell_type": "code",
      "metadata": {
        "trusted": true,
        "id": "rHvB8Op4xQFz"
      },
      "source": [
        "# list of columns for segmentation\n",
        "\n",
        "train.columns"
      ],
      "execution_count": null,
      "outputs": []
    },
    {
      "cell_type": "code",
      "metadata": {
        "trusted": true,
        "id": "_9wGv1LcxQFz"
      },
      "source": [
        "# split categorical and numerical dataframes for analysis\n",
        "\n",
        "df_num = train[['Age', 'SibSp', 'Parch', 'Fare']]\n",
        "df_cat = train.drop(['Pclass', 'Sex', 'Ticket', 'Cabin', 'Embarked'], axis=1)"
      ],
      "execution_count": null,
      "outputs": []
    },
    {
      "cell_type": "code",
      "metadata": {
        "trusted": true,
        "id": "ay0pvXLExQF0"
      },
      "source": [
        "# shapes of quantitative features\n",
        "train.hist(column=df_num.columns, figsize=(20,4), layout=(1,4))"
      ],
      "execution_count": null,
      "outputs": []
    },
    {
      "cell_type": "code",
      "metadata": {
        "trusted": true,
        "id": "b-pf1kRxxQF0"
      },
      "source": [
        "# plot hist with kernal density edstimation to get an average line\n",
        "fig, ax = plt.subplots(2, 2, figsize=(10, 8))\n",
        "sns.histplot(data=train, x='Age', kde=True, ax=ax[0,0])\n",
        "sns.histplot(data=train, x='SibSp', kde=True, ax=ax[0,1])\n",
        "sns.histplot(data=train, x='Parch', kde=True, ax=ax[1,0])\n",
        "sns.histplot(data=train, x='Fare', kde=True, ax=ax[1,1])"
      ],
      "execution_count": null,
      "outputs": []
    },
    {
      "cell_type": "markdown",
      "metadata": {
        "id": "qhsEBF_bxQF0"
      },
      "source": [
        "### Observations:\n",
        "* Only 'Age' has a somewhat normal distribution. The other values are skewed to the left with longtails to the right. \n",
        "    * Does age group affect the survival rate? Bin by age group\n",
        "    * Most of the population is in their late teens to late 30s.\n",
        "* Most paid a low fare, many are single with no family\n",
        "* Should we normalize these values using a logarithmic method?"
      ]
    },
    {
      "cell_type": "code",
      "metadata": {
        "trusted": true,
        "id": "VxCwlzB5xQF1"
      },
      "source": [
        "# Gender breakdown\n",
        "print(train['Sex'].value_counts())\n",
        "print()\n",
        "print(train['Sex'].value_counts(normalize=True)) #Percentage breakdown"
      ],
      "execution_count": null,
      "outputs": []
    },
    {
      "cell_type": "code",
      "metadata": {
        "trusted": true,
        "id": "UfBdoiw3xQF2"
      },
      "source": [
        "fig, ax = plt.subplots(2, 3, figsize=(15,10))\n",
        "sns.barplot(x='Sex', y='Survived', data=train, ax=ax[0,0])\n",
        "sns.barplot(x='Embarked', y='Survived', data=train, ax=ax[0,1])\n",
        "sns.barplot(x='Pclass', y='Survived', data=train, ax=ax[0,2])\n",
        "sns.barplot(x='SibSp', y='Survived', data=train, ax=ax[1,0])\n",
        "sns.barplot(x='Parch', y='Survived', data=train, ax=ax[1,1])\n",
        "# sns.barplot(x='SibSp', y='Survived', data=train, ax=ax[1,2])"
      ],
      "execution_count": null,
      "outputs": []
    },
    {
      "cell_type": "markdown",
      "metadata": {
        "id": "SUcAoZgfxQF2"
      },
      "source": [
        "### Observations:\n",
        "* Many more females survived\n",
        "* People who embarked from Cherbourg had higher survival rate. Let's explore this further?\n",
        "* First and second class passangers survived better. Due to location of cabins?\n",
        "* Smaller families had higher survival rates,best if you had 1 or 2 other people in your family."
      ]
    },
    {
      "cell_type": "code",
      "metadata": {
        "trusted": true,
        "id": "GkeQArqhxQF2"
      },
      "source": [
        "fig, ax = plt.subplots(1, 2, figsize=(10,4))\n",
        "sns.countplot(x='Sex', data=train, ax=ax[0])\n",
        "sns.countplot(x='Pclass', data=train, ax=ax[1])"
      ],
      "execution_count": null,
      "outputs": []
    },
    {
      "cell_type": "code",
      "metadata": {
        "trusted": true,
        "id": "59ICZJ3bxQF3"
      },
      "source": [
        "fig, ax = plt.subplots(1, 2, figsize=(10,4))\n",
        "sns.countplot(x='Sex', data=train, hue='Survived', ax=ax[0])\n",
        "sns.countplot(x='Pclass', data=train, hue='Survived', ax=ax[1])"
      ],
      "execution_count": null,
      "outputs": []
    },
    {
      "cell_type": "markdown",
      "metadata": {
        "id": "ZrtqX-yixQF3"
      },
      "source": [
        "### Observations:\n",
        "* People were more chivalrous back in then? Or women were better able to negotiate their way on to life boats? Maybe they were with their children?\n",
        "* "
      ]
    },
    {
      "cell_type": "code",
      "metadata": {
        "trusted": true,
        "id": "YCvdMvzYxQF3"
      },
      "source": [
        "columns = ['Sex', 'Pclass', 'Embarked', 'SibSp', 'Parch']\n",
        "for column in columns:\n",
        "    print(pd.pivot_table(train, index='Survived', columns=column, values='Name', aggfunc='count'))\n",
        "    print()"
      ],
      "execution_count": null,
      "outputs": []
    },
    {
      "cell_type": "code",
      "metadata": {
        "trusted": true,
        "id": "MZ5xpCYBxQF4"
      },
      "source": [
        "# Analysis of SES - Pclass survival rates, counts, and averages\n",
        "\n",
        "print('Socio Economic Class - Count')\n",
        "print(train.groupby(['Pclass']).count())\n",
        "print()\n",
        "print('Socio Economic Class - Mean')\n",
        "print(train.groupby(['Pclass']).mean())"
      ],
      "execution_count": null,
      "outputs": []
    },
    {
      "cell_type": "code",
      "metadata": {
        "trusted": true,
        "id": "9kMw56FdxQF4"
      },
      "source": [
        "print('Value Counts')\n",
        "print(pd.pivot_table(train, index='Pclass', columns='Embarked', values='Name', aggfunc='count'))\n",
        "print('')\n",
        "print('Average Fare Amount')\n",
        "print(pd.pivot_table(train, index='Pclass', columns='Embarked', values='Fare', aggfunc='median'))"
      ],
      "execution_count": null,
      "outputs": []
    },
    {
      "cell_type": "code",
      "metadata": {
        "trusted": true,
        "id": "TMmdvM8oxQF4"
      },
      "source": [
        "fig, ax = plt.subplots(1, 2, figsize=(12, 4))\n",
        "sns.boxplot(x='Embarked', y='Fare', data=train, ax=ax[0])\n",
        "sns.boxplot(x='Embarked', y='Age', data=train, ax=ax[1])\n",
        "# sns.boxplot(x='Embarked', y='Age', hue='Sex', data=train, ax=ax[2])\n",
        "\n",
        "ax[0].set_title('Fare Boxplot By Port of Embarkment')\n",
        "ax[1].set_title('Age Distribution Boxplot By Embarkement')"
      ],
      "execution_count": null,
      "outputs": []
    },
    {
      "cell_type": "markdown",
      "metadata": {
        "id": "PDKTieW1xQF5"
      },
      "source": [
        "### Observations:\n",
        "* People from Cherbourg, France are able to pay more money for fare, and support the hypothesis that wealther passengers had a higher chance of survival. \n",
        "* Major outliers for Cherbourg dataset \n",
        "* Wealth matters. Please from 1st class had higher rates of survival, and more people survived rather than drowned compared to the other classes. \n",
        "* You have a higher chance of surviving if you're solo or have 1 family member with you compared to a large family. Maybe it was difficult to choose which family member would survive? Or maybe it was more expensive to have a 1st class cabin and better location to boats?\n",
        "\n"
      ]
    },
    {
      "cell_type": "code",
      "metadata": {
        "trusted": true,
        "id": "w9vlwkPixQF5"
      },
      "source": [
        "cut_labels = ['>10', '11-20', '21-30', '31-40', '41-50', '51-60', '61-70', '71-80']\n",
        "# cut_bins = [0, 70000, 100000, 130000, 200000]\n",
        "cut_df = train\n",
        "cut_df['cut_age'] = pd.cut(cut_df['Age'], bins=8, labels=cut_labels)\n",
        "age_bin_df = cut_df.groupby(['cut_age']).sum()\n",
        "print(type(age_bin_df))\n",
        "age_bin_df"
      ],
      "execution_count": null,
      "outputs": []
    },
    {
      "cell_type": "code",
      "metadata": {
        "trusted": true,
        "id": "M1rK4cXIxQF5"
      },
      "source": [
        "train = train.drop(columns=['cut_age'])"
      ],
      "execution_count": null,
      "outputs": []
    },
    {
      "cell_type": "code",
      "metadata": {
        "trusted": true,
        "id": "ptVXxyarxQF6"
      },
      "source": [
        "g = sns.countplot(data=cut_df, x='cut_age', hue='Survived')\n",
        "g.set_title('Surviors by Age')"
      ],
      "execution_count": null,
      "outputs": []
    },
    {
      "cell_type": "markdown",
      "metadata": {
        "id": "COeShyawxQF6"
      },
      "source": [
        "### Observations:\n",
        "* Survival based on age followed a somewhat normal distribution with a tail to the right with older people.\n",
        "* Young children and infants survived more than died. Probably the mentality of women and children to be saved first. \n",
        "* High rates of survival for people in their 30s, 40s and 50s. \n"
      ]
    },
    {
      "cell_type": "markdown",
      "metadata": {
        "id": "yV_7upDhxQF6"
      },
      "source": [
        "# <div align='center'>Outliers Analysis\n",
        "* Fare\n",
        "* Sibsp\n",
        "* Ticket numbering\n",
        "* Age"
      ]
    },
    {
      "cell_type": "code",
      "metadata": {
        "trusted": true,
        "id": "MnLZSqQoxQF6"
      },
      "source": [
        "def boxplt(column):\n",
        "    sns.set_theme(style='whitegrid')\n",
        "    g = sns.boxplot(x=train[column])\n",
        "    g.set_title(f\"{column} Outlier Boxplot\")\n",
        "    return g "
      ],
      "execution_count": null,
      "outputs": []
    },
    {
      "cell_type": "markdown",
      "metadata": {
        "id": "kL-Vuz1-xQF7"
      },
      "source": [
        "## Fare Outlier Analysis"
      ]
    },
    {
      "cell_type": "code",
      "metadata": {
        "trusted": true,
        "id": "QpnhIMO7xQF7"
      },
      "source": [
        "boxplt('Fare')"
      ],
      "execution_count": null,
      "outputs": []
    },
    {
      "cell_type": "code",
      "metadata": {
        "trusted": true,
        "id": "kJDMuqxtxQF7"
      },
      "source": [
        "train.loc[train['Fare'] > 500]"
      ],
      "execution_count": null,
      "outputs": []
    },
    {
      "cell_type": "markdown",
      "metadata": {
        "id": "CflgSQxgxQF7"
      },
      "source": [
        "### Findings:\n",
        "These outliers paid the princely sum of 512 pounds. In today's pound it would be worth a staggering **58,864 pounds**! (Note: each group had both the same ticket number and fare paid). This was by far the most out of any of the guests. Part of the same group lead by the wealthy Mr. Cardeza - Miss. Ward the maid, and Mr. Lesurer the manservant. They were on their way back to the USA by way of Cherbourg, France. \n",
        "* All similar age\n",
        "* Multiple cabins but interestly all on the 'B' deck. **Could this be the best deck on the ship? We should analyze deck levels for our model.**\n",
        "* **Feature: Cherbourg was the best place to leave if you wanted to survive. We will add this to our list of features for the ML models.**\n",
        "* **Feature: Maybe is there a correlations between 'PC' tickets and survival rate?**\n",
        "\n",
        "To learn more about this group visit this biography of [Miss. Anna Ward](https://www.encyclopedia-titanica.org/titanic-survivor/annie-moore-ward.html)"
      ]
    },
    {
      "cell_type": "markdown",
      "metadata": {
        "id": "ET0LuI77xQF8"
      },
      "source": [
        "### Ticket Number Analysis"
      ]
    },
    {
      "cell_type": "code",
      "metadata": {
        "trusted": true,
        "id": "kfqfEASCxQF8"
      },
      "source": [
        "# The outliers had similar ticket number structures with 'PC'. We find that all tickets with 'PC' had a 65% of survival. \n",
        "\n",
        "ticket_pc_df = train[train['Ticket'].str.match(\"PC\")]\n",
        "print(ticket_pc_df.describe())"
      ],
      "execution_count": null,
      "outputs": []
    },
    {
      "cell_type": "code",
      "metadata": {
        "trusted": true,
        "id": "JGCbl1TzxQF8"
      },
      "source": [
        "# Inspect 1st class ticket structure\n",
        "\n",
        "pclass_df = train.loc[train['Pclass'] == 1]\n",
        "pclass_df.groupby(['Ticket']).mean()"
      ],
      "execution_count": null,
      "outputs": []
    },
    {
      "cell_type": "code",
      "metadata": {
        "trusted": true,
        "id": "WvLuQqNzxQF8"
      },
      "source": [
        "# Inspect patterns for tickets with Letters in 1st class who survived - 'PC' in all but one\n",
        "\n",
        "tickets_df = train.loc[train.Ticket.str.contains('[A-Za-z]')]\n",
        "tickets_df2 = train.copy()\n",
        "tickets_df.loc[train.Pclass == 1].loc[train.Survived == 1]\n",
        "tickets_df2['numeric_ticket'] = train.Ticket.apply(lambda x: 1 if x.isnumeric() else 0)\n",
        "tickets_df2\n",
        "pd.pivot_table(tickets_df2, index='Survived', columns='numeric_ticket', values='Name', aggfunc='count')"
      ],
      "execution_count": null,
      "outputs": []
    },
    {
      "cell_type": "code",
      "metadata": {
        "trusted": true,
        "id": "Nsfp2FuzxQF8"
      },
      "source": [
        "# Simply just having any letter in the 'Ticket' would not help your chance of survival.\n",
        "\n",
        "tickets_df = train.loc[train.Ticket.str.contains('[A-Za-z]')]\n",
        "tickets_df.describe()"
      ],
      "execution_count": null,
      "outputs": []
    },
    {
      "cell_type": "code",
      "metadata": {
        "trusted": true,
        "id": "tCds8yayxQF9"
      },
      "source": [
        "# Analyze tickets with the letters 'P', 'C', or 'A'\n",
        "# Again, we find that 'P' has the highest rate in these numbers for survival but lower than 'PC'\n",
        "\n",
        "letters = ['P', 'C', 'A']\n",
        "for letter in letters:\n",
        "    letter_df = train.loc[train.Ticket.str.contains(letter)]\n",
        "    percent = letter_df.Survived.mean()\n",
        "    count = letter_df.Survived.count()\n",
        "    print(f'Letter {letter}: {round(percent*100, 1)}% survival rate out of {count} tickets')"
      ],
      "execution_count": null,
      "outputs": []
    },
    {
      "cell_type": "markdown",
      "metadata": {
        "id": "q0p2YFszxQF9"
      },
      "source": [
        "## Findings:\n",
        "Tickets with the letter `'PC'` had a **65% survival rate**. Because of this, we should add this as a feature to our model."
      ]
    },
    {
      "cell_type": "markdown",
      "metadata": {
        "id": "dM6e8_ilxQF9"
      },
      "source": [
        "## Sibling or Spouse Outlier Analysis"
      ]
    },
    {
      "cell_type": "code",
      "metadata": {
        "trusted": true,
        "id": "WvaVUK1SxQF9"
      },
      "source": [
        "boxplt('SibSp')"
      ],
      "execution_count": null,
      "outputs": []
    },
    {
      "cell_type": "code",
      "metadata": {
        "trusted": true,
        "id": "g02swvRWxQF-"
      },
      "source": [
        "# We see that the outliers came from 2 families\n",
        "\n",
        "family_df = train.loc[train['SibSp'] > 4]\n",
        "family_df.sort_values('Name')"
      ],
      "execution_count": null,
      "outputs": []
    },
    {
      "cell_type": "code",
      "metadata": {
        "trusted": true,
        "id": "bGBo-fIKxQF-"
      },
      "source": [
        "# The Goodwin family of 6\n",
        "\n",
        "train.loc[train['Ticket'] == 'CA 2144']"
      ],
      "execution_count": null,
      "outputs": []
    },
    {
      "cell_type": "code",
      "metadata": {
        "trusted": true,
        "id": "5ra92742xQF-"
      },
      "source": [
        "# The Sage family of 7\n",
        "\n",
        "train.loc[train['Ticket'] == 'CA. 2343']"
      ],
      "execution_count": null,
      "outputs": []
    },
    {
      "cell_type": "markdown",
      "metadata": {
        "id": "g-X7h7ZLxQF-"
      },
      "source": [
        "## Family Size Outlier Findings:\n",
        "Unforetunately, the Goodwin and Sage families - who had 5 or more members - did not fare well. They all perished. Maybe it's because of their socio economic status. Maybe it's because there was just too many of them to quickly escape to a life boat. Or maybe it's because of their cabin placement. Having a large family was tragic in the Titanic.\n",
        "\n",
        "**Can we bin people by family or not? Maybe people had a higher survival rate if they had fewer family members?**"
      ]
    },
    {
      "cell_type": "code",
      "metadata": {
        "trusted": true,
        "id": "fW3X9ixAxQF_"
      },
      "source": [
        "# Survival rates for group size.\n",
        "\n",
        "train.groupby(['SibSp'])['Survived'].mean()"
      ],
      "execution_count": null,
      "outputs": []
    },
    {
      "cell_type": "markdown",
      "metadata": {
        "id": "4lMApakixQF_"
      },
      "source": [
        "## Age Outlier Analysis"
      ]
    },
    {
      "cell_type": "code",
      "metadata": {
        "trusted": true,
        "id": "i0KwHBHbxQF_"
      },
      "source": [
        "boxplt('Age')"
      ],
      "execution_count": null,
      "outputs": []
    },
    {
      "cell_type": "code",
      "metadata": {
        "trusted": true,
        "id": "PSZkRbnRxQF_"
      },
      "source": [
        "# Inspect passengers Ages 65 and up\n",
        "\n",
        "age_df = train.loc[train['Age'] > 64]\n",
        "age_df.sort_values('Age', ascending=False)"
      ],
      "execution_count": null,
      "outputs": []
    },
    {
      "cell_type": "markdown",
      "metadata": {
        "id": "-E3R0JWYxQF_"
      },
      "source": [
        "## Age Outlier Findings:\n",
        "While it doesn't bode well to be elderly on the Titanic, the eldest person actually survived! He actually was able to buoy himself on his briefcase and a fur coat until he found an overturned lifeboat. To learn more visit the biography of [Mr. Algernon Barkworth](https://www.encyclopedia-titanica.org/titanic-survivor/algernon-barkworth.html)."
      ]
    },
    {
      "cell_type": "markdown",
      "metadata": {
        "id": "sQ6LSkSixQGA"
      },
      "source": [
        "## Title Analysis\n",
        "Here I will look if the title of the passenger had any correlation to surving the Titantic - e.g. Mr., Mrs., etc."
      ]
    },
    {
      "cell_type": "code",
      "metadata": {
        "trusted": true,
        "id": "rNuaJTnmxQGA"
      },
      "source": [
        "title_df = train.copy()\n",
        "title_df['title'] = train.Name.apply(lambda x: x.split(',')[1].split(' ')[1].strip())\n",
        "title_df['title'].value_counts()\n",
        "pd.pivot_table(title_df, index='Survived', columns='title', values='Name', aggfunc='count')"
      ],
      "execution_count": null,
      "outputs": []
    },
    {
      "cell_type": "code",
      "metadata": {
        "trusted": true,
        "id": "pGyANfvgxQGA"
      },
      "source": [
        "title_df2 = title_df.groupby(['title']).mean().reset_index(inplace=False)\n",
        "title_df2 = title_df2.sort_values('Survived', ascending=False)\n",
        "g = sns.barplot(x='title', y='Survived', data=title_df2)\n",
        "g.set_xticklabels(g.get_xticklabels(), rotation=45, horizontalalignment='right')"
      ],
      "execution_count": null,
      "outputs": []
    },
    {
      "cell_type": "code",
      "metadata": {
        "trusted": true,
        "id": "lH6cHtpExQGA"
      },
      "source": [
        "g = sns.barplot(x='title', y='Survived', data=title_df)\n",
        "g.set_xticklabels(g.get_xticklabels(), rotation=45, horizontalalignment='right')"
      ],
      "execution_count": null,
      "outputs": []
    },
    {
      "cell_type": "markdown",
      "metadata": {
        "id": "C50iTF-pxQGB"
      },
      "source": [
        "## Title Findings:\n",
        "* Titles were a fairly good predictor if you survived the Titanic\n",
        "* Female titles faired very well"
      ]
    },
    {
      "cell_type": "markdown",
      "metadata": {
        "id": "QWvt2qOsxQGB"
      },
      "source": [
        "<a id=\"preprocessing\"></a>\n",
        "# <div align='center'>4. Preprocessing Data\n",
        "    \n",
        "The training and test datasets don't have the same attributes after feature engineering. Therefore, I had to be careful about choosing with features to leave in the datasets.\n",
        "    \n",
        "## Feature engineer:\n",
        "* **Ticket lettering** - with 'P' have a 58% chance of survival -> **refer to above code**\n",
        "* **Pclass** Include 1st and 2nd class. Drop 3rd class?\n",
        "* **Age immputation** for continuous data - use mean/median `fillna()`\n",
        "* **Fare and Age scaling/normalization** for ML optimization. Gaussian calculations do not like large variance in values: [article1](https://machinelearningmastery.com/standardscaler-and-minmaxscaler-transforms-in-python/), [article2](https://stackoverflow.com/questions/51237635/difference-between-standard-scaler-and-minmaxscaler)\n",
        "* **Family size SibSp** binning two groups of 1-3, >3\n",
        "* **Name title segregation** - split/strip titles out names: [source](https://pandas.pydata.org/pandas-docs/stable/reference/api/pandas.Series.str.split.html)\n",
        "* **One Hot Encoding** - categorial data must me turned into numerical with [One Hot Encoding or Get Dummies](https://towardsdatascience.com/what-is-one-hot-encoding-and-how-to-use-pandas-get-dummies-function-922eb9bd4970)"
      ]
    },
    {
      "cell_type": "code",
      "metadata": {
        "trusted": true,
        "id": "C_Gq0FNjxQGB"
      },
      "source": [
        "# inspect the column shape and NaN values\n",
        "print('Test Data', test.info())\n",
        "print()\n",
        "print('Train Data', train.info())"
      ],
      "execution_count": null,
      "outputs": []
    },
    {
      "cell_type": "code",
      "metadata": {
        "trusted": true,
        "id": "dbjJoKvMxQGB"
      },
      "source": [
        "from sklearn.preprocessing import StandardScaler, MinMaxScaler\n",
        "scaler = MinMaxScaler()\n",
        "\n",
        "# cabin - will we do this feature??\n",
        "\n",
        "# name titles\n",
        "train['title'] = train.Name.apply(lambda x: x.split(',')[1].split(' ')[1].strip())\n",
        "test['title'] = test.Name.apply(lambda x: x.split(',')[1].split(' ')[1].strip())\n",
        "\n",
        "# age and fare imputation w/ median to acccount for outliers\n",
        "# scale\n",
        "train.Age = train.Age.fillna(train.Age.median())\n",
        "test.Age = test.Age.fillna(test.Age.median())\n",
        "test.Fare = test.Fare.fillna(test.Fare.mean())\n",
        "\n",
        "# created dummy variables from categories (also can use OneHotEncoder)\n",
        "# sex, embarked, pclass, title get dummies\n",
        "train = pd.get_dummies(train, columns=['Sex', 'Pclass', 'Embarked', 'title', 'SibSp', 'Parch'])\n",
        "test = pd.get_dummies(test, columns=['Sex', 'Pclass', 'Embarked', 'title', 'SibSp', 'Parch'])\n",
        "\n",
        "# numeric tickets\n",
        "# tickets with 'PC'\n",
        "train['numeric_ticket'] = train.Ticket.apply(lambda x: 1 if x.isnumeric() else 0)\n",
        "train['pc_ticket'] = train['Ticket'].str.match(\"PC\").apply(lambda x: 1 if True else 0)\n",
        "test['numeric_ticket'] = test.Ticket.apply(lambda x: 1 if x.isnumeric() else 0)\n",
        "test['pc_ticket'] = test['Ticket'].str.match(\"PC\").apply(lambda x: 1 if True else 0)\n",
        "\n",
        "# age normalized\n",
        "train['age_norm'] = scaler.fit_transform(train[['Age']])\n",
        "test['age_norm'] = scaler.fit_transform(test[['Age']])\n",
        "\n",
        "# fare normalized\n",
        "train['fare_norm'] = scaler.fit_transform(train[['Fare']])\n",
        "test['fare_norm'] = scaler.fit_transform(test[['Fare']])"
      ],
      "execution_count": null,
      "outputs": []
    },
    {
      "cell_type": "markdown",
      "metadata": {
        "id": "-Sekx7VkxQGC"
      },
      "source": [
        "## Create the X_train, X_test, and y_train Datasets"
      ]
    },
    {
      "cell_type": "code",
      "metadata": {
        "trusted": true,
        "id": "VaEyhiYtxQGC"
      },
      "source": [
        "# Create the training and test datasets\n",
        "X_train = train.drop(columns=['Survived', 'Fare', 'Name', 'Age', 'Ticket', 'Cabin', 'title_Mme.', 'title_the', 'title_Sir.', 'title_Mlle.', 'title_Major.', 'title_Lady.', 'title_Jonkheer.', 'title_Don.', 'title_Capt.'])\n",
        "X_test = test.drop(columns=['Fare', 'Name', 'Age', 'Ticket', 'Cabin', 'title_Dona.', 'Parch_9'])\n",
        "y_train = train['Survived']\n",
        "print(f'y_train.shape: {y_train.shape}')\n",
        "print(f'X_train.shape: {X_train.shape}')\n",
        "print(f'X_test.shape: {X_test.shape}')\n",
        "print('X_train Columns:', X_train.columns)\n",
        "print('X_test Columns:', X_test.columns)"
      ],
      "execution_count": null,
      "outputs": []
    },
    {
      "cell_type": "code",
      "metadata": {
        "trusted": true,
        "id": "KRpp9nAexQGC"
      },
      "source": [
        "# inspect the X_train dataset\n",
        "X_train.head(3)"
      ],
      "execution_count": null,
      "outputs": []
    },
    {
      "cell_type": "markdown",
      "metadata": {
        "trusted": true,
        "id": "vrh8lkNSxQGC"
      },
      "source": [
        "<a id=\"training\"></a>\n",
        "# <div align='center'>5. Train Model\n",
        "\n",
        "\n",
        "**The highest out of the box, cross-validated model: LogisticRegression %81.59 Accuracy** \n",
        "\n",
        "Using 'Cross Validation' to find the average scores for each alogrithm. This will help to prevent scores from seeming to overfit. \n",
        "* [sklearn cross-validation](https://scikit-learn.org/stable/modules/cross_validation.html)\n",
        "* [Plotting the confusion matrix](https://scikit-learn.org/stable/modules/generated/sklearn.metrics.plot_confusion_matrix.html#sklearn.metrics.plot_confusion_matrix)\n",
        "* [Precision and Recall](https://scikit-learn.org/stable/auto_examples/model_selection/plot_precision_recall.html)\n",
        "\n",
        "I will test 5 different ML models to baseline prediction accuracy:\n",
        "* [Decision Tree](https://scikit-learn.org/stable/modules/tree.html)\n",
        "* [Random Forest](https://scikit-learn.org/stable/modules/ensemble.html)\n",
        "* [Logistic Regression](https://www.analyticsvidhya.com/blog/2018/05/improve-model-performance-cross-validation-in-python-r/) - I use a logistic versus a linear regression because our problem is a binary classification. A sigmoid line is preferencial to that of a straight one.\n",
        "* [K Nearest Neighbor](https://scikit-learn.org/stable/modules/neighbors.html)\n",
        "* [Naive Bayes](https://scikit-learn.org/stable/modules/naive_bayes.html)\n",
        "* [XGBoost](https://machinelearningmastery.com/develop-first-xgboost-model-python-scikit-learn/) - I decided to try out XGBoost instead of the ScikitLearn version of gradient boosting because: A. I haven't tried either and B. The reviews say this is efficient. \n",
        "\n",
        "``` \n",
        "import graphviz \n",
        "dot_data = tree.export_graphviz(clf, out_file=None) \n",
        "graph = graphviz.Source(dot_data) \n",
        "graph.render(\"iris\") \n",
        "```"
      ]
    },
    {
      "cell_type": "code",
      "metadata": {
        "trusted": true,
        "id": "JK6Sw6xWxQGD"
      },
      "source": [
        "# Import machine learning libraries\n",
        "from sklearn.model_selection import cross_val_score, GridSearchCV, StratifiedKFold\n",
        "from sklearn.metrics import plot_confusion_matrix, accuracy_score\n",
        "from sklearn.metrics import precision_score, recall_score, f1_score\n",
        "from sklearn.linear_model import LogisticRegression\n",
        "from sklearn.tree import DecisionTreeClassifier\n",
        "from sklearn.ensemble import RandomForestClassifier, GradientBoostingClassifier, VotingClassifier\n",
        "from sklearn.neighbors import KNeighborsClassifier\n",
        "from sklearn.naive_bayes import GaussianNB\n",
        "from xgboost import XGBClassifier \n",
        "import time"
      ],
      "execution_count": null,
      "outputs": []
    },
    {
      "cell_type": "code",
      "metadata": {
        "trusted": true,
        "id": "TWd7L2-AxQGD"
      },
      "source": [
        "# create function to output scores for each model\n",
        "\n",
        "def clf_scoring(clf):\n",
        "    clf = clf.fit(X_train, y_train)\n",
        "    cv_score = cross_val_score(clf, X_train, y_train, cv=5)\n",
        "    clf_id = clf.__class__.__name__\n",
        "    print(f'Model: {clf}')\n",
        "    print('single pass score:', round(clf.score(X_train, y_train)*100, 2))\n",
        "    print('k-fold scores:', cv_score)\n",
        "    print(f'cross-validated score: {round(cv_score.mean()*100, 2)} std+/- {cv_score.std()}')\n",
        "    print()\n",
        "    return dict({\n",
        "        'id': clf_id, 'score roc_auc': cv_score.mean(), 'singe pass score': clf.score(X_train, y_train), \n",
        "        'std': cv_score.std(), 'model': clf, 'params': clf.get_params()\n",
        "    })"
      ],
      "execution_count": null,
      "outputs": []
    },
    {
      "cell_type": "code",
      "metadata": {
        "trusted": true,
        "id": "oi0i4tyrxQGD"
      },
      "source": [
        "clfs = [DecisionTreeClassifier(), RandomForestClassifier(), \n",
        "        LogisticRegression(), KNeighborsClassifier(), \n",
        "        GaussianNB()] # XGBClassifier() funny error, will wait to do it later\n",
        "clf_outputs = []\n",
        "for model in clfs:\n",
        "    clf_outputs.append(clf_scoring(model))"
      ],
      "execution_count": null,
      "outputs": []
    },
    {
      "cell_type": "code",
      "metadata": {
        "trusted": true,
        "id": "wF0_MXCoxQGD"
      },
      "source": [
        "# Sorted ML models based on ROC_AUC or cross-validated score\n",
        "\n",
        "clf_df = pd.DataFrame(clf_outputs)\n",
        "clf_df.sort_values('score roc_auc', ascending=False)"
      ],
      "execution_count": null,
      "outputs": []
    },
    {
      "cell_type": "code",
      "metadata": {
        "trusted": true,
        "id": "ezY85k8cxQGD"
      },
      "source": [
        "clf_df.loc[1, 'model']"
      ],
      "execution_count": null,
      "outputs": []
    },
    {
      "cell_type": "code",
      "metadata": {
        "trusted": true,
        "id": "2AulQcYzxQGE"
      },
      "source": [
        "# Best baseline model for submission\n",
        "params = clf_df.loc[2].params\n",
        "clf = LogisticRegression(**params).fit(X_train, y_train)"
      ],
      "execution_count": null,
      "outputs": []
    },
    {
      "cell_type": "code",
      "metadata": {
        "trusted": true,
        "id": "ZkY8-QZoxQGE"
      },
      "source": [
        "# Confusion Matrix\n",
        "\n",
        "from sklearn.model_selection import train_test_split\n",
        "\n",
        "cm_X_train, cm_X_test, cm_y_train, cm_y_test = train_test_split(\n",
        "    X_train, y_train, train_size=.7, random_state=0)\n",
        "\n",
        "clf_cm = LogisticRegression(**params).fit(cm_X_train, cm_y_train)\n",
        "cm_y_hat = clf.predict(cm_X_test)\n",
        "\n",
        "precision = round(precision_score(cm_y_test, cm_y_hat, average='binary')*100, 2)\n",
        "recall = round(recall_score(cm_y_test, cm_y_hat, average='binary')*100, 2)\n",
        "f1 = round(f1_score(cm_y_test, cm_y_hat, average='binary')*100, 2)\n",
        "\n",
        "print('LogisticRegression Model')\n",
        "print(f'Precision score: %{precision}')\n",
        "print(f'Recall score: %{recall}')\n",
        "print(f'F1 score: %{f1}')\n",
        "print('')\n",
        "print(f'Confusion Matrix {plot_confusion_matrix(clf_cm, cm_X_test, cm_y_test)}')  "
      ],
      "execution_count": null,
      "outputs": []
    },
    {
      "cell_type": "code",
      "metadata": {
        "trusted": true,
        "id": "WeVrH7DixQGE"
      },
      "source": [
        "rf = RandomForestClassifier()\n",
        "rf = rf.fit(X_train, y_train)\n",
        "# .best_estimator_.fit(X_train,y_train)\n",
        "feat_importances = pd.Series(rf.feature_importances_, index=X_train.columns)\n",
        "feat_importances.nlargest(20).plot(kind='barh')\n",
        "\n",
        "# clf = clf.fit(X_train, y_train)\n",
        "# cv_score = cross_val_score(clf, X_train, y_train, cv=5)"
      ],
      "execution_count": null,
      "outputs": []
    },
    {
      "cell_type": "markdown",
      "metadata": {
        "id": "YmZtCkDQxQGE"
      },
      "source": [
        "* [feature importances](https://scikit-learn.org/stable/auto_examples/ensemble/plot_forest_importances.html)"
      ]
    },
    {
      "cell_type": "markdown",
      "metadata": {
        "id": "l5vzaA42xQGF"
      },
      "source": [
        "<a id=\"evaluate\"></a>\n",
        "# <div align='center'>6. Evaluate -> Tune -> Ensemble\n",
        "* [gridsearch](https://scikit-learn.org/stable/modules/grid_search.html)\n",
        "* [RandomizedSearchCV](https://scikit-learn.org/stable/modules/generated/sklearn.model_selection.RandomizedSearchCV.html)\n",
        "* ensembles - hard and soft voting: [sklearn ensemble overview](https://scikit-learn.org/stable/modules/ensemble.html), [VotingClassifier](https://scikit-learn.org/stable/modules/generated/sklearn.ensemble.VotingClassifier.html)"
      ]
    },
    {
      "cell_type": "code",
      "metadata": {
        "trusted": true,
        "id": "RK4YtAFKxQGF"
      },
      "source": [
        "dt = DecisionTreeClassifier()\n",
        "rf = RandomForestClassifier()\n",
        "lr = LogisticRegression()\n",
        "knn = KNeighborsClassifier()\n",
        "gnb = GaussianNB()"
      ],
      "execution_count": null,
      "outputs": []
    },
    {
      "cell_type": "code",
      "metadata": {
        "trusted": true,
        "id": "rOHcb1YVxQGF"
      },
      "source": [
        "random_state = 42\n",
        "classifier = [DecisionTreeClassifier(random_state = random_state),\n",
        "             RandomForestClassifier(random_state = random_state),\n",
        "             LogisticRegression(random_state = random_state),\n",
        "             KNeighborsClassifier()]\n",
        "\n",
        "dt_param_grid = {\"min_samples_split\" : range(10,500,20),\n",
        "    \"max_depth\": range(1,20,2)}\n",
        "\n",
        "rf_param_grid = {\"max_features\": [1,3,10],\n",
        "                \"min_samples_split\":[2,3,10],\n",
        "                \"min_samples_leaf\":[1,3,10],\n",
        "                \"bootstrap\":[False],\n",
        "                \"n_estimators\":[100,300],\n",
        "                \"criterion\":[\"gini\"]}\n",
        "\n",
        "logreg_param_grid = {\"C\":np.logspace(-3,3,7),\n",
        "                    \"penalty\": [\"l1\",\"l2\"]}\n",
        "\n",
        "knn_param_grid = {\"n_neighbors\": np.linspace(1,19,10, dtype = int).tolist(),\n",
        "                 \"weights\": [\"uniform\",\"distance\"],\n",
        "                 \"metric\":[\"euclidean\",\"manhattan\"]}\n",
        "classifier_param = [dt_param_grid,\n",
        "                   rf_param_grid,\n",
        "                   logreg_param_grid,\n",
        "                   knn_param_grid]"
      ],
      "execution_count": null,
      "outputs": []
    },
    {
      "cell_type": "code",
      "metadata": {
        "trusted": true,
        "id": "8AfgOVluxQGF"
      },
      "source": [
        "cv_result = []\n",
        "best_estimators = []\n",
        "for i in range(len(classifier)):\n",
        "    t1 = time.time()\n",
        "    clf = GridSearchCV(classifier[i], param_grid=classifier_param[i], cv = StratifiedKFold(n_splits = 10), scoring = \"accuracy\", n_jobs = -1,verbose = 1)\n",
        "    clf.fit(X_train,y_train)\n",
        "    cv_result.append(clf.best_score_)\n",
        "    best_estimators.append(clf.best_estimator_)\n",
        "    t2 = time.time()\n",
        "    print(classifier[i])\n",
        "    print(f'Time elapsed: {round(t2-t1, 2)} seconds')\n",
        "    print(f'Score: {round(cv_result[i]*100, 2)}%')\n",
        "    print('')"
      ],
      "execution_count": null,
      "outputs": []
    },
    {
      "cell_type": "code",
      "metadata": {
        "trusted": true,
        "id": "d2FYXONkxQGF"
      },
      "source": [
        "votingC = VotingClassifier(estimators = [(\"dt\",best_estimators[0]),\n",
        "                                        (\"rfc\",best_estimators[2]),\n",
        "                                        (\"lr\",best_estimators[3])],\n",
        "                                        voting = \"soft\", n_jobs = -1)\n",
        "votingC = votingC.fit(X_train, y_train)\n",
        "print(f'Ensemble Socre: {round(accuracy_score(votingC.predict(cm_X_test),cm_y_test)*100,2)}%')"
      ],
      "execution_count": null,
      "outputs": []
    },
    {
      "cell_type": "markdown",
      "metadata": {
        "id": "m3cV8vpQxQGG"
      },
      "source": [
        "<a id=\"conclusion\"></a>\n",
        "# <div align='center'>7. Conclusion\n",
        "* Write up\n",
        "* Submissions with different names"
      ]
    },
    {
      "cell_type": "code",
      "metadata": {
        "trusted": true,
        "id": "O4g0FV2uxQGG"
      },
      "source": [
        "# Predict the outcomes for the test dataset\n",
        "y_hat = votingC.predict(X_test)"
      ],
      "execution_count": null,
      "outputs": []
    },
    {
      "cell_type": "code",
      "metadata": {
        "trusted": true,
        "id": "qNqS_XTGxQGG"
      },
      "source": [
        "# prepare submission\n",
        "submission_tree = pd.DataFrame({'PassengerID': X_test.index, 'Survived': y_hat})\n",
        "submission_tree.to_csv('voticC_submission.csv', index=False)\n",
        "submission_tree"
      ],
      "execution_count": null,
      "outputs": []
    },
    {
      "cell_type": "code",
      "metadata": {
        "trusted": true,
        "id": "pojvnKqpxQGG"
      },
      "source": [
        ""
      ],
      "execution_count": null,
      "outputs": []
    }
  ]
}